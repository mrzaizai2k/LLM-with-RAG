{
 "cells": [
  {
   "cell_type": "code",
   "execution_count": 1,
   "metadata": {},
   "outputs": [
    {
     "name": "stdout",
     "output_type": "stream",
     "text": [
      "/home/mrzaizai2k/code_Bao/LLM-with-RAG/notebook\n"
     ]
    }
   ],
   "source": [
    "import os\n",
    "try:\n",
    "    print(file_path)\n",
    "except:\n",
    "    file_path = os.path.abspath('')\n",
    "    os.chdir(os.path.dirname(file_path))\n",
    "    print(file_path)"
   ]
  },
  {
   "cell_type": "code",
   "execution_count": 2,
   "metadata": {},
   "outputs": [],
   "source": [
    "# from langchain_text_splitters import NLTKTextSplitter, SpacyTextSplitter\n",
    "# from langchain.text_splitter import RecursiveCharacterTextSplitter\n",
    "from langchain_community.document_loaders import (BSHTMLLoader, \n",
    "                                                  DirectoryLoader, \n",
    "                                                  Docx2txtLoader, \n",
    "                                                  NewsURLLoader, \n",
    "                                                  PyPDFLoader, \n",
    "                                                  PyMuPDFLoader,\n",
    "                                                  MathpixPDFLoader,\n",
    "                                                  RecursiveUrlLoader, \n",
    "                                                  SeleniumURLLoader, \n",
    "                                                  TextLoader, \n",
    "                                                  UnstructuredHTMLLoader,\n",
    "                                                UnstructuredImageLoader,\n",
    "                                                UnstructuredPowerPointLoader, \n",
    "                                                UnstructuredURLLoader, \n",
    "                                                UnstructuredWordDocumentLoader, \n",
    "                                                YoutubeLoader)\n",
    "from langchain_text_splitters import RecursiveCharacterTextSplitter, TokenTextSplitter, NLTKTextSplitter, SpacyTextSplitter\n",
    "import pymupdf\n",
    "\n",
    "import os\n",
    "import torch\n",
    "import re\n",
    "from PIL import Image\n",
    "from natsort import natsorted\n",
    "import shutil\n",
    "from transformers import NougatProcessor, VisionEncoderDecoderModel, pipeline\n",
    "from src.utils import *"
   ]
  },
  {
   "cell_type": "code",
   "execution_count": 3,
   "metadata": {},
   "outputs": [
    {
     "name": "stdout",
     "output_type": "stream",
     "text": [
      "Selected device: cuda\n"
     ]
    }
   ],
   "source": [
    "device = take_device()"
   ]
  },
  {
   "cell_type": "code",
   "execution_count": 4,
   "metadata": {},
   "outputs": [],
   "source": [
    "data = config_parser(data_config_path = 'config/data_config.yaml')"
   ]
  },
  {
   "cell_type": "code",
   "execution_count": 5,
   "metadata": {},
   "outputs": [],
   "source": [
    "# embeddings=HuggingFaceEmbeddings(model_name=model_config.get('embedding_model'),\n",
    "#                                         model_kwargs={'device':take_device()})"
   ]
  },
  {
   "cell_type": "code",
   "execution_count": 6,
   "metadata": {},
   "outputs": [],
   "source": [
    "pdf_path = \"data/web_data/introduction to algo4 new.pdf\"\n",
    "loader = PyMuPDFLoader(pdf_path)\n",
    "ori_text = loader.load()\n",
    "ori_text = combine_short_doc(ori_text, 100)"
   ]
  },
  {
   "cell_type": "code",
   "execution_count": 7,
   "metadata": {},
   "outputs": [
    {
     "data": {
      "text/plain": [
       "Document(page_content='8 \\nChapter 1 The Role of Algorithms in Computing \\n\\ue001 \\nGiven a mechanical design in terms of a library of parts, where each part may \\ninclude instances of other parts, list the parts in order so that each part appears \\nbefore any part that uses it. If the design comprises n parts, then there are nŠ \\npossible orders, where nŠ denotes the factorial function. Because the factorial \\nfunction grows faster than even an exponential function, you cannot feasibly \\ngenerate each possible order and then verify that, within that order, each part \\nappears before the parts using it (unless you have only a few parts). This prob- \\nlem is an instance of topological sorting, and Chapter 20 shows how to solve \\nthis problem efûciently. \\n\\ue001 \\nA doctor needs to determine whether an image represents a cancerous tumor or \\na benign one. The doctor has available images of many other tumors, some of \\nwhich are known to be cancerous and some of which are known to be benign. \\nA cancerous tumor is likely to be more similar to other cancerous tumors than \\nto benign tumors, and a benign tumor is more likely to be similar to other be- \\nnign tumors. By using a clustering algorithm, as in Chapter 33, the doctor can \\nidentify which outcome is more likely. \\n\\ue001 \\nYou need to compress a large ûle containing text so that it occupies less space. \\nMany ways to do so are known, including <LZW compression,= which looks for \\nrepeating character sequences. Chapter 15 studies a different approach, <Huff- \\nman coding,= which encodes characters by bit sequences of various lengths, \\nwith characters occurring more frequently encoded by shorter bit sequences. \\nThese lists are far from exhaustive (as you again have probably surmised from \\nthis book’s heft), but they exhibit two characteristics common to many interesting \\nalgorithmic problems: \\n1. They have many candidate solutions, the overwhelming majority of which do \\nnot solve the problem at hand. Finding one that does, or one that is <best,= with- \\nout explicitly examining each possible solution, can present quite a challenge. \\n2. They have practical applications. Of the problems in the above list, ûnding the \\nshortest path provides the easiest examples. A transportation ûrm, such as a \\ntrucking or railroad company, has a ûnancial interest in ûnding shortest paths \\nthrough a road or rail network because taking shorter paths results in lower \\nlabor and fuel costs. Or a routing node on the internet might need to ûnd the \\nshortest path through the network in order to route a message quickly. Or a \\nperson wishing to drive from New York to Boston might want to ûnd driving \\ndirections using a navigation app. \\nNot every problem solved by algorithms has an easily identiûed set of candi- \\ndate solutions. For example, given a set of numerical values representing samples \\nof a signal taken at regular time intervals, the discrete Fourier transform converts \\n', metadata={'source': 'data/web_data/introduction to algo4 new.pdf', 'file_path': 'data/web_data/introduction to algo4 new.pdf', 'page': 29, 'total_pages': 1312, 'format': 'PDF 1.4', 'title': '', 'author': '', 'subject': '', 'keywords': '', 'creator': '', 'producer': '', 'creationDate': '', 'modDate': '', 'trapped': ''})"
      ]
     },
     "execution_count": 7,
     "metadata": {},
     "output_type": "execute_result"
    }
   ],
   "source": [
    "ori_text[22]"
   ]
  },
  {
   "cell_type": "code",
   "execution_count": 8,
   "metadata": {},
   "outputs": [],
   "source": [
    "# for x in dir(loader):\n",
    "#     if not x.startswith(\"_\"):\n",
    "#         print(x)"
   ]
  },
  {
   "cell_type": "code",
   "execution_count": 9,
   "metadata": {},
   "outputs": [],
   "source": [
    "class MathEquation:\n",
    "    def __init__(self, num1, num2, operator):\n",
    "        pass"
   ]
  },
  {
   "cell_type": "code",
   "execution_count": 10,
   "metadata": {},
   "outputs": [
    {
     "data": {
      "text/plain": [
       "Document(page_content='xiv \\nPreface \\nThe text is intended primarily for use in undergraduate or graduate courses in \\nalgorithms or data structures. Because it discusses engineering issues in algorithm \\ndesign, as well as mathematical aspects, it is equally well suited for self-study by \\ntechnical professionals. \\nIn this, the fourth edition, we have once again updated the entire book. The \\nchanges cover a broad spectrum, including new chapters and sections, color illus- \\ntrations, and what we hope you’ll ûnd to be a more engaging writing style. \\nTo the teacher \\nWe have designed this book to be both versatile and complete. You should ûnd it \\nuseful for a variety of courses, from an undergraduate course in data structures up \\nthrough a graduate course in algorithms. Because we have provided considerably \\nmore material than can ût in a typical one-term course, you can select the material \\nthat best supports the course you wish to teach. \\nYou should ûnd it easy to organize your course around just the chapters you \\nneed. We have made chapters relatively self-contained, so that you need not \\nworry about an unexpected and unnecessary dependence of one chapter on an- \\nother. Whereas in an undergraduate course, you might use only some sections \\nfrom a chapter, in a graduate course, you might cover the entire chapter. \\nWe have included 931 exercises and 162 problems. Each section ends with exer- \\ncises, and each chapter ends with problems. The exercises are generally short ques- \\ntions that test basic mastery of the material. Some are simple self-check thought \\nexercises, but many are substantial and suitable as assigned homework. The prob- \\nlems include more elaborate case studies which often introduce new material. They \\noften consist of several parts that lead the student through the steps required to ar- \\nrive at a solution. \\nAs with the third edition of this book, we have made publicly available solutions \\nto some, but by no means all, of the problems and exercises. You can ûnd these so- \\nlutions on our website, http://mitpress.mit.edu/algorithms/. You will want to check \\nthis site to see whether it contains the solution to an exercise or problem that you \\nplan to assign. Since the set of solutions that we post might grow over time, we \\nrecommend that you check the site each time you teach the course. \\nWe have starred (?) the sections and exercises that are more suitable for graduate \\nstudents than for undergraduates. A starred section is not necessarily more difû- \\ncult than an unstarred one, but it may require an understanding of more advanced \\nmathematics. Likewise, starred exercises may require an advanced background or \\nmore than average creativity. \\n', metadata={'source': 'data/web_data/introduction to algo4 new.pdf', 'file_path': 'data/web_data/introduction to algo4 new.pdf', 'page': 15, 'total_pages': 1312, 'format': 'PDF 1.4', 'title': '', 'author': '', 'subject': '', 'keywords': '', 'creator': '', 'producer': '', 'creationDate': '', 'modDate': '', 'trapped': ''})"
      ]
     },
     "execution_count": 10,
     "metadata": {},
     "output_type": "execute_result"
    }
   ],
   "source": [
    "ori_text[10]"
   ]
  },
  {
   "cell_type": "code",
   "execution_count": 11,
   "metadata": {},
   "outputs": [
    {
     "name": "stdout",
     "output_type": "stream",
     "text": [
      "False\n"
     ]
    }
   ],
   "source": [
    "def is_latex_format(doc):\n",
    "    # Check if doc.metadata exists and is a dictionary\n",
    "    if not hasattr(doc, 'metadata') or not isinstance(doc.metadata, dict):\n",
    "        return False\n",
    "    \n",
    "    # Check for \"tex\" in any metadata value (case-insensitive)\n",
    "    return any(\"tex\" in str(value).lower() for value in doc.metadata.values())\n",
    "\n",
    "\n",
    "print(is_latex_format(ori_text[10]))           "
   ]
  },
  {
   "cell_type": "code",
   "execution_count": 12,
   "metadata": {},
   "outputs": [],
   "source": [
    "text_list = [txt.page_content for txt in ori_text]"
   ]
  },
  {
   "cell_type": "code",
   "execution_count": 13,
   "metadata": {},
   "outputs": [
    {
     "name": "stdout",
     "output_type": "stream",
     "text": [
      "Selected device: cuda\n"
     ]
    }
   ],
   "source": [
    "# Use a pipeline as a high-level helper\n",
    "\n",
    "pipe = pipeline(\"text-classification\", model=\"CrissWang/bert-math\", torch_dtype=torch.float16, device = take_device())"
   ]
  },
  {
   "cell_type": "code",
   "execution_count": 14,
   "metadata": {},
   "outputs": [
    {
     "name": "stdout",
     "output_type": "stream",
     "text": [
      "[{'label': 'Not Math', 'score': 1.0}, {'label': 'Not Math', 'score': 1.0}, {'label': 'Not Math', 'score': 1.0}, {'label': 'Not Math', 'score': 1.0}, {'label': 'Not Math', 'score': 0.9921875}, {'label': 'Not Math', 'score': 0.994140625}, {'label': 'Not Math', 'score': 0.998046875}, {'label': 'Not Math', 'score': 0.986328125}, {'label': 'Not Math', 'score': 0.97607421875}, {'label': 'Not Math', 'score': 1.0}, {'label': 'Not Math', 'score': 1.0}, {'label': 'Not Math', 'score': 1.0}, {'label': 'Not Math', 'score': 1.0}, {'label': 'Not Math', 'score': 1.0}, {'label': 'Not Math', 'score': 1.0}, {'label': 'Not Math', 'score': 1.0}, {'label': 'Not Math', 'score': 1.0}, {'label': 'Not Math', 'score': 1.0}, {'label': 'Not Math', 'score': 1.0}, {'label': 'Not Math', 'score': 1.0}, {'label': 'Not Math', 'score': 1.0}, {'label': 'Not Math', 'score': 1.0}, {'label': 'Not Math', 'score': 1.0}, {'label': 'Not Math', 'score': 1.0}, {'label': 'Not Math', 'score': 1.0}, {'label': 'Not Math', 'score': 1.0}, {'label': 'Not Math', 'score': 1.0}, {'label': 'Not Math', 'score': 1.0}, {'label': 'Not Math', 'score': 1.0}, {'label': 'Not Math', 'score': 1.0}, {'label': 'Not Math', 'score': 1.0}, {'label': 'Not Math', 'score': 1.0}, {'label': 'Not Math', 'score': 1.0}, {'label': 'Not Math', 'score': 0.955078125}, {'label': 'Math', 'score': 0.97998046875}, {'label': 'Not Math', 'score': 1.0}, {'label': 'Not Math', 'score': 1.0}, {'label': 'Not Math', 'score': 1.0}, {'label': 'Not Math', 'score': 1.0}, {'label': 'Not Math', 'score': 1.0}, {'label': 'Not Math', 'score': 1.0}, {'label': 'Not Math', 'score': 1.0}, {'label': 'Not Math', 'score': 1.0}, {'label': 'Not Math', 'score': 1.0}, {'label': 'Math', 'score': 1.0}, {'label': 'Math', 'score': 1.0}, {'label': 'Not Math', 'score': 1.0}, {'label': 'Not Math', 'score': 1.0}, {'label': 'Not Math', 'score': 1.0}, {'label': 'Not Math', 'score': 1.0}, {'label': 'Math', 'score': 0.9921875}, {'label': 'Math', 'score': 1.0}, {'label': 'Not Math', 'score': 1.0}, {'label': 'Not Math', 'score': 0.9970703125}, {'label': 'Math', 'score': 1.0}, {'label': 'Not Math', 'score': 1.0}, {'label': 'Math', 'score': 0.88330078125}, {'label': 'Math', 'score': 1.0}, {'label': 'Not Math', 'score': 1.0}, {'label': 'Not Math', 'score': 1.0}, {'label': 'Not Math', 'score': 1.0}, {'label': 'Not Math', 'score': 1.0}, {'label': 'Not Math', 'score': 1.0}, {'label': 'Not Math', 'score': 1.0}, {'label': 'Not Math', 'score': 1.0}, {'label': 'Not Math', 'score': 1.0}, {'label': 'Not Math', 'score': 0.998046875}, {'label': 'Not Math', 'score': 1.0}, {'label': 'Math', 'score': 0.9970703125}, {'label': 'Not Math', 'score': 1.0}, {'label': 'Math', 'score': 1.0}, {'label': 'Not Math', 'score': 1.0}, {'label': 'Not Math', 'score': 1.0}, {'label': 'Not Math', 'score': 1.0}, {'label': 'Not Math', 'score': 1.0}, {'label': 'Math', 'score': 1.0}, {'label': 'Math', 'score': 0.83642578125}, {'label': 'Math', 'score': 0.87841796875}, {'label': 'Math', 'score': 1.0}, {'label': 'Math', 'score': 1.0}, {'label': 'Math', 'score': 1.0}, {'label': 'Math', 'score': 0.77880859375}, {'label': 'Math', 'score': 0.998046875}, {'label': 'Math', 'score': 1.0}, {'label': 'Math', 'score': 1.0}, {'label': 'Math', 'score': 1.0}, {'label': 'Math', 'score': 1.0}, {'label': 'Not Math', 'score': 0.63232421875}, {'label': 'Not Math', 'score': 0.9990234375}, {'label': 'Not Math', 'score': 1.0}, {'label': 'Not Math', 'score': 1.0}, {'label': 'Not Math', 'score': 1.0}, {'label': 'Not Math', 'score': 1.0}, {'label': 'Not Math', 'score': 0.9990234375}, {'label': 'Not Math', 'score': 1.0}, {'label': 'Not Math', 'score': 0.966796875}, {'label': 'Math', 'score': 0.9873046875}, {'label': 'Math', 'score': 0.998046875}, {'label': 'Not Math', 'score': 1.0}, {'label': 'Not Math', 'score': 1.0}, {'label': 'Not Math', 'score': 1.0}, {'label': 'Math', 'score': 0.75341796875}, {'label': 'Not Math', 'score': 0.994140625}, {'label': 'Not Math', 'score': 0.998046875}, {'label': 'Not Math', 'score': 1.0}, {'label': 'Math', 'score': 0.9697265625}, {'label': 'Not Math', 'score': 1.0}, {'label': 'Not Math', 'score': 1.0}, {'label': 'Not Math', 'score': 0.9990234375}, {'label': 'Not Math', 'score': 1.0}, {'label': 'Math', 'score': 1.0}, {'label': 'Not Math', 'score': 0.80615234375}, {'label': 'Not Math', 'score': 0.97705078125}, {'label': 'Math', 'score': 1.0}, {'label': 'Not Math', 'score': 0.99609375}, {'label': 'Not Math', 'score': 0.9990234375}, {'label': 'Not Math', 'score': 1.0}, {'label': 'Not Math', 'score': 0.9892578125}, {'label': 'Not Math', 'score': 0.97265625}, {'label': 'Not Math', 'score': 0.90380859375}, {'label': 'Not Math', 'score': 0.955078125}, {'label': 'Not Math', 'score': 1.0}, {'label': 'Not Math', 'score': 0.9951171875}, {'label': 'Math', 'score': 1.0}, {'label': 'Math', 'score': 1.0}, {'label': 'Math', 'score': 1.0}, {'label': 'Math', 'score': 1.0}, {'label': 'Math', 'score': 1.0}, {'label': 'Math', 'score': 1.0}, {'label': 'Not Math', 'score': 0.994140625}, {'label': 'Not Math', 'score': 1.0}, {'label': 'Not Math', 'score': 0.96875}, {'label': 'Math', 'score': 0.9580078125}, {'label': 'Math', 'score': 1.0}, {'label': 'Not Math', 'score': 1.0}, {'label': 'Math', 'score': 1.0}, {'label': 'Not Math', 'score': 1.0}, {'label': 'Not Math', 'score': 1.0}, {'label': 'Not Math', 'score': 1.0}, {'label': 'Not Math', 'score': 1.0}, {'label': 'Not Math', 'score': 1.0}, {'label': 'Not Math', 'score': 1.0}, {'label': 'Not Math', 'score': 1.0}, {'label': 'Not Math', 'score': 1.0}, {'label': 'Not Math', 'score': 1.0}, {'label': 'Not Math', 'score': 1.0}, {'label': 'Not Math', 'score': 1.0}, {'label': 'Math', 'score': 0.5966796875}, {'label': 'Not Math', 'score': 1.0}, {'label': 'Not Math', 'score': 1.0}, {'label': 'Not Math', 'score': 1.0}, {'label': 'Not Math', 'score': 1.0}, {'label': 'Not Math', 'score': 1.0}, {'label': 'Not Math', 'score': 0.986328125}, {'label': 'Not Math', 'score': 1.0}, {'label': 'Not Math', 'score': 0.818359375}, {'label': 'Math', 'score': 0.70751953125}, {'label': 'Not Math', 'score': 1.0}, {'label': 'Not Math', 'score': 1.0}, {'label': 'Not Math', 'score': 0.759765625}, {'label': 'Not Math', 'score': 0.9990234375}, {'label': 'Math', 'score': 0.98193359375}, {'label': 'Math', 'score': 0.9208984375}, {'label': 'Not Math', 'score': 1.0}, {'label': 'Not Math', 'score': 1.0}, {'label': 'Not Math', 'score': 1.0}, {'label': 'Not Math', 'score': 0.8701171875}, {'label': 'Not Math', 'score': 1.0}, {'label': 'Not Math', 'score': 1.0}, {'label': 'Not Math', 'score': 1.0}, {'label': 'Not Math', 'score': 1.0}, {'label': 'Not Math', 'score': 1.0}, {'label': 'Not Math', 'score': 1.0}, {'label': 'Not Math', 'score': 1.0}, {'label': 'Not Math', 'score': 1.0}, {'label': 'Not Math', 'score': 1.0}, {'label': 'Not Math', 'score': 1.0}, {'label': 'Not Math', 'score': 1.0}, {'label': 'Math', 'score': 0.99609375}, {'label': 'Not Math', 'score': 0.99609375}, {'label': 'Not Math', 'score': 1.0}, {'label': 'Math', 'score': 1.0}, {'label': 'Not Math', 'score': 0.8359375}, {'label': 'Not Math', 'score': 0.994140625}, {'label': 'Math', 'score': 1.0}, {'label': 'Not Math', 'score': 1.0}, {'label': 'Not Math', 'score': 1.0}, {'label': 'Not Math', 'score': 1.0}, {'label': 'Not Math', 'score': 1.0}, {'label': 'Math', 'score': 0.96142578125}, {'label': 'Not Math', 'score': 0.9990234375}, {'label': 'Not Math', 'score': 1.0}, {'label': 'Not Math', 'score': 1.0}, {'label': 'Not Math', 'score': 1.0}, {'label': 'Not Math', 'score': 1.0}, {'label': 'Not Math', 'score': 1.0}, {'label': 'Not Math', 'score': 1.0}, {'label': 'Not Math', 'score': 0.9990234375}, {'label': 'Math', 'score': 0.994140625}, {'label': 'Not Math', 'score': 0.7685546875}, {'label': 'Not Math', 'score': 1.0}, {'label': 'Not Math', 'score': 0.994140625}, {'label': 'Not Math', 'score': 1.0}, {'label': 'Math', 'score': 0.91748046875}, {'label': 'Not Math', 'score': 1.0}, {'label': 'Not Math', 'score': 1.0}, {'label': 'Not Math', 'score': 0.8310546875}, {'label': 'Not Math', 'score': 1.0}, {'label': 'Not Math', 'score': 1.0}, {'label': 'Not Math', 'score': 1.0}, {'label': 'Math', 'score': 0.994140625}, {'label': 'Not Math', 'score': 0.98193359375}, {'label': 'Not Math', 'score': 1.0}, {'label': 'Not Math', 'score': 1.0}, {'label': 'Not Math', 'score': 0.9951171875}, {'label': 'Not Math', 'score': 0.9990234375}, {'label': 'Not Math', 'score': 1.0}, {'label': 'Not Math', 'score': 1.0}, {'label': 'Not Math', 'score': 1.0}, {'label': 'Not Math', 'score': 0.998046875}, {'label': 'Not Math', 'score': 1.0}, {'label': 'Not Math', 'score': 1.0}, {'label': 'Not Math', 'score': 0.9951171875}, {'label': 'Math', 'score': 1.0}, {'label': 'Not Math', 'score': 1.0}, {'label': 'Not Math', 'score': 1.0}, {'label': 'Not Math', 'score': 1.0}, {'label': 'Math', 'score': 0.6396484375}, {'label': 'Not Math', 'score': 1.0}, {'label': 'Math', 'score': 0.94970703125}, {'label': 'Not Math', 'score': 0.994140625}, {'label': 'Not Math', 'score': 0.9990234375}, {'label': 'Not Math', 'score': 0.9990234375}, {'label': 'Not Math', 'score': 1.0}, {'label': 'Not Math', 'score': 1.0}, {'label': 'Not Math', 'score': 1.0}, {'label': 'Not Math', 'score': 1.0}, {'label': 'Math', 'score': 1.0}, {'label': 'Not Math', 'score': 1.0}, {'label': 'Not Math', 'score': 1.0}, {'label': 'Not Math', 'score': 1.0}, {'label': 'Not Math', 'score': 1.0}, {'label': 'Not Math', 'score': 1.0}, {'label': 'Not Math', 'score': 1.0}, {'label': 'Math', 'score': 1.0}, {'label': 'Not Math', 'score': 1.0}, {'label': 'Not Math', 'score': 0.9990234375}, {'label': 'Math', 'score': 0.994140625}, {'label': 'Not Math', 'score': 0.76416015625}, {'label': 'Not Math', 'score': 1.0}, {'label': 'Math', 'score': 0.87353515625}, {'label': 'Not Math', 'score': 1.0}, {'label': 'Not Math', 'score': 1.0}, {'label': 'Not Math', 'score': 1.0}, {'label': 'Not Math', 'score': 0.9990234375}, {'label': 'Not Math', 'score': 1.0}, {'label': 'Not Math', 'score': 1.0}, {'label': 'Math', 'score': 0.9892578125}, {'label': 'Not Math', 'score': 0.9990234375}, {'label': 'Not Math', 'score': 1.0}, {'label': 'Math', 'score': 1.0}, {'label': 'Not Math', 'score': 1.0}, {'label': 'Not Math', 'score': 1.0}, {'label': 'Not Math', 'score': 1.0}, {'label': 'Not Math', 'score': 1.0}, {'label': 'Math', 'score': 0.9951171875}, {'label': 'Not Math', 'score': 1.0}, {'label': 'Not Math', 'score': 0.69677734375}, {'label': 'Not Math', 'score': 0.998046875}, {'label': 'Not Math', 'score': 0.998046875}, {'label': 'Not Math', 'score': 1.0}, {'label': 'Not Math', 'score': 1.0}, {'label': 'Not Math', 'score': 1.0}, {'label': 'Not Math', 'score': 1.0}, {'label': 'Not Math', 'score': 1.0}, {'label': 'Not Math', 'score': 1.0}, {'label': 'Not Math', 'score': 1.0}, {'label': 'Not Math', 'score': 1.0}, {'label': 'Not Math', 'score': 1.0}, {'label': 'Not Math', 'score': 1.0}, {'label': 'Not Math', 'score': 1.0}, {'label': 'Not Math', 'score': 1.0}, {'label': 'Not Math', 'score': 1.0}, {'label': 'Not Math', 'score': 1.0}, {'label': 'Not Math', 'score': 1.0}, {'label': 'Not Math', 'score': 1.0}, {'label': 'Not Math', 'score': 1.0}, {'label': 'Not Math', 'score': 1.0}, {'label': 'Not Math', 'score': 1.0}, {'label': 'Not Math', 'score': 1.0}, {'label': 'Not Math', 'score': 1.0}, {'label': 'Not Math', 'score': 1.0}, {'label': 'Not Math', 'score': 0.9970703125}, {'label': 'Math', 'score': 0.998046875}, {'label': 'Not Math', 'score': 1.0}, {'label': 'Not Math', 'score': 1.0}, {'label': 'Not Math', 'score': 1.0}, {'label': 'Not Math', 'score': 1.0}, {'label': 'Not Math', 'score': 1.0}, {'label': 'Not Math', 'score': 1.0}, {'label': 'Not Math', 'score': 1.0}, {'label': 'Math', 'score': 0.998046875}, {'label': 'Not Math', 'score': 0.9990234375}, {'label': 'Not Math', 'score': 1.0}, {'label': 'Not Math', 'score': 1.0}, {'label': 'Not Math', 'score': 1.0}, {'label': 'Not Math', 'score': 1.0}, {'label': 'Not Math', 'score': 1.0}, {'label': 'Math', 'score': 0.9560546875}, {'label': 'Not Math', 'score': 1.0}, {'label': 'Not Math', 'score': 0.994140625}, {'label': 'Not Math', 'score': 0.9951171875}, {'label': 'Not Math', 'score': 0.95947265625}, {'label': 'Not Math', 'score': 1.0}, {'label': 'Not Math', 'score': 1.0}, {'label': 'Math', 'score': 0.560546875}, {'label': 'Not Math', 'score': 1.0}, {'label': 'Not Math', 'score': 0.93408203125}, {'label': 'Not Math', 'score': 1.0}, {'label': 'Not Math', 'score': 1.0}, {'label': 'Not Math', 'score': 1.0}, {'label': 'Not Math', 'score': 0.8671875}, {'label': 'Not Math', 'score': 1.0}, {'label': 'Not Math', 'score': 1.0}, {'label': 'Not Math', 'score': 1.0}, {'label': 'Not Math', 'score': 1.0}, {'label': 'Not Math', 'score': 1.0}, {'label': 'Math', 'score': 0.99609375}, {'label': 'Not Math', 'score': 1.0}, {'label': 'Not Math', 'score': 0.9990234375}, {'label': 'Not Math', 'score': 1.0}, {'label': 'Not Math', 'score': 0.81787109375}, {'label': 'Not Math', 'score': 1.0}, {'label': 'Not Math', 'score': 1.0}, {'label': 'Not Math', 'score': 1.0}, {'label': 'Not Math', 'score': 1.0}, {'label': 'Not Math', 'score': 1.0}, {'label': 'Not Math', 'score': 1.0}, {'label': 'Not Math', 'score': 1.0}, {'label': 'Not Math', 'score': 1.0}, {'label': 'Not Math', 'score': 1.0}, {'label': 'Not Math', 'score': 0.9990234375}, {'label': 'Not Math', 'score': 1.0}, {'label': 'Not Math', 'score': 1.0}, {'label': 'Not Math', 'score': 1.0}, {'label': 'Math', 'score': 0.91259765625}, {'label': 'Not Math', 'score': 1.0}, {'label': 'Not Math', 'score': 1.0}, {'label': 'Not Math', 'score': 0.9990234375}, {'label': 'Not Math', 'score': 0.998046875}, {'label': 'Not Math', 'score': 1.0}, {'label': 'Math', 'score': 0.95947265625}, {'label': 'Not Math', 'score': 1.0}, {'label': 'Not Math', 'score': 1.0}, {'label': 'Not Math', 'score': 1.0}, {'label': 'Not Math', 'score': 1.0}, {'label': 'Not Math', 'score': 1.0}, {'label': 'Not Math', 'score': 1.0}, {'label': 'Not Math', 'score': 1.0}, {'label': 'Not Math', 'score': 1.0}, {'label': 'Math', 'score': 0.533203125}, {'label': 'Not Math', 'score': 1.0}, {'label': 'Not Math', 'score': 1.0}, {'label': 'Math', 'score': 1.0}, {'label': 'Not Math', 'score': 0.90478515625}, {'label': 'Not Math', 'score': 1.0}, {'label': 'Not Math', 'score': 1.0}, {'label': 'Not Math', 'score': 1.0}, {'label': 'Not Math', 'score': 1.0}, {'label': 'Not Math', 'score': 1.0}, {'label': 'Not Math', 'score': 1.0}, {'label': 'Not Math', 'score': 1.0}, {'label': 'Not Math', 'score': 1.0}, {'label': 'Not Math', 'score': 1.0}, {'label': 'Not Math', 'score': 1.0}, {'label': 'Math', 'score': 0.98828125}, {'label': 'Not Math', 'score': 1.0}, {'label': 'Not Math', 'score': 0.892578125}, {'label': 'Not Math', 'score': 1.0}, {'label': 'Not Math', 'score': 1.0}, {'label': 'Math', 'score': 0.9970703125}, {'label': 'Not Math', 'score': 1.0}, {'label': 'Not Math', 'score': 1.0}, {'label': 'Math', 'score': 0.9716796875}, {'label': 'Not Math', 'score': 1.0}, {'label': 'Not Math', 'score': 0.93017578125}, {'label': 'Not Math', 'score': 1.0}, {'label': 'Not Math', 'score': 1.0}, {'label': 'Not Math', 'score': 0.9951171875}, {'label': 'Not Math', 'score': 1.0}, {'label': 'Not Math', 'score': 0.95703125}, {'label': 'Math', 'score': 0.9990234375}, {'label': 'Math', 'score': 1.0}, {'label': 'Not Math', 'score': 1.0}, {'label': 'Not Math', 'score': 1.0}, {'label': 'Not Math', 'score': 1.0}, {'label': 'Not Math', 'score': 1.0}, {'label': 'Not Math', 'score': 1.0}, {'label': 'Not Math', 'score': 1.0}, {'label': 'Not Math', 'score': 1.0}, {'label': 'Math', 'score': 1.0}, {'label': 'Not Math', 'score': 1.0}, {'label': 'Not Math', 'score': 1.0}, {'label': 'Not Math', 'score': 1.0}, {'label': 'Not Math', 'score': 1.0}, {'label': 'Not Math', 'score': 1.0}, {'label': 'Math', 'score': 0.947265625}, {'label': 'Not Math', 'score': 1.0}, {'label': 'Math', 'score': 1.0}, {'label': 'Math', 'score': 0.99609375}, {'label': 'Not Math', 'score': 1.0}, {'label': 'Not Math', 'score': 1.0}, {'label': 'Math', 'score': 1.0}, {'label': 'Not Math', 'score': 1.0}, {'label': 'Not Math', 'score': 1.0}, {'label': 'Not Math', 'score': 1.0}, {'label': 'Math', 'score': 0.96044921875}, {'label': 'Math', 'score': 1.0}, {'label': 'Not Math', 'score': 1.0}, {'label': 'Not Math', 'score': 1.0}, {'label': 'Not Math', 'score': 1.0}, {'label': 'Not Math', 'score': 1.0}, {'label': 'Not Math', 'score': 1.0}, {'label': 'Not Math', 'score': 1.0}, {'label': 'Not Math', 'score': 1.0}, {'label': 'Not Math', 'score': 1.0}, {'label': 'Not Math', 'score': 1.0}, {'label': 'Not Math', 'score': 1.0}, {'label': 'Not Math', 'score': 1.0}, {'label': 'Not Math', 'score': 1.0}, {'label': 'Not Math', 'score': 1.0}, {'label': 'Not Math', 'score': 1.0}, {'label': 'Not Math', 'score': 1.0}, {'label': 'Not Math', 'score': 1.0}, {'label': 'Math', 'score': 1.0}, {'label': 'Not Math', 'score': 1.0}, {'label': 'Not Math', 'score': 1.0}, {'label': 'Not Math', 'score': 1.0}, {'label': 'Not Math', 'score': 1.0}, {'label': 'Not Math', 'score': 1.0}, {'label': 'Not Math', 'score': 1.0}, {'label': 'Not Math', 'score': 1.0}, {'label': 'Not Math', 'score': 1.0}, {'label': 'Not Math', 'score': 1.0}, {'label': 'Not Math', 'score': 0.98388671875}, {'label': 'Not Math', 'score': 1.0}, {'label': 'Not Math', 'score': 0.669921875}, {'label': 'Not Math', 'score': 1.0}, {'label': 'Math', 'score': 0.98095703125}, {'label': 'Not Math', 'score': 0.59326171875}, {'label': 'Not Math', 'score': 1.0}, {'label': 'Not Math', 'score': 1.0}, {'label': 'Not Math', 'score': 1.0}, {'label': 'Not Math', 'score': 0.9990234375}, {'label': 'Not Math', 'score': 1.0}, {'label': 'Math', 'score': 0.97509765625}, {'label': 'Not Math', 'score': 1.0}, {'label': 'Not Math', 'score': 1.0}, {'label': 'Not Math', 'score': 1.0}, {'label': 'Not Math', 'score': 1.0}, {'label': 'Not Math', 'score': 1.0}, {'label': 'Not Math', 'score': 1.0}, {'label': 'Not Math', 'score': 1.0}, {'label': 'Math', 'score': 1.0}, {'label': 'Not Math', 'score': 1.0}, {'label': 'Not Math', 'score': 1.0}, {'label': 'Not Math', 'score': 1.0}, {'label': 'Not Math', 'score': 1.0}, {'label': 'Not Math', 'score': 1.0}, {'label': 'Math', 'score': 0.75634765625}, {'label': 'Math', 'score': 0.9892578125}, {'label': 'Not Math', 'score': 1.0}, {'label': 'Not Math', 'score': 1.0}, {'label': 'Not Math', 'score': 1.0}, {'label': 'Not Math', 'score': 1.0}, {'label': 'Not Math', 'score': 1.0}, {'label': 'Not Math', 'score': 1.0}, {'label': 'Not Math', 'score': 1.0}, {'label': 'Not Math', 'score': 0.99609375}, {'label': 'Not Math', 'score': 0.998046875}, {'label': 'Not Math', 'score': 0.92822265625}, {'label': 'Math', 'score': 0.83447265625}, {'label': 'Not Math', 'score': 1.0}, {'label': 'Not Math', 'score': 1.0}, {'label': 'Not Math', 'score': 1.0}, {'label': 'Not Math', 'score': 1.0}, {'label': 'Not Math', 'score': 1.0}, {'label': 'Not Math', 'score': 1.0}, {'label': 'Not Math', 'score': 1.0}, {'label': 'Not Math', 'score': 1.0}, {'label': 'Not Math', 'score': 1.0}, {'label': 'Not Math', 'score': 1.0}, {'label': 'Not Math', 'score': 0.984375}, {'label': 'Not Math', 'score': 0.9970703125}, {'label': 'Not Math', 'score': 1.0}, {'label': 'Not Math', 'score': 1.0}, {'label': 'Not Math', 'score': 1.0}, {'label': 'Not Math', 'score': 1.0}, {'label': 'Not Math', 'score': 1.0}, {'label': 'Not Math', 'score': 1.0}, {'label': 'Not Math', 'score': 1.0}, {'label': 'Math', 'score': 0.9951171875}, {'label': 'Not Math', 'score': 1.0}, {'label': 'Not Math', 'score': 1.0}, {'label': 'Not Math', 'score': 1.0}, {'label': 'Not Math', 'score': 1.0}, {'label': 'Not Math', 'score': 1.0}, {'label': 'Not Math', 'score': 1.0}, {'label': 'Not Math', 'score': 1.0}, {'label': 'Not Math', 'score': 1.0}, {'label': 'Not Math', 'score': 1.0}, {'label': 'Not Math', 'score': 1.0}, {'label': 'Not Math', 'score': 0.9990234375}, {'label': 'Math', 'score': 1.0}, {'label': 'Not Math', 'score': 1.0}, {'label': 'Not Math', 'score': 1.0}, {'label': 'Not Math', 'score': 1.0}, {'label': 'Not Math', 'score': 0.83203125}, {'label': 'Math', 'score': 0.9697265625}, {'label': 'Not Math', 'score': 0.98388671875}, {'label': 'Not Math', 'score': 0.998046875}, {'label': 'Math', 'score': 0.857421875}, {'label': 'Not Math', 'score': 1.0}, {'label': 'Not Math', 'score': 1.0}, {'label': 'Not Math', 'score': 0.8671875}, {'label': 'Not Math', 'score': 0.541015625}, {'label': 'Not Math', 'score': 1.0}, {'label': 'Not Math', 'score': 1.0}, {'label': 'Not Math', 'score': 1.0}, {'label': 'Not Math', 'score': 1.0}, {'label': 'Not Math', 'score': 1.0}, {'label': 'Not Math', 'score': 1.0}, {'label': 'Math', 'score': 0.9990234375}, {'label': 'Not Math', 'score': 1.0}, {'label': 'Not Math', 'score': 1.0}, {'label': 'Not Math', 'score': 0.97900390625}, {'label': 'Not Math', 'score': 1.0}, {'label': 'Not Math', 'score': 1.0}, {'label': 'Not Math', 'score': 1.0}, {'label': 'Not Math', 'score': 1.0}, {'label': 'Not Math', 'score': 0.93603515625}, {'label': 'Not Math', 'score': 1.0}, {'label': 'Math', 'score': 1.0}, {'label': 'Math', 'score': 1.0}, {'label': 'Not Math', 'score': 1.0}, {'label': 'Math', 'score': 0.52783203125}, {'label': 'Not Math', 'score': 0.640625}, {'label': 'Math', 'score': 0.96875}, {'label': 'Not Math', 'score': 0.9990234375}, {'label': 'Not Math', 'score': 0.9853515625}, {'label': 'Not Math', 'score': 0.9912109375}, {'label': 'Not Math', 'score': 1.0}, {'label': 'Not Math', 'score': 1.0}, {'label': 'Not Math', 'score': 1.0}, {'label': 'Not Math', 'score': 1.0}, {'label': 'Not Math', 'score': 1.0}, {'label': 'Not Math', 'score': 1.0}, {'label': 'Not Math', 'score': 1.0}, {'label': 'Not Math', 'score': 1.0}, {'label': 'Math', 'score': 1.0}, {'label': 'Not Math', 'score': 1.0}, {'label': 'Not Math', 'score': 1.0}, {'label': 'Not Math', 'score': 0.998046875}, {'label': 'Not Math', 'score': 1.0}, {'label': 'Not Math', 'score': 1.0}, {'label': 'Not Math', 'score': 1.0}, {'label': 'Math', 'score': 1.0}, {'label': 'Not Math', 'score': 1.0}, {'label': 'Not Math', 'score': 1.0}, {'label': 'Not Math', 'score': 1.0}, {'label': 'Not Math', 'score': 0.98291015625}, {'label': 'Not Math', 'score': 1.0}, {'label': 'Not Math', 'score': 1.0}, {'label': 'Not Math', 'score': 1.0}, {'label': 'Not Math', 'score': 1.0}, {'label': 'Math', 'score': 1.0}, {'label': 'Not Math', 'score': 1.0}, {'label': 'Math', 'score': 0.92578125}, {'label': 'Not Math', 'score': 1.0}, {'label': 'Not Math', 'score': 1.0}, {'label': 'Not Math', 'score': 1.0}, {'label': 'Not Math', 'score': 1.0}, {'label': 'Not Math', 'score': 1.0}, {'label': 'Not Math', 'score': 0.88330078125}, {'label': 'Not Math', 'score': 1.0}, {'label': 'Not Math', 'score': 1.0}, {'label': 'Not Math', 'score': 0.91259765625}, {'label': 'Not Math', 'score': 0.994140625}, {'label': 'Not Math', 'score': 0.92822265625}, {'label': 'Not Math', 'score': 1.0}, {'label': 'Not Math', 'score': 1.0}, {'label': 'Not Math', 'score': 1.0}, {'label': 'Not Math', 'score': 0.998046875}, {'label': 'Not Math', 'score': 1.0}, {'label': 'Not Math', 'score': 1.0}, {'label': 'Not Math', 'score': 1.0}, {'label': 'Not Math', 'score': 1.0}, {'label': 'Not Math', 'score': 0.60693359375}, {'label': 'Not Math', 'score': 0.9990234375}, {'label': 'Not Math', 'score': 0.998046875}, {'label': 'Not Math', 'score': 0.95703125}, {'label': 'Math', 'score': 1.0}, {'label': 'Math', 'score': 0.869140625}, {'label': 'Not Math', 'score': 0.9990234375}, {'label': 'Math', 'score': 1.0}, {'label': 'Not Math', 'score': 1.0}, {'label': 'Not Math', 'score': 1.0}, {'label': 'Not Math', 'score': 1.0}, {'label': 'Not Math', 'score': 0.9970703125}, {'label': 'Not Math', 'score': 1.0}, {'label': 'Math', 'score': 1.0}, {'label': 'Not Math', 'score': 1.0}, {'label': 'Not Math', 'score': 1.0}, {'label': 'Not Math', 'score': 1.0}, {'label': 'Not Math', 'score': 1.0}, {'label': 'Not Math', 'score': 0.9326171875}, {'label': 'Not Math', 'score': 0.80419921875}, {'label': 'Not Math', 'score': 1.0}, {'label': 'Not Math', 'score': 0.86474609375}, {'label': 'Not Math', 'score': 0.9990234375}, {'label': 'Not Math', 'score': 0.9970703125}, {'label': 'Not Math', 'score': 1.0}, {'label': 'Math', 'score': 1.0}, {'label': 'Not Math', 'score': 0.939453125}, {'label': 'Math', 'score': 0.998046875}, {'label': 'Not Math', 'score': 1.0}, {'label': 'Not Math', 'score': 1.0}, {'label': 'Math', 'score': 0.98291015625}, {'label': 'Not Math', 'score': 1.0}, {'label': 'Not Math', 'score': 1.0}, {'label': 'Math', 'score': 1.0}, {'label': 'Not Math', 'score': 1.0}, {'label': 'Not Math', 'score': 1.0}, {'label': 'Not Math', 'score': 1.0}, {'label': 'Not Math', 'score': 1.0}, {'label': 'Not Math', 'score': 1.0}, {'label': 'Math', 'score': 0.50927734375}, {'label': 'Not Math', 'score': 0.9970703125}, {'label': 'Math', 'score': 1.0}, {'label': 'Not Math', 'score': 0.83642578125}, {'label': 'Math', 'score': 0.98828125}, {'label': 'Not Math', 'score': 1.0}, {'label': 'Not Math', 'score': 1.0}, {'label': 'Math', 'score': 0.583984375}, {'label': 'Math', 'score': 0.59375}, {'label': 'Not Math', 'score': 1.0}, {'label': 'Not Math', 'score': 0.98095703125}, {'label': 'Not Math', 'score': 0.99609375}, {'label': 'Not Math', 'score': 0.90380859375}, {'label': 'Not Math', 'score': 0.9990234375}, {'label': 'Not Math', 'score': 1.0}, {'label': 'Math', 'score': 0.9921875}, {'label': 'Not Math', 'score': 0.5771484375}, {'label': 'Not Math', 'score': 1.0}, {'label': 'Not Math', 'score': 1.0}, {'label': 'Not Math', 'score': 1.0}, {'label': 'Not Math', 'score': 1.0}, {'label': 'Not Math', 'score': 1.0}, {'label': 'Not Math', 'score': 0.9970703125}, {'label': 'Not Math', 'score': 0.9951171875}, {'label': 'Math', 'score': 0.9990234375}, {'label': 'Math', 'score': 1.0}, {'label': 'Math', 'score': 1.0}, {'label': 'Math', 'score': 0.70166015625}, {'label': 'Not Math', 'score': 1.0}, {'label': 'Not Math', 'score': 0.9677734375}, {'label': 'Math', 'score': 0.89990234375}, {'label': 'Math', 'score': 1.0}, {'label': 'Not Math', 'score': 0.63525390625}, {'label': 'Math', 'score': 1.0}, {'label': 'Not Math', 'score': 0.94384765625}, {'label': 'Not Math', 'score': 1.0}, {'label': 'Not Math', 'score': 0.798828125}, {'label': 'Math', 'score': 0.9990234375}, {'label': 'Math', 'score': 1.0}, {'label': 'Math', 'score': 0.96240234375}, {'label': 'Not Math', 'score': 1.0}, {'label': 'Not Math', 'score': 1.0}, {'label': 'Not Math', 'score': 1.0}, {'label': 'Not Math', 'score': 1.0}, {'label': 'Not Math', 'score': 1.0}, {'label': 'Not Math', 'score': 0.9990234375}, {'label': 'Not Math', 'score': 1.0}, {'label': 'Not Math', 'score': 0.9990234375}, {'label': 'Not Math', 'score': 0.998046875}, {'label': 'Not Math', 'score': 1.0}, {'label': 'Not Math', 'score': 1.0}, {'label': 'Math', 'score': 1.0}, {'label': 'Math', 'score': 0.83203125}, {'label': 'Math', 'score': 1.0}, {'label': 'Math', 'score': 0.998046875}, {'label': 'Not Math', 'score': 0.9921875}, {'label': 'Math', 'score': 1.0}, {'label': 'Math', 'score': 0.9951171875}, {'label': 'Math', 'score': 1.0}, {'label': 'Not Math', 'score': 1.0}, {'label': 'Math', 'score': 1.0}, {'label': 'Not Math', 'score': 0.9951171875}, {'label': 'Not Math', 'score': 1.0}, {'label': 'Math', 'score': 0.732421875}, {'label': 'Math', 'score': 0.94921875}, {'label': 'Not Math', 'score': 1.0}, {'label': 'Not Math', 'score': 1.0}, {'label': 'Not Math', 'score': 0.61767578125}, {'label': 'Math', 'score': 1.0}, {'label': 'Not Math', 'score': 1.0}, {'label': 'Not Math', 'score': 1.0}, {'label': 'Not Math', 'score': 1.0}, {'label': 'Not Math', 'score': 0.998046875}, {'label': 'Not Math', 'score': 0.998046875}, {'label': 'Not Math', 'score': 1.0}, {'label': 'Not Math', 'score': 1.0}, {'label': 'Not Math', 'score': 1.0}, {'label': 'Not Math', 'score': 1.0}, {'label': 'Not Math', 'score': 1.0}, {'label': 'Math', 'score': 1.0}, {'label': 'Math', 'score': 1.0}, {'label': 'Not Math', 'score': 1.0}, {'label': 'Not Math', 'score': 1.0}, {'label': 'Math', 'score': 0.9990234375}, {'label': 'Not Math', 'score': 1.0}, {'label': 'Not Math', 'score': 0.9990234375}, {'label': 'Math', 'score': 0.9912109375}, {'label': 'Not Math', 'score': 0.72900390625}, {'label': 'Not Math', 'score': 0.90625}, {'label': 'Not Math', 'score': 1.0}, {'label': 'Not Math', 'score': 1.0}, {'label': 'Not Math', 'score': 1.0}, {'label': 'Not Math', 'score': 1.0}, {'label': 'Not Math', 'score': 1.0}, {'label': 'Not Math', 'score': 1.0}, {'label': 'Not Math', 'score': 1.0}, {'label': 'Not Math', 'score': 1.0}, {'label': 'Not Math', 'score': 1.0}, {'label': 'Math', 'score': 0.6982421875}, {'label': 'Not Math', 'score': 1.0}, {'label': 'Math', 'score': 1.0}, {'label': 'Not Math', 'score': 1.0}, {'label': 'Math', 'score': 1.0}, {'label': 'Math', 'score': 0.79736328125}, {'label': 'Math', 'score': 0.80908203125}, {'label': 'Math', 'score': 1.0}, {'label': 'Math', 'score': 1.0}, {'label': 'Math', 'score': 1.0}, {'label': 'Math', 'score': 0.9990234375}, {'label': 'Math', 'score': 1.0}, {'label': 'Math', 'score': 1.0}, {'label': 'Math', 'score': 0.9951171875}, {'label': 'Not Math', 'score': 1.0}, {'label': 'Not Math', 'score': 1.0}, {'label': 'Not Math', 'score': 1.0}, {'label': 'Not Math', 'score': 1.0}, {'label': 'Not Math', 'score': 1.0}, {'label': 'Not Math', 'score': 1.0}, {'label': 'Not Math', 'score': 1.0}, {'label': 'Not Math', 'score': 1.0}, {'label': 'Not Math', 'score': 1.0}, {'label': 'Not Math', 'score': 1.0}, {'label': 'Not Math', 'score': 1.0}, {'label': 'Not Math', 'score': 0.64404296875}, {'label': 'Not Math', 'score': 1.0}, {'label': 'Not Math', 'score': 1.0}, {'label': 'Not Math', 'score': 1.0}, {'label': 'Not Math', 'score': 0.9990234375}, {'label': 'Not Math', 'score': 1.0}, {'label': 'Not Math', 'score': 1.0}, {'label': 'Not Math', 'score': 1.0}, {'label': 'Not Math', 'score': 1.0}, {'label': 'Not Math', 'score': 1.0}, {'label': 'Not Math', 'score': 1.0}, {'label': 'Math', 'score': 0.9091796875}, {'label': 'Not Math', 'score': 1.0}, {'label': 'Not Math', 'score': 1.0}, {'label': 'Not Math', 'score': 1.0}, {'label': 'Not Math', 'score': 0.9990234375}, {'label': 'Not Math', 'score': 1.0}, {'label': 'Not Math', 'score': 1.0}, {'label': 'Not Math', 'score': 1.0}, {'label': 'Not Math', 'score': 1.0}, {'label': 'Not Math', 'score': 0.9990234375}, {'label': 'Math', 'score': 1.0}, {'label': 'Not Math', 'score': 0.77685546875}, {'label': 'Not Math', 'score': 1.0}, {'label': 'Not Math', 'score': 1.0}, {'label': 'Not Math', 'score': 1.0}, {'label': 'Math', 'score': 0.54541015625}, {'label': 'Not Math', 'score': 1.0}, {'label': 'Math', 'score': 1.0}, {'label': 'Not Math', 'score': 0.9990234375}, {'label': 'Math', 'score': 1.0}, {'label': 'Not Math', 'score': 1.0}, {'label': 'Not Math', 'score': 1.0}, {'label': 'Not Math', 'score': 1.0}, {'label': 'Not Math', 'score': 1.0}, {'label': 'Not Math', 'score': 1.0}, {'label': 'Math', 'score': 1.0}, {'label': 'Not Math', 'score': 1.0}, {'label': 'Not Math', 'score': 1.0}, {'label': 'Not Math', 'score': 1.0}, {'label': 'Not Math', 'score': 1.0}, {'label': 'Not Math', 'score': 1.0}, {'label': 'Not Math', 'score': 1.0}, {'label': 'Not Math', 'score': 1.0}, {'label': 'Not Math', 'score': 1.0}, {'label': 'Not Math', 'score': 1.0}, {'label': 'Math', 'score': 0.9990234375}, {'label': 'Not Math', 'score': 1.0}, {'label': 'Not Math', 'score': 1.0}, {'label': 'Math', 'score': 0.85986328125}, {'label': 'Not Math', 'score': 1.0}, {'label': 'Not Math', 'score': 1.0}, {'label': 'Not Math', 'score': 1.0}, {'label': 'Not Math', 'score': 1.0}, {'label': 'Not Math', 'score': 1.0}, {'label': 'Not Math', 'score': 1.0}, {'label': 'Not Math', 'score': 1.0}, {'label': 'Not Math', 'score': 1.0}, {'label': 'Not Math', 'score': 1.0}, {'label': 'Not Math', 'score': 1.0}, {'label': 'Not Math', 'score': 1.0}, {'label': 'Not Math', 'score': 1.0}, {'label': 'Not Math', 'score': 1.0}, {'label': 'Not Math', 'score': 0.939453125}, {'label': 'Not Math', 'score': 1.0}, {'label': 'Not Math', 'score': 1.0}, {'label': 'Not Math', 'score': 1.0}, {'label': 'Not Math', 'score': 1.0}, {'label': 'Not Math', 'score': 1.0}, {'label': 'Math', 'score': 0.9990234375}, {'label': 'Not Math', 'score': 1.0}, {'label': 'Math', 'score': 0.96533203125}, {'label': 'Math', 'score': 0.98291015625}, {'label': 'Math', 'score': 1.0}, {'label': 'Not Math', 'score': 0.9990234375}, {'label': 'Math', 'score': 0.62841796875}, {'label': 'Not Math', 'score': 1.0}, {'label': 'Math', 'score': 1.0}, {'label': 'Math', 'score': 1.0}, {'label': 'Not Math', 'score': 0.9912109375}, {'label': 'Math', 'score': 1.0}, {'label': 'Not Math', 'score': 0.9970703125}, {'label': 'Not Math', 'score': 1.0}, {'label': 'Not Math', 'score': 0.86181640625}, {'label': 'Math', 'score': 1.0}, {'label': 'Math', 'score': 1.0}, {'label': 'Not Math', 'score': 0.9990234375}, {'label': 'Not Math', 'score': 1.0}, {'label': 'Math', 'score': 0.90380859375}, {'label': 'Not Math', 'score': 0.7646484375}, {'label': 'Not Math', 'score': 0.9970703125}, {'label': 'Math', 'score': 1.0}, {'label': 'Math', 'score': 1.0}, {'label': 'Math', 'score': 1.0}, {'label': 'Not Math', 'score': 1.0}, {'label': 'Math', 'score': 0.998046875}, {'label': 'Not Math', 'score': 0.88330078125}, {'label': 'Math', 'score': 1.0}, {'label': 'Not Math', 'score': 1.0}, {'label': 'Not Math', 'score': 1.0}, {'label': 'Not Math', 'score': 1.0}, {'label': 'Not Math', 'score': 0.990234375}, {'label': 'Not Math', 'score': 1.0}, {'label': 'Math', 'score': 0.9482421875}, {'label': 'Not Math', 'score': 1.0}, {'label': 'Math', 'score': 0.9970703125}, {'label': 'Not Math', 'score': 1.0}, {'label': 'Not Math', 'score': 0.94287109375}, {'label': 'Not Math', 'score': 1.0}, {'label': 'Not Math', 'score': 1.0}, {'label': 'Not Math', 'score': 1.0}, {'label': 'Not Math', 'score': 1.0}, {'label': 'Math', 'score': 0.9892578125}, {'label': 'Not Math', 'score': 1.0}, {'label': 'Math', 'score': 0.9404296875}, {'label': 'Not Math', 'score': 1.0}, {'label': 'Math', 'score': 1.0}, {'label': 'Not Math', 'score': 0.86572265625}, {'label': 'Math', 'score': 1.0}, {'label': 'Math', 'score': 0.94287109375}, {'label': 'Math', 'score': 0.97509765625}, {'label': 'Not Math', 'score': 1.0}, {'label': 'Not Math', 'score': 1.0}, {'label': 'Math', 'score': 0.92236328125}, {'label': 'Not Math', 'score': 1.0}, {'label': 'Not Math', 'score': 1.0}, {'label': 'Not Math', 'score': 1.0}, {'label': 'Math', 'score': 1.0}, {'label': 'Not Math', 'score': 1.0}, {'label': 'Not Math', 'score': 1.0}, {'label': 'Math', 'score': 1.0}, {'label': 'Math', 'score': 1.0}, {'label': 'Math', 'score': 0.994140625}, {'label': 'Math', 'score': 0.59375}, {'label': 'Not Math', 'score': 1.0}, {'label': 'Math', 'score': 1.0}, {'label': 'Math', 'score': 1.0}, {'label': 'Math', 'score': 0.998046875}, {'label': 'Math', 'score': 1.0}, {'label': 'Math', 'score': 1.0}, {'label': 'Math', 'score': 1.0}, {'label': 'Math', 'score': 1.0}, {'label': 'Math', 'score': 0.994140625}, {'label': 'Not Math', 'score': 1.0}, {'label': 'Not Math', 'score': 1.0}, {'label': 'Not Math', 'score': 0.9990234375}, {'label': 'Not Math', 'score': 1.0}, {'label': 'Not Math', 'score': 0.7333984375}, {'label': 'Not Math', 'score': 0.84326171875}, {'label': 'Math', 'score': 1.0}, {'label': 'Math', 'score': 0.955078125}, {'label': 'Not Math', 'score': 1.0}, {'label': 'Not Math', 'score': 1.0}, {'label': 'Not Math', 'score': 1.0}, {'label': 'Not Math', 'score': 0.998046875}, {'label': 'Math', 'score': 0.96240234375}, {'label': 'Math', 'score': 1.0}, {'label': 'Math', 'score': 0.966796875}, {'label': 'Math', 'score': 0.99609375}, {'label': 'Not Math', 'score': 0.9892578125}, {'label': 'Not Math', 'score': 1.0}, {'label': 'Not Math', 'score': 0.97900390625}, {'label': 'Not Math', 'score': 0.97705078125}, {'label': 'Math', 'score': 0.794921875}, {'label': 'Math', 'score': 1.0}, {'label': 'Math', 'score': 0.994140625}, {'label': 'Math', 'score': 0.95703125}, {'label': 'Math', 'score': 1.0}, {'label': 'Math', 'score': 0.9990234375}, {'label': 'Math', 'score': 0.94287109375}, {'label': 'Math', 'score': 1.0}, {'label': 'Math', 'score': 1.0}, {'label': 'Math', 'score': 1.0}, {'label': 'Not Math', 'score': 0.9716796875}, {'label': 'Math', 'score': 1.0}, {'label': 'Math', 'score': 1.0}, {'label': 'Not Math', 'score': 0.96044921875}, {'label': 'Not Math', 'score': 0.9267578125}, {'label': 'Math', 'score': 1.0}, {'label': 'Math', 'score': 0.9990234375}, {'label': 'Math', 'score': 1.0}, {'label': 'Math', 'score': 1.0}, {'label': 'Math', 'score': 1.0}, {'label': 'Not Math', 'score': 0.8671875}, {'label': 'Math', 'score': 1.0}, {'label': 'Not Math', 'score': 1.0}, {'label': 'Not Math', 'score': 1.0}, {'label': 'Not Math', 'score': 1.0}, {'label': 'Not Math', 'score': 1.0}, {'label': 'Not Math', 'score': 0.97802734375}, {'label': 'Not Math', 'score': 1.0}, {'label': 'Not Math', 'score': 1.0}, {'label': 'Not Math', 'score': 1.0}, {'label': 'Not Math', 'score': 1.0}, {'label': 'Not Math', 'score': 1.0}, {'label': 'Not Math', 'score': 0.9990234375}, {'label': 'Not Math', 'score': 0.998046875}, {'label': 'Not Math', 'score': 1.0}, {'label': 'Not Math', 'score': 0.9892578125}, {'label': 'Not Math', 'score': 0.994140625}, {'label': 'Math', 'score': 1.0}, {'label': 'Not Math', 'score': 0.98388671875}, {'label': 'Math', 'score': 0.75439453125}, {'label': 'Not Math', 'score': 1.0}, {'label': 'Not Math', 'score': 1.0}, {'label': 'Not Math', 'score': 1.0}, {'label': 'Not Math', 'score': 1.0}, {'label': 'Not Math', 'score': 1.0}, {'label': 'Not Math', 'score': 0.93408203125}, {'label': 'Not Math', 'score': 1.0}, {'label': 'Not Math', 'score': 1.0}, {'label': 'Not Math', 'score': 1.0}, {'label': 'Not Math', 'score': 0.9990234375}, {'label': 'Math', 'score': 1.0}, {'label': 'Not Math', 'score': 1.0}, {'label': 'Math', 'score': 0.61474609375}, {'label': 'Not Math', 'score': 1.0}, {'label': 'Not Math', 'score': 1.0}, {'label': 'Not Math', 'score': 0.73828125}, {'label': 'Not Math', 'score': 1.0}, {'label': 'Not Math', 'score': 1.0}, {'label': 'Math', 'score': 1.0}, {'label': 'Not Math', 'score': 0.9970703125}, {'label': 'Not Math', 'score': 1.0}, {'label': 'Not Math', 'score': 1.0}, {'label': 'Not Math', 'score': 1.0}, {'label': 'Not Math', 'score': 0.9931640625}, {'label': 'Math', 'score': 0.85400390625}, {'label': 'Not Math', 'score': 0.998046875}, {'label': 'Math', 'score': 0.8115234375}, {'label': 'Math', 'score': 1.0}, {'label': 'Not Math', 'score': 1.0}, {'label': 'Not Math', 'score': 1.0}, {'label': 'Not Math', 'score': 0.919921875}, {'label': 'Not Math', 'score': 1.0}, {'label': 'Not Math', 'score': 1.0}, {'label': 'Not Math', 'score': 1.0}, {'label': 'Not Math', 'score': 0.67431640625}, {'label': 'Not Math', 'score': 0.998046875}, {'label': 'Not Math', 'score': 0.90869140625}, {'label': 'Not Math', 'score': 0.65771484375}, {'label': 'Not Math', 'score': 1.0}, {'label': 'Not Math', 'score': 0.76171875}, {'label': 'Not Math', 'score': 1.0}, {'label': 'Not Math', 'score': 1.0}, {'label': 'Not Math', 'score': 1.0}, {'label': 'Not Math', 'score': 1.0}, {'label': 'Math', 'score': 0.6865234375}, {'label': 'Not Math', 'score': 0.9990234375}, {'label': 'Not Math', 'score': 1.0}, {'label': 'Not Math', 'score': 1.0}, {'label': 'Not Math', 'score': 1.0}, {'label': 'Not Math', 'score': 1.0}, {'label': 'Not Math', 'score': 1.0}, {'label': 'Not Math', 'score': 1.0}, {'label': 'Not Math', 'score': 1.0}, {'label': 'Math', 'score': 0.97509765625}, {'label': 'Not Math', 'score': 1.0}, {'label': 'Not Math', 'score': 0.994140625}, {'label': 'Math', 'score': 0.998046875}, {'label': 'Not Math', 'score': 0.9990234375}, {'label': 'Not Math', 'score': 1.0}, {'label': 'Not Math', 'score': 1.0}, {'label': 'Not Math', 'score': 0.96533203125}, {'label': 'Not Math', 'score': 1.0}, {'label': 'Not Math', 'score': 1.0}, {'label': 'Not Math', 'score': 1.0}, {'label': 'Math', 'score': 1.0}, {'label': 'Math', 'score': 1.0}, {'label': 'Math', 'score': 1.0}, {'label': 'Not Math', 'score': 0.9990234375}, {'label': 'Not Math', 'score': 1.0}, {'label': 'Not Math', 'score': 1.0}, {'label': 'Not Math', 'score': 1.0}, {'label': 'Math', 'score': 0.900390625}, {'label': 'Math', 'score': 1.0}, {'label': 'Not Math', 'score': 0.91162109375}, {'label': 'Math', 'score': 1.0}, {'label': 'Math', 'score': 0.9990234375}, {'label': 'Math', 'score': 1.0}, {'label': 'Not Math', 'score': 0.9873046875}, {'label': 'Not Math', 'score': 0.998046875}, {'label': 'Math', 'score': 1.0}, {'label': 'Not Math', 'score': 1.0}, {'label': 'Not Math', 'score': 0.9990234375}, {'label': 'Not Math', 'score': 1.0}, {'label': 'Not Math', 'score': 1.0}, {'label': 'Not Math', 'score': 1.0}, {'label': 'Math', 'score': 0.66357421875}, {'label': 'Not Math', 'score': 1.0}, {'label': 'Not Math', 'score': 1.0}, {'label': 'Not Math', 'score': 1.0}, {'label': 'Not Math', 'score': 1.0}, {'label': 'Not Math', 'score': 1.0}, {'label': 'Not Math', 'score': 1.0}, {'label': 'Not Math', 'score': 1.0}, {'label': 'Not Math', 'score': 1.0}, {'label': 'Not Math', 'score': 1.0}, {'label': 'Not Math', 'score': 1.0}, {'label': 'Not Math', 'score': 1.0}, {'label': 'Math', 'score': 0.994140625}, {'label': 'Not Math', 'score': 1.0}, {'label': 'Not Math', 'score': 1.0}, {'label': 'Not Math', 'score': 1.0}, {'label': 'Not Math', 'score': 1.0}, {'label': 'Not Math', 'score': 1.0}, {'label': 'Not Math', 'score': 1.0}, {'label': 'Not Math', 'score': 1.0}, {'label': 'Not Math', 'score': 1.0}, {'label': 'Not Math', 'score': 1.0}, {'label': 'Not Math', 'score': 1.0}, {'label': 'Math', 'score': 0.98193359375}, {'label': 'Not Math', 'score': 0.94140625}, {'label': 'Not Math', 'score': 1.0}, {'label': 'Not Math', 'score': 0.9990234375}, {'label': 'Not Math', 'score': 1.0}, {'label': 'Not Math', 'score': 1.0}, {'label': 'Not Math', 'score': 1.0}, {'label': 'Not Math', 'score': 1.0}, {'label': 'Not Math', 'score': 1.0}, {'label': 'Not Math', 'score': 1.0}, {'label': 'Not Math', 'score': 1.0}, {'label': 'Not Math', 'score': 1.0}, {'label': 'Not Math', 'score': 0.9990234375}, {'label': 'Not Math', 'score': 1.0}, {'label': 'Not Math', 'score': 1.0}, {'label': 'Not Math', 'score': 0.9990234375}, {'label': 'Not Math', 'score': 0.84326171875}, {'label': 'Not Math', 'score': 1.0}, {'label': 'Not Math', 'score': 1.0}, {'label': 'Not Math', 'score': 1.0}, {'label': 'Not Math', 'score': 0.99609375}, {'label': 'Math', 'score': 0.99609375}, {'label': 'Not Math', 'score': 0.9990234375}, {'label': 'Not Math', 'score': 0.98095703125}, {'label': 'Not Math', 'score': 0.998046875}, {'label': 'Not Math', 'score': 1.0}, {'label': 'Not Math', 'score': 0.642578125}, {'label': 'Math', 'score': 0.99609375}, {'label': 'Not Math', 'score': 1.0}, {'label': 'Not Math', 'score': 1.0}, {'label': 'Not Math', 'score': 0.90869140625}, {'label': 'Math', 'score': 1.0}, {'label': 'Not Math', 'score': 1.0}, {'label': 'Not Math', 'score': 0.5048828125}, {'label': 'Not Math', 'score': 1.0}, {'label': 'Not Math', 'score': 1.0}, {'label': 'Not Math', 'score': 1.0}, {'label': 'Not Math', 'score': 1.0}, {'label': 'Not Math', 'score': 1.0}, {'label': 'Not Math', 'score': 1.0}, {'label': 'Not Math', 'score': 1.0}, {'label': 'Not Math', 'score': 1.0}, {'label': 'Not Math', 'score': 1.0}, {'label': 'Not Math', 'score': 1.0}, {'label': 'Not Math', 'score': 1.0}, {'label': 'Not Math', 'score': 0.99609375}, {'label': 'Not Math', 'score': 0.9990234375}, {'label': 'Not Math', 'score': 1.0}, {'label': 'Not Math', 'score': 1.0}, {'label': 'Not Math', 'score': 0.9990234375}, {'label': 'Not Math', 'score': 1.0}, {'label': 'Not Math', 'score': 1.0}, {'label': 'Not Math', 'score': 1.0}, {'label': 'Not Math', 'score': 1.0}, {'label': 'Not Math', 'score': 1.0}, {'label': 'Not Math', 'score': 0.8125}, {'label': 'Not Math', 'score': 0.79931640625}, {'label': 'Not Math', 'score': 1.0}, {'label': 'Not Math', 'score': 1.0}, {'label': 'Math', 'score': 0.69921875}, {'label': 'Math', 'score': 0.98388671875}, {'label': 'Math', 'score': 1.0}, {'label': 'Not Math', 'score': 0.998046875}, {'label': 'Not Math', 'score': 1.0}, {'label': 'Not Math', 'score': 1.0}, {'label': 'Not Math', 'score': 1.0}, {'label': 'Math', 'score': 1.0}, {'label': 'Math', 'score': 1.0}, {'label': 'Not Math', 'score': 0.99609375}, {'label': 'Not Math', 'score': 1.0}, {'label': 'Not Math', 'score': 1.0}, {'label': 'Not Math', 'score': 1.0}, {'label': 'Not Math', 'score': 0.998046875}, {'label': 'Not Math', 'score': 1.0}, {'label': 'Not Math', 'score': 1.0}, {'label': 'Not Math', 'score': 1.0}, {'label': 'Not Math', 'score': 1.0}, {'label': 'Math', 'score': 0.98193359375}, {'label': 'Math', 'score': 1.0}, {'label': 'Not Math', 'score': 0.9697265625}, {'label': 'Math', 'score': 1.0}, {'label': 'Math', 'score': 1.0}, {'label': 'Math', 'score': 0.9951171875}, {'label': 'Math', 'score': 1.0}, {'label': 'Not Math', 'score': 1.0}, {'label': 'Math', 'score': 1.0}, {'label': 'Math', 'score': 0.9677734375}, {'label': 'Math', 'score': 1.0}, {'label': 'Not Math', 'score': 1.0}, {'label': 'Not Math', 'score': 1.0}, {'label': 'Not Math', 'score': 0.99609375}, {'label': 'Math', 'score': 0.97705078125}, {'label': 'Not Math', 'score': 0.99609375}, {'label': 'Math', 'score': 0.9990234375}, {'label': 'Math', 'score': 0.98828125}, {'label': 'Math', 'score': 0.9990234375}, {'label': 'Not Math', 'score': 1.0}, {'label': 'Not Math', 'score': 0.60498046875}, {'label': 'Math', 'score': 0.9111328125}, {'label': 'Math', 'score': 1.0}, {'label': 'Not Math', 'score': 1.0}, {'label': 'Math', 'score': 1.0}, {'label': 'Not Math', 'score': 0.994140625}, {'label': 'Math', 'score': 0.9990234375}, {'label': 'Not Math', 'score': 1.0}, {'label': 'Not Math', 'score': 1.0}, {'label': 'Not Math', 'score': 0.5546875}, {'label': 'Math', 'score': 1.0}, {'label': 'Not Math', 'score': 0.9990234375}, {'label': 'Not Math', 'score': 1.0}, {'label': 'Not Math', 'score': 1.0}, {'label': 'Not Math', 'score': 1.0}, {'label': 'Not Math', 'score': 0.82470703125}, {'label': 'Not Math', 'score': 1.0}, {'label': 'Not Math', 'score': 1.0}, {'label': 'Not Math', 'score': 1.0}, {'label': 'Not Math', 'score': 0.7734375}, {'label': 'Math', 'score': 1.0}, {'label': 'Math', 'score': 1.0}, {'label': 'Math', 'score': 0.9990234375}, {'label': 'Math', 'score': 0.92919921875}, {'label': 'Not Math', 'score': 1.0}, {'label': 'Not Math', 'score': 0.56005859375}, {'label': 'Not Math', 'score': 1.0}, {'label': 'Math', 'score': 0.63330078125}, {'label': 'Math', 'score': 0.802734375}, {'label': 'Not Math', 'score': 1.0}, {'label': 'Not Math', 'score': 1.0}, {'label': 'Not Math', 'score': 0.99609375}, {'label': 'Not Math', 'score': 0.9462890625}, {'label': 'Not Math', 'score': 0.916015625}, {'label': 'Not Math', 'score': 1.0}, {'label': 'Not Math', 'score': 0.98388671875}, {'label': 'Math', 'score': 1.0}, {'label': 'Not Math', 'score': 0.966796875}, {'label': 'Math', 'score': 1.0}, {'label': 'Math', 'score': 1.0}, {'label': 'Math', 'score': 1.0}, {'label': 'Math', 'score': 0.95703125}, {'label': 'Not Math', 'score': 0.9990234375}, {'label': 'Math', 'score': 0.9951171875}, {'label': 'Math', 'score': 1.0}, {'label': 'Math', 'score': 1.0}, {'label': 'Math', 'score': 0.9990234375}, {'label': 'Math', 'score': 1.0}, {'label': 'Math', 'score': 1.0}, {'label': 'Not Math', 'score': 1.0}, {'label': 'Not Math', 'score': 1.0}, {'label': 'Not Math', 'score': 1.0}, {'label': 'Not Math', 'score': 1.0}, {'label': 'Not Math', 'score': 1.0}, {'label': 'Not Math', 'score': 0.7099609375}, {'label': 'Math', 'score': 1.0}, {'label': 'Math', 'score': 0.71630859375}, {'label': 'Not Math', 'score': 0.73291015625}, {'label': 'Math', 'score': 1.0}, {'label': 'Math', 'score': 0.82568359375}, {'label': 'Not Math', 'score': 0.97900390625}, {'label': 'Not Math', 'score': 0.51708984375}, {'label': 'Not Math', 'score': 0.9111328125}, {'label': 'Math', 'score': 1.0}, {'label': 'Math', 'score': 0.9990234375}, {'label': 'Not Math', 'score': 1.0}, {'label': 'Not Math', 'score': 1.0}, {'label': 'Not Math', 'score': 1.0}, {'label': 'Not Math', 'score': 1.0}, {'label': 'Not Math', 'score': 1.0}, {'label': 'Not Math', 'score': 1.0}, {'label': 'Not Math', 'score': 1.0}, {'label': 'Not Math', 'score': 1.0}, {'label': 'Not Math', 'score': 1.0}, {'label': 'Not Math', 'score': 1.0}, {'label': 'Not Math', 'score': 1.0}, {'label': 'Not Math', 'score': 1.0}, {'label': 'Not Math', 'score': 1.0}, {'label': 'Not Math', 'score': 1.0}, {'label': 'Not Math', 'score': 1.0}, {'label': 'Not Math', 'score': 1.0}, {'label': 'Not Math', 'score': 1.0}, {'label': 'Not Math', 'score': 1.0}, {'label': 'Not Math', 'score': 1.0}, {'label': 'Not Math', 'score': 1.0}, {'label': 'Not Math', 'score': 1.0}, {'label': 'Not Math', 'score': 1.0}, {'label': 'Not Math', 'score': 1.0}, {'label': 'Not Math', 'score': 1.0}, {'label': 'Not Math', 'score': 1.0}, {'label': 'Not Math', 'score': 0.919921875}, {'label': 'Math', 'score': 1.0}, {'label': 'Not Math', 'score': 1.0}, {'label': 'Not Math', 'score': 0.9990234375}, {'label': 'Not Math', 'score': 1.0}, {'label': 'Not Math', 'score': 0.9970703125}, {'label': 'Not Math', 'score': 1.0}, {'label': 'Not Math', 'score': 1.0}, {'label': 'Not Math', 'score': 1.0}, {'label': 'Not Math', 'score': 1.0}, {'label': 'Not Math', 'score': 1.0}, {'label': 'Not Math', 'score': 1.0}, {'label': 'Not Math', 'score': 1.0}, {'label': 'Not Math', 'score': 1.0}, {'label': 'Not Math', 'score': 0.9990234375}, {'label': 'Not Math', 'score': 0.9970703125}, {'label': 'Not Math', 'score': 0.9990234375}, {'label': 'Not Math', 'score': 1.0}, {'label': 'Not Math', 'score': 1.0}, {'label': 'Not Math', 'score': 0.9970703125}, {'label': 'Not Math', 'score': 1.0}, {'label': 'Not Math', 'score': 1.0}, {'label': 'Math', 'score': 0.986328125}, {'label': 'Not Math', 'score': 0.9951171875}, {'label': 'Not Math', 'score': 0.998046875}, {'label': 'Not Math', 'score': 0.9990234375}, {'label': 'Not Math', 'score': 1.0}, {'label': 'Not Math', 'score': 1.0}, {'label': 'Not Math', 'score': 0.93017578125}, {'label': 'Not Math', 'score': 1.0}, {'label': 'Not Math', 'score': 0.88671875}, {'label': 'Not Math', 'score': 0.998046875}, {'label': 'Not Math', 'score': 0.9990234375}, {'label': 'Not Math', 'score': 0.99609375}, {'label': 'Not Math', 'score': 0.95703125}, {'label': 'Not Math', 'score': 0.9990234375}, {'label': 'Not Math', 'score': 1.0}, {'label': 'Not Math', 'score': 0.9970703125}, {'label': 'Not Math', 'score': 0.998046875}, {'label': 'Not Math', 'score': 0.9853515625}]\n"
     ]
    }
   ],
   "source": [
    "outputs = pipe(text_list, batch_size=8, truncation=\"only_first\",)\n",
    "print(outputs)"
   ]
  },
  {
   "cell_type": "code",
   "execution_count": 15,
   "metadata": {},
   "outputs": [],
   "source": [
    "# for input, output in zip(text_list, outputs):\n",
    "#     print(f\"output: {output['label']} - Input: {input}\")\n",
    "#     print(\"---------------\")"
   ]
  },
  {
   "cell_type": "code",
   "execution_count": 16,
   "metadata": {},
   "outputs": [
    {
     "name": "stdout",
     "output_type": "stream",
     "text": [
      "[34, 44, 45, 50, 51, 54, 56, 57, 68, 70, 75, 76, 77, 78, 79, 80, 81, 82, 83, 84, 85, 86, 96, 97, 101, 105, 110, 113, 123, 124, 125, 126, 127, 128, 132, 133, 135, 147, 156, 161, 162, 178, 181, 184, 189, 198, 203, 210, 223, 227, 229, 237, 244, 247, 250, 257, 260, 265, 293, 301, 308, 315, 327, 345, 351, 360, 363, 375, 380, 383, 391, 392, 400, 406, 408, 409, 412, 416, 417, 434, 448, 455, 463, 469, 470, 481, 501, 513, 518, 521, 532, 542, 543, 545, 547, 559, 566, 575, 577, 601, 602, 604, 610, 622, 624, 627, 630, 636, 638, 640, 643, 644, 651, 660, 661, 662, 663, 666, 667, 669, 673, 674, 675, 687, 688, 689, 690, 692, 693, 694, 696, 699, 700, 704, 715, 716, 719, 722, 734, 736, 738, 739, 740, 741, 742, 743, 744, 745, 746, 747, 770, 780, 785, 787, 789, 795, 805, 808, 828, 830, 831, 832, 834, 836, 837, 839, 843, 844, 847, 850, 851, 852, 854, 856, 862, 864, 871, 873, 875, 877, 878, 879, 882, 886, 889, 890, 891, 892, 894, 895, 896, 897, 898, 899, 900, 901, 908, 909, 914, 915, 916, 917, 922, 923, 924, 925, 926, 927, 928, 929, 930, 931, 933, 934, 937, 938, 939, 940, 941, 943, 959, 961, 972, 974, 980, 986, 988, 989, 1006, 1015, 1018, 1026, 1027, 1028, 1033, 1034, 1036, 1037, 1038, 1041, 1047, 1059, 1070, 1091, 1097, 1101, 1129, 1130, 1131, 1136, 1137, 1147, 1148, 1150, 1151, 1152, 1153, 1155, 1156, 1157, 1161, 1163, 1164, 1165, 1168, 1169, 1171, 1173, 1177, 1187, 1188, 1189, 1190, 1194, 1195, 1203, 1205, 1206, 1207, 1208, 1210, 1211, 1212, 1213, 1214, 1215, 1222, 1223, 1225, 1226, 1230, 1231, 1258, 1279]\n"
     ]
    }
   ],
   "source": [
    "math_indices = [index for index, output in enumerate(outputs) if output['label'].lower() == \"math\"]\n",
    "\n",
    "# Print the list of indices where the label is \"math\"\n",
    "print(math_indices)"
   ]
  },
  {
   "cell_type": "code",
   "execution_count": 17,
   "metadata": {},
   "outputs": [
    {
     "name": "stdout",
     "output_type": "stream",
     "text": [
      "1297 294\n"
     ]
    }
   ],
   "source": [
    "print(len(text_list), len(math_indices))\n"
   ]
  },
  {
   "cell_type": "code",
   "execution_count": 18,
   "metadata": {},
   "outputs": [],
   "source": [
    "doc = pymupdf.open(pdf_path)  # open document\n",
    "tmp_path = \"data/tmp/\"\n",
    "for page in doc:  # iterate through the pages\n",
    "    if not (page.number in math_indices):\n",
    "        continue\n",
    "    pix = page.get_pixmap()  # render page to an image\n",
    "    pix.save(f\"{tmp_path}/%i.png\" % page.number)  # store image as a PNG"
   ]
  },
  {
   "cell_type": "code",
   "execution_count": 19,
   "metadata": {},
   "outputs": [
    {
     "name": "stdout",
     "output_type": "stream",
     "text": [
      "Selected device: cuda\n"
     ]
    }
   ],
   "source": [
    "nougat_processor = pipeline(\"image-to-text\", model=\"facebook/nougat-small\",  device = take_device(), max_new_tokens=1024 )"
   ]
  },
  {
   "cell_type": "code",
   "execution_count": 20,
   "metadata": {},
   "outputs": [
    {
     "name": "stdout",
     "output_type": "stream",
     "text": [
      "['data/tmp/34.png', 'data/tmp/44.png', 'data/tmp/45.png', 'data/tmp/50.png', 'data/tmp/51.png', 'data/tmp/54.png', 'data/tmp/56.png', 'data/tmp/57.png', 'data/tmp/68.png', 'data/tmp/70.png', 'data/tmp/75.png', 'data/tmp/76.png', 'data/tmp/77.png', 'data/tmp/78.png', 'data/tmp/79.png', 'data/tmp/80.png', 'data/tmp/81.png', 'data/tmp/82.png', 'data/tmp/83.png', 'data/tmp/84.png', 'data/tmp/85.png', 'data/tmp/86.png', 'data/tmp/96.png', 'data/tmp/97.png', 'data/tmp/101.png', 'data/tmp/105.png', 'data/tmp/110.png', 'data/tmp/113.png', 'data/tmp/123.png', 'data/tmp/124.png', 'data/tmp/125.png', 'data/tmp/126.png', 'data/tmp/127.png', 'data/tmp/128.png', 'data/tmp/132.png', 'data/tmp/133.png', 'data/tmp/135.png', 'data/tmp/147.png', 'data/tmp/156.png', 'data/tmp/161.png', 'data/tmp/162.png', 'data/tmp/178.png', 'data/tmp/181.png', 'data/tmp/184.png', 'data/tmp/189.png', 'data/tmp/198.png', 'data/tmp/203.png', 'data/tmp/210.png', 'data/tmp/223.png', 'data/tmp/227.png', 'data/tmp/229.png', 'data/tmp/237.png', 'data/tmp/244.png', 'data/tmp/247.png', 'data/tmp/250.png', 'data/tmp/257.png', 'data/tmp/260.png', 'data/tmp/265.png', 'data/tmp/293.png', 'data/tmp/301.png', 'data/tmp/308.png', 'data/tmp/315.png', 'data/tmp/327.png', 'data/tmp/345.png', 'data/tmp/351.png', 'data/tmp/360.png', 'data/tmp/363.png', 'data/tmp/375.png', 'data/tmp/380.png', 'data/tmp/383.png', 'data/tmp/391.png', 'data/tmp/392.png', 'data/tmp/400.png', 'data/tmp/406.png', 'data/tmp/408.png', 'data/tmp/409.png', 'data/tmp/412.png', 'data/tmp/416.png', 'data/tmp/417.png', 'data/tmp/434.png', 'data/tmp/448.png', 'data/tmp/455.png', 'data/tmp/463.png', 'data/tmp/469.png', 'data/tmp/470.png', 'data/tmp/481.png', 'data/tmp/501.png', 'data/tmp/513.png', 'data/tmp/518.png', 'data/tmp/521.png', 'data/tmp/532.png', 'data/tmp/542.png', 'data/tmp/543.png', 'data/tmp/545.png', 'data/tmp/547.png', 'data/tmp/559.png', 'data/tmp/566.png', 'data/tmp/575.png', 'data/tmp/577.png', 'data/tmp/601.png', 'data/tmp/602.png', 'data/tmp/604.png', 'data/tmp/610.png', 'data/tmp/622.png', 'data/tmp/624.png', 'data/tmp/627.png', 'data/tmp/630.png', 'data/tmp/636.png', 'data/tmp/638.png', 'data/tmp/640.png', 'data/tmp/643.png', 'data/tmp/644.png', 'data/tmp/651.png', 'data/tmp/660.png', 'data/tmp/661.png', 'data/tmp/662.png', 'data/tmp/663.png', 'data/tmp/666.png', 'data/tmp/667.png', 'data/tmp/669.png', 'data/tmp/673.png', 'data/tmp/674.png', 'data/tmp/675.png', 'data/tmp/687.png', 'data/tmp/688.png', 'data/tmp/689.png', 'data/tmp/690.png', 'data/tmp/692.png', 'data/tmp/693.png', 'data/tmp/694.png', 'data/tmp/696.png', 'data/tmp/699.png', 'data/tmp/700.png', 'data/tmp/704.png', 'data/tmp/715.png', 'data/tmp/716.png', 'data/tmp/719.png', 'data/tmp/722.png', 'data/tmp/734.png', 'data/tmp/736.png', 'data/tmp/738.png', 'data/tmp/739.png', 'data/tmp/740.png', 'data/tmp/741.png', 'data/tmp/742.png', 'data/tmp/743.png', 'data/tmp/744.png', 'data/tmp/745.png', 'data/tmp/746.png', 'data/tmp/747.png', 'data/tmp/770.png', 'data/tmp/780.png', 'data/tmp/785.png', 'data/tmp/787.png', 'data/tmp/789.png', 'data/tmp/795.png', 'data/tmp/805.png', 'data/tmp/808.png', 'data/tmp/828.png', 'data/tmp/830.png', 'data/tmp/831.png', 'data/tmp/832.png', 'data/tmp/834.png', 'data/tmp/836.png', 'data/tmp/837.png', 'data/tmp/839.png', 'data/tmp/843.png', 'data/tmp/844.png', 'data/tmp/847.png', 'data/tmp/850.png', 'data/tmp/851.png', 'data/tmp/852.png', 'data/tmp/854.png', 'data/tmp/856.png', 'data/tmp/862.png', 'data/tmp/864.png', 'data/tmp/871.png', 'data/tmp/873.png', 'data/tmp/875.png', 'data/tmp/877.png', 'data/tmp/878.png', 'data/tmp/879.png', 'data/tmp/882.png', 'data/tmp/886.png', 'data/tmp/889.png', 'data/tmp/890.png', 'data/tmp/891.png', 'data/tmp/892.png', 'data/tmp/894.png', 'data/tmp/895.png', 'data/tmp/896.png', 'data/tmp/897.png', 'data/tmp/898.png', 'data/tmp/899.png', 'data/tmp/900.png', 'data/tmp/901.png', 'data/tmp/908.png', 'data/tmp/909.png', 'data/tmp/914.png', 'data/tmp/915.png', 'data/tmp/916.png', 'data/tmp/917.png', 'data/tmp/922.png', 'data/tmp/923.png', 'data/tmp/924.png', 'data/tmp/925.png', 'data/tmp/926.png', 'data/tmp/927.png', 'data/tmp/928.png', 'data/tmp/929.png', 'data/tmp/930.png', 'data/tmp/931.png', 'data/tmp/933.png', 'data/tmp/934.png', 'data/tmp/937.png', 'data/tmp/938.png', 'data/tmp/939.png', 'data/tmp/940.png', 'data/tmp/941.png', 'data/tmp/943.png', 'data/tmp/959.png', 'data/tmp/961.png', 'data/tmp/972.png', 'data/tmp/974.png', 'data/tmp/980.png', 'data/tmp/986.png', 'data/tmp/988.png', 'data/tmp/989.png', 'data/tmp/1006.png', 'data/tmp/1015.png', 'data/tmp/1018.png', 'data/tmp/1026.png', 'data/tmp/1027.png', 'data/tmp/1028.png', 'data/tmp/1033.png', 'data/tmp/1034.png', 'data/tmp/1036.png', 'data/tmp/1037.png', 'data/tmp/1038.png', 'data/tmp/1041.png', 'data/tmp/1047.png', 'data/tmp/1059.png', 'data/tmp/1070.png', 'data/tmp/1091.png', 'data/tmp/1097.png', 'data/tmp/1101.png', 'data/tmp/1129.png', 'data/tmp/1130.png', 'data/tmp/1131.png', 'data/tmp/1136.png', 'data/tmp/1137.png', 'data/tmp/1147.png', 'data/tmp/1148.png', 'data/tmp/1150.png', 'data/tmp/1151.png', 'data/tmp/1152.png', 'data/tmp/1153.png', 'data/tmp/1155.png', 'data/tmp/1156.png', 'data/tmp/1157.png', 'data/tmp/1161.png', 'data/tmp/1163.png', 'data/tmp/1164.png', 'data/tmp/1165.png', 'data/tmp/1168.png', 'data/tmp/1169.png', 'data/tmp/1171.png', 'data/tmp/1173.png', 'data/tmp/1177.png', 'data/tmp/1187.png', 'data/tmp/1188.png', 'data/tmp/1189.png', 'data/tmp/1190.png', 'data/tmp/1194.png', 'data/tmp/1195.png', 'data/tmp/1203.png', 'data/tmp/1205.png', 'data/tmp/1206.png', 'data/tmp/1207.png', 'data/tmp/1208.png', 'data/tmp/1210.png', 'data/tmp/1211.png', 'data/tmp/1212.png', 'data/tmp/1213.png', 'data/tmp/1214.png', 'data/tmp/1215.png', 'data/tmp/1222.png', 'data/tmp/1223.png', 'data/tmp/1225.png', 'data/tmp/1226.png', 'data/tmp/1230.png', 'data/tmp/1231.png', 'data/tmp/1258.png', 'data/tmp/1279.png']\n"
     ]
    }
   ],
   "source": [
    "def get_all_dir(root_dir):\n",
    "    # Get the list of items in the directory\n",
    "    items = os.listdir(root_dir)\n",
    "    # Sort the items list in natural order\n",
    "    items = natsorted(items)\n",
    "    # Create full paths\n",
    "    image_list = [os.path.join(root_dir, item) for item in items]\n",
    "    return image_list\n",
    "\n",
    "image_list = get_all_dir(tmp_path)\n",
    "print(image_list)"
   ]
  },
  {
   "cell_type": "code",
   "execution_count": 21,
   "metadata": {},
   "outputs": [],
   "source": [
    "outputs = nougat_processor(image_list, batch_size=8, max_new_tokens=512,)"
   ]
  },
  {
   "cell_type": "code",
   "execution_count": 26,
   "metadata": {},
   "outputs": [
    {
     "data": {
      "text/plain": [
       "[[{'generated_text': \"For a concrete example, let us pit a faster computer (computer A) running insertion sort against a slower computer (computer B) running merge sort. They each must sort an array of 10 million numbers. (Although 10 million numbers might seem like a lot, if the numbers are eight-byte integers, then the input occupies about 80 megabytes, which fits in the memory of even an inexpensive laptop computer many times over.) Suppose that computer A executes 10 billion instructions per second (faster than any single sequential computer at the time of this writing) and computer B executes only 10 million instructions per second (much slower than most contemporary computers), so that computer A is 1000 times faster than computer B in raw computing power. To make the difference even more dramatic, suppose that the world's crafts programmer codes insertion sort in machine language for computer A, and the resulting code requires \\\\(2n^{2}\\\\) instructions to sort \\\\(n\\\\) numbers. Suppose further that just an average programmer implements merge sort, using a high-level language with an inefficient compiler, with the resulting code taking \\\\(50\\\\,n\\\\,\\\\lg n\\\\) instructions. To sort 10 million numbers, computer A takes\\n\\n\\\\(2\\\\cdot(10^{7})^{2}\\\\) instructions \\\\(10^{10}\\\\) instructions/second = 20,000 seconds (more than 5.5 hours) ,\\n\\nwhile computer B takes\\n\\n\\\\(50\\\\cdot 10^{7}\\\\lg 10^{7}\\\\) instructions \\\\(10^{7}\\\\) instructions/second \\\\(\\\\approx\\\\) 1163 seconds (under 20 minutes) .\\n\\nBy using an algorithm whose running time grows more slowly, even with a poor compiler, computer B runs more than 17 times faster than computer A! The advantage of merge sort is even more pronounced when sorting 100 million numbers: where insertion sort takes more than 23 days, merge sort takes under four hours. Although 100 million might seem like a large number, there are more than 100 million web searches every half hour, more than 100 million emails sent\"}],\n",
       " [{'generated_text': 'clear about whether a particular algorithm assumes \\\\(0\\\\)-origin or \\\\(1\\\\)-origin indexing, we\\'ll specify the bounds of the arrays explicitly. If you are implementing an algorithm that we specify using \\\\(1\\\\)-origin indexing, but you\\'re writing in a programming language that enforces \\\\(0\\\\)-origin indexing (such as C, C++, Java, Python, or JavaScript), then give yourself credit for being able to adjust. You can either always subtract \\\\(1\\\\) from each index or allocate each array with one extra position and just ignore position \\\\(0\\\\). The notation \"\\\\(:\\\\)\" denotes a subarray. Thus, \\\\(A[i:j]\\\\) indicates the subarray of \\\\(A\\\\) consisting of the elements \\\\(A[i]\\\\), \\\\(A[i+1]\\\\), \\\\(\\\\ldots\\\\), \\\\(A[j]\\\\).7 We also use this notation to indicate the bounds of an array, as we did earlier when discussing the array \\\\(A[1:n]\\\\). Footnote 7: If you’re used to programming in Python, bear in mind that in this book, the subarray \\\\(A[i:j]\\\\) includes the element \\\\(A[j]\\\\). In Python, the last element of \\\\(A[i:j]\\\\) is \\\\(A[j-1]\\\\). Python allows negative indices, which count from the back end of the list. This book does not use negative array indices.\\n* We typically organize compound data into _objects_, which are composed of _attributes_. We access a particular attribute using the syntax found in many object-oriented programming languages: the object name, followed by a dot, followed by the attribute name. For example, if an object \\\\(x\\\\) has attribute \\\\(f\\\\), we denote this attribute by \\\\(x.f\\\\). We treat a variable representing an array or object as a pointer (known as a reference in some programming languages) to the data representing the array or object. For all attributes \\\\(f\\\\) of an object \\\\(x\\\\), setting \\\\(y=x\\\\) causes \\\\'}],\n",
       " [{'generated_text': 'the called procedure is not visible to the calling procedure. The assignment \\\\(x.f=3\\\\), however, is visible if the calling procedure has a pointer to the same object as \\\\(x\\\\). Similarly, arrays are passed by pointer, so that a pointer to the array is passed, rather than the entire array, and changes to individual array elements are visible to the calling procedure. Again, most contemporary programming languages work this way.\\n* A **return** statement immediately transfers control back to the point of call in the calling procedure. Most **return** statements also take a value to pass back to the caller. Our pseudocode differs from many programming languages in that we allow multiple values to be returned in a single **return** statement without having to create objects to package them together.8 Footnote 8: Python’s tuple notation allows **return** statements to return multiple values without creating objects from a programmer-defined class.\\n* The boolean operators \"and\" and \"or\" are _short circuiting_. That is, evaluate the expression \"\\\\(x\\\\) and \\\\(y\\\\)\" by first evaluating \\\\(x\\\\). If \\\\(x\\\\) evaluates to false, then the entire expression cannot evaluate to true, and therefore \\\\(y\\\\) is not evaluated. If, on the other hand, \\\\(x\\\\) evaluates to true, \\\\(y\\\\) must be evaluated to determine the value of the entire expression. Similarly, in the expression \"\\\\(x\\\\) or \\\\(y\\\\)\" the expression \\\\(y\\\\) is evaluated only if \\\\(x\\\\) evaluates to false. Short-circuiting operators allow us to write boolean expressions such as \"\\\\(x\\\\neq\\\\textsc{nil}\\\\) and \\\\(x.f=y\\\\)\" without worrying about what happens upon evaluating \\\\(x.f\\\\) when \\\\(x\\\\) is nil.\\n* The keyword **error** indicates that an error occurred because conditions were wrong for the procedure to have been called, and the procedure immediately terminates. The calling procedure is responsible for handling the error, and so we do not specify what action to take.\\n\\n##### Exercises\\n\\n##### 2.1-1\\n\\nUsing Figure 2.2 as a model, illustrate the operation of Insertion-'}],\n",
       " [{'generated_text': \"of vertices and the number of edges in the graph. We'll indicate which input size measure is being used with each problem we study.\\n\\nThe _running time_ of an algorithm on a particular input is the number of instructions and data accesses executed. How we account for these costs should be independent of any particular computer, but within the framework of the RAM model. For the moment, let us adopt the following view. A constant amount of time is required to execute each line of our pseudocode. One line might take more or less time than another line, but we'll assume that each execution of the \\\\(k\\\\)th line takes \\\\(c_{k}\\\\) time, where \\\\(c_{k}\\\\) is a constant. This viewpoint is in keeping with the RAM model, and it also reflects how the pseudocode would be implemented on most actual computers.10\\n\\nFootnote 10: There are some subtleties here. Computational steps that we specify in English are often variants of a procedure that requires more than just a constant amount of time. For example, in the RAdixSort procedure on page 213, one line reads “use a stable sort to sort array \\\\(A\\\\) on digit \\\\(i\\\\),” which, as we shall see, takes more than a constant amount of time. Also, although a statement that calls a subroutine takes only constant time, the subroutine itself, once invoked, may take more. That is, we separate the process of _calling_ the subroutine\\\\(-\\\\)passing parameters to it, etc.\\\\(-\\\\)from the process of _executing_ the subroutine.\\n\\nLet's analyze the Insertion-Sort procedure. As promised, we'll start by devising a precise formula that uses the input size and all the statement costs \\\\(c_{k}\\\\). This formula turns out to be messy, however. We'll then switch to a simpler notation that is more concise and easier to use. This simpler notation makes clear how to compare the running times of algorithms, especially as the size of the input increases.\\n\\nTo analyze the Insertion-Sort procedure, let's view it on the following page with the time cost of each statement and the number of times each statement is executed. For each \\\\(i=2,3,\\\\ldots,n\\\\), let \\\\(\"}],\n",
       " [{'generated_text': \"\\\\[T(n) = c_{1}n+c_{2}(n-1)+c_{4}(n-1)+c_{5}\\\\sum_{i=2}^{n}t_{i}+c_{6}\\\\sum_{i=2 }^{n}(t_{i}-1)\\\\] \\\\[+c_{7}\\\\sum_{i=2}^{n}(t_{i}-1)+c_{8}(n-1)\\\\ .\\\\]\\n\\nEven for inputs of a given size, an algorithm's running time may depend on _which_ input of that size is given. For example, in Insertion-Sort, the best case occurs when the array is already sorted. In this case, each time that line 5 executes, the value of _key_--the value originally in \\\\(A[i]\\\\)--is already greater than or equal to all values in \\\\(A[1:i-1]\\\\), so that the **while** loop of lines 5-7 always exits upon the first test in line 5. Therefore, we have that \\\\(t_{i}=1\\\\) for \\\\(i=2,3,\\\\ldots,n\\\\), and the best-case running time is given by\\n\\n\\\\[T(n) = c_{1}n+c_{2}(n-1)+c_{4}(n-1)+c_{5}(n-1)+c_{8}(n-1)\\\\] (2.1) \\\\[= (c_{1}+c_{2}+c_{4}+c_{5}+c_{8})n-(c_{2}+c_{4}+c_{5}+c_{8})\\\\ .\\\\]\\n\\nWe can express this running time as \\\\(an+b\\\\) for _constants_\\\\(a\\\\) and \\\\(b\\\\) that depend on the statement costs \\\\(c_{k}\\\\) (where \\\\(a=c_{1}+\"}]]"
      ]
     },
     "execution_count": 26,
     "metadata": {},
     "output_type": "execute_result"
    }
   ],
   "source": [
    "outputs[:5]"
   ]
  },
  {
   "cell_type": "code",
   "execution_count": 23,
   "metadata": {},
   "outputs": [
    {
     "name": "stdout",
     "output_type": "stream",
     "text": [
      "Removed the folder: data/tmp/\n",
      "Recreated the folder: data/tmp/\n"
     ]
    }
   ],
   "source": [
    "import shutil\n",
    "def remove_and_recreate_folder(folder_path):\n",
    "    # Check if the folder exists\n",
    "    if os.path.exists(folder_path):\n",
    "        # Remove the folder and all its contents\n",
    "        shutil.rmtree(folder_path)\n",
    "        print(f\"Removed the folder: {folder_path}\")\n",
    "    \n",
    "    # Recreate the folder\n",
    "    os.makedirs(folder_path)\n",
    "    print(f\"Recreated the folder: {folder_path}\")\n",
    "\n",
    "remove_and_recreate_folder(tmp_path)"
   ]
  },
  {
   "cell_type": "code",
   "execution_count": 24,
   "metadata": {},
   "outputs": [],
   "source": [
    "for i, idx in enumerate(math_indices):\n",
    "    ori_text[idx].page_content = outputs[i][0][\"generated_text\"]"
   ]
  },
  {
   "cell_type": "code",
   "execution_count": 27,
   "metadata": {},
   "outputs": [
    {
     "data": {
      "text/plain": [
       "[Document(page_content='  Introduction to Algorithms \\nFourth Edition \\n  Thomas H. Cormen \\nCharles E. Leiserson \\nRonald L. Rivest \\nClifford Stein \\nIntroduction to Algorithms \\nFourth Edition \\nThe MIT Press \\nCambridge, Massachusetts \\nLondon, England \\n', metadata={'source': 'data/web_data/introduction to algo4 new.pdf', 'file_path': 'data/web_data/introduction to algo4 new.pdf', 'page': 4, 'total_pages': 1312, 'format': 'PDF 1.4', 'title': '', 'author': '', 'subject': '', 'keywords': '', 'creator': '', 'producer': '', 'creationDate': '', 'modDate': '', 'trapped': ''}),\n",
       " Document(page_content='c \\n\\ue001 2022 Massachusetts Institute of Technology \\nAll rights reserved. No part of this book may be reproduced in any form or by any electronic or mechanical means \\n(including photocopying, recording, or information storage and retrieval) without permission in writing from the \\npublisher. \\nThe MIT Press would like to thank the anonymous peer reviewers who provided comments on drafts of this book. \\nThe generous work of academic experts is essential for establishing the authority and quality of our publications. \\nWe acknowledge with gratitude the contributions of these otherwise uncredited readers. \\nThis book was set in Times Roman and MathTime Professional II by the authors. \\nNames: Cormen, Thomas H., author. j Leiserson, Charles Eric, author. j \\nRivest, Ronald L., author. j Stein, Clifford, author. \\nTitle: Introduction to algorithms / Thomas H. Cormen, Charles E. Leiserson, \\nRonald L. Rivest, Clifford Stein. \\nDescription: Fourth edition. j Cambridge, Massachusetts : The MIT Press, \\n[2022] j Includes bibliographical references and index. \\nIdentiûers: LCCN 2021037260 j ISBN 9780262046305 \\nSubjects: LCSH: Computer programming. j Computer algorithms. \\nClassiûcation: LCC QA76.6 .C662 2022 j DDC 005.13--dc23 \\nLC record available at http://lccn.loc.gov/2021037260 \\n10 9 8 7 6 5 4 3 2 1 \\n', metadata={'source': 'data/web_data/introduction to algo4 new.pdf', 'file_path': 'data/web_data/introduction to algo4 new.pdf', 'page': 5, 'total_pages': 1312, 'format': 'PDF 1.4', 'title': '', 'author': '', 'subject': '', 'keywords': '', 'creator': '', 'producer': '', 'creationDate': '', 'modDate': '', 'trapped': ''}),\n",
       " Document(page_content='Contents \\nPreface \\nxiii \\nI Foundations \\nIntroduction \\n3 \\n1 \\nThe Role of Algorithms in Computing 5 \\n1.1 \\nAlgorithms 5 \\n1.2 \\nAlgorithms as a technology 12 \\n2 \\nGetting Started 17 \\n2.1 \\nInsertion sort 17 \\n2.2 \\nAnalyzing algorithms 25 \\n2.3 \\nDesigning algorithms 34 \\n3 \\nCharacterizing Running Times 49 \\n3.1 \\nO-notation, Y-notation, and ‚-notation 50 \\n3.2 \\nAsymptotic notation: formal deûnitions 53 \\n3.3 \\nStandard notations and common functions \\n63 \\n4 \\nDivide-and-Conquer 76 \\n4.1 \\nMultiplying square matrices 80 \\n4.2 \\nStrassen’s algorithm for matrix multiplication \\n85 \\n4.3 \\nThe substitution method for solving recurrences \\n90 \\n4.4 \\nThe recursion-tree method for solving recurrences \\n95 \\n4.5 \\nThe master method for solving recurrences \\n101 \\n? \\n4.6 \\nProof of the continuous master theorem 107 \\n? \\n4.7 \\nAkra-Bazzi recurrences \\n115 \\n', metadata={'source': 'data/web_data/introduction to algo4 new.pdf', 'file_path': 'data/web_data/introduction to algo4 new.pdf', 'page': 6, 'total_pages': 1312, 'format': 'PDF 1.4', 'title': '', 'author': '', 'subject': '', 'keywords': '', 'creator': '', 'producer': '', 'creationDate': '', 'modDate': '', 'trapped': ''}),\n",
       " Document(page_content='vi \\nContents \\n5 \\nProbabilistic Analysis and Randomized Algorithms 126 \\n5.1 \\nThe hiring problem 126 \\n5.2 \\nIndicator random variables 130 \\n5.3 \\nRandomized algorithms \\n134 \\n? \\n5.4 \\nProbabilistic analysis and further uses of indicator random variables \\n140 \\nII Sorting and Order Statistics \\nIntroduction \\n157 \\n6 \\nHeapsort 161 \\n6.1 \\nHeaps 161 \\n6.2 \\nMaintaining the heap property 164 \\n6.3 \\nBuilding a heap 167 \\n6.4 \\nThe heapsort algorithm 170 \\n6.5 \\nPriority queues 172 \\n7 \\nQuicksort 182 \\n7.1 \\nDescription of quicksort 183 \\n7.2 \\nPerformance of quicksort \\n187 \\n7.3 \\nA randomized version of quicksort \\n191 \\n7.4 \\nAnalysis of quicksort \\n193 \\n8 \\nSorting in Linear Time 205 \\n8.1 \\nLower bounds for sorting 205 \\n8.2 \\nCounting sort 208 \\n8.3 \\nRadix sort 211 \\n8.4 \\nBucket sort 215 \\n9 \\nMedians and Order Statistics 227 \\n9.1 \\nMinimum and maximum 228 \\n9.2 \\nSelection in expected linear time 230 \\n9.3 \\nSelection in worst-case linear time 236 \\nIII Data Structures \\nIntroduction \\n249 \\n10 \\nElementary Data Structures 252 \\n10.1 Simple array-based data structures: arrays, matrices, stacks, queues \\n252 \\n10.2 Linked lists 258 \\n10.3 Representing rooted trees 265 \\n', metadata={'source': 'data/web_data/introduction to algo4 new.pdf', 'file_path': 'data/web_data/introduction to algo4 new.pdf', 'page': 7, 'total_pages': 1312, 'format': 'PDF 1.4', 'title': '', 'author': '', 'subject': '', 'keywords': '', 'creator': '', 'producer': '', 'creationDate': '', 'modDate': '', 'trapped': ''}),\n",
       " Document(page_content='Contents \\nvii \\n11 \\nHash Tables 272 \\n11.1 Direct-address tables 273 \\n11.2 Hash tables 275 \\n11.3 Hash functions 282 \\n11.4 Open addressing 293 \\n11.5 Practical considerations \\n301 \\n12 \\nBinary Search Trees 312 \\n12.1 What is a binary search tree? 312 \\n12.2 Querying a binary search tree 316 \\n12.3 Insertion and deletion 321 \\n13 \\nRed-Black Trees 331 \\n13.1 Properties of red-black trees 331 \\n13.2 Rotations 335 \\n13.3 Insertion 338 \\n13.4 Deletion 346 \\nIV Advanced Design and Analysis Techniques \\nIntroduction \\n361 \\n14 \\nDynamic Programming 362 \\n14.1 Rod cutting 363 \\n14.2 Matrix-chain multiplication \\n373 \\n14.3 Elements of dynamic programming \\n382 \\n14.4 Longest common subsequence \\n393 \\n14.5 Optimal binary search trees 400 \\n15 \\nGreedy Algorithms 417 \\n15.1 An activity-selection problem 418 \\n15.2 Elements of the greedy strategy 426 \\n15.3 Huffman codes 431 \\n15.4 Ofüine caching 440 \\n16 \\nAmortized Analysis 448 \\n16.1 Aggregate analysis 449 \\n16.2 The accounting method 453 \\n16.3 The potential method 456 \\n16.4 Dynamic tables 460 \\n', metadata={'source': 'data/web_data/introduction to algo4 new.pdf', 'file_path': 'data/web_data/introduction to algo4 new.pdf', 'page': 8, 'total_pages': 1312, 'format': 'PDF 1.4', 'title': '', 'author': '', 'subject': '', 'keywords': '', 'creator': '', 'producer': '', 'creationDate': '', 'modDate': '', 'trapped': ''})]"
      ]
     },
     "execution_count": 27,
     "metadata": {},
     "output_type": "execute_result"
    }
   ],
   "source": [
    "ori_text[:5]"
   ]
  }
 ],
 "metadata": {
  "kernelspec": {
   "display_name": "venv",
   "language": "python",
   "name": "python3"
  },
  "language_info": {
   "codemirror_mode": {
    "name": "ipython",
    "version": 3
   },
   "file_extension": ".py",
   "mimetype": "text/x-python",
   "name": "python",
   "nbconvert_exporter": "python",
   "pygments_lexer": "ipython3",
   "version": "3.10.12"
  }
 },
 "nbformat": 4,
 "nbformat_minor": 2
}
