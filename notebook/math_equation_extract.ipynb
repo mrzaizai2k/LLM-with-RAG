{
 "cells": [
  {
   "cell_type": "code",
   "execution_count": 53,
   "metadata": {},
   "outputs": [
    {
     "name": "stdout",
     "output_type": "stream",
     "text": [
      "/home/mrzaizai2k/code_Bao/LLM-with-RAG/notebook\n"
     ]
    }
   ],
   "source": [
    "import os\n",
    "try:\n",
    "    print(file_path)\n",
    "except:\n",
    "    file_path = os.path.abspath('')\n",
    "    os.chdir(os.path.dirname(file_path))\n",
    "    print(file_path)"
   ]
  },
  {
   "cell_type": "code",
   "execution_count": 54,
   "metadata": {},
   "outputs": [],
   "source": [
    "from langchain_community.document_loaders import (\n",
    "                                                  PyMuPDFLoader,\n",
    "                                                  NewsURLLoader,\n",
    "                                                  YoutubeLoader,\n",
    "                                                  )\n",
    "from langchain_text_splitters import RecursiveCharacterTextSplitter, TokenTextSplitter, NLTKTextSplitter, SpacyTextSplitter\n",
    "import pymupdf\n",
    "\n",
    "import os\n",
    "import torch\n",
    "import re\n",
    "from PIL import Image\n",
    "from natsort import natsorted\n",
    "import shutil\n",
    "from transformers import pipeline\n",
    "from src.utils import *\n",
    "from src.data_processing import MathLatexRecovery"
   ]
  },
  {
   "cell_type": "code",
   "execution_count": 55,
   "metadata": {},
   "outputs": [
    {
     "name": "stdout",
     "output_type": "stream",
     "text": [
      "Selected device: cuda\n"
     ]
    }
   ],
   "source": [
    "device = take_device()"
   ]
  },
  {
   "cell_type": "code",
   "execution_count": 56,
   "metadata": {},
   "outputs": [],
   "source": [
    "data = config_parser(data_config_path = 'config/data_config.yaml')"
   ]
  },
  {
   "cell_type": "code",
   "execution_count": 57,
   "metadata": {},
   "outputs": [],
   "source": [
    "# embeddings=HuggingFaceEmbeddings(model_name=model_config.get('embedding_model'),\n",
    "#                                         model_kwargs={'device':take_device()})"
   ]
  },
  {
   "cell_type": "code",
   "execution_count": 58,
   "metadata": {},
   "outputs": [],
   "source": [
    "pdf_path = \"data/web_data/Lecture 3.pdf\"\n",
    "loader = PyMuPDFLoader(pdf_path)\n",
    "ori_text = loader.load()\n",
    "ori_text = combine_short_doc(ori_text, 100)"
   ]
  },
  {
   "cell_type": "code",
   "execution_count": 59,
   "metadata": {},
   "outputs": [],
   "source": [
    "# for x in dir(loader):\n",
    "#     if not x.startswith(\"_\"):\n",
    "#         print(x)"
   ]
  },
  {
   "cell_type": "code",
   "execution_count": 73,
   "metadata": {},
   "outputs": [
    {
     "data": {
      "text/plain": [
       "[Document(page_content='1\\nDATA ENGINEERING\\nLECTURE 3\\n QUERY PROCESSING \\nOVERVIEW\\nn Query to DBMS\\nq Pre-processing\\nq Optimization --> execution plan\\nq Data access\\nn Indexing\\nn Merge sort\\n2\\n', metadata={'source': 'data/web_data/Lecture 3.pdf', 'file_path': 'data/web_data/Lecture 3.pdf', 'page': 1, 'total_pages': 92, 'format': 'PDF 1.7', 'title': 'Lecture 3.pptx', 'author': '', 'subject': '', 'keywords': '', 'creator': '', 'producer': 'Microsoft: Print To PDF', 'creationDate': \"D:20240229170808+07'00'\", 'modDate': \"D:20240229170808+07'00'\", 'trapped': ''}),\n",
       " Document(page_content='DATA STORAGE REVIEW\\n3\\n Disk storage devices (cont.)\\n4\\nJan - 2015\\n Records\\n5\\nJan - 2015\\n Blocking\\n6\\nJan - 2015\\n', metadata={'source': 'data/web_data/Lecture 3.pdf', 'file_path': 'data/web_data/Lecture 3.pdf', 'page': 5, 'total_pages': 92, 'format': 'PDF 1.7', 'title': 'Lecture 3.pptx', 'author': '', 'subject': '', 'keywords': '', 'creator': '', 'producer': 'Microsoft: Print To PDF', 'creationDate': \"D:20240229170808+07'00'\", 'modDate': \"D:20240229170808+07'00'\", 'trapped': ''}),\n",
       " Document(page_content='7\\nOrdered Files \\nJan - 2015\\n INDEXING IN OVERVIEW\\nn Primary Index\\nn Clustering Index\\nn Secondary Index\\nn Multi-level Index\\nn Bitmap Index\\nn Function Index\\nn Compound Index\\n8\\n', metadata={'source': 'data/web_data/Lecture 3.pdf', 'file_path': 'data/web_data/Lecture 3.pdf', 'page': 7, 'total_pages': 92, 'format': 'PDF 1.7', 'title': 'Lecture 3.pptx', 'author': '', 'subject': '', 'keywords': '', 'creator': '', 'producer': 'Microsoft: Print To PDF', 'creationDate': \"D:20240229170808+07'00'\", 'modDate': \"D:20240229170808+07'00'\", 'trapped': ''}),\n",
       " Document(page_content='9\\nn Defined on an ordered data file.\\nq The data file is ordered on a  key field.\\nn One index entry for each block in the data file \\nq First record in the block, which is called the block anchor\\nn A similar scheme can use the  last record in a block.\\nPrimary Index\\nJan - 2015\\n', metadata={'source': 'data/web_data/Lecture 3.pdf', 'file_path': 'data/web_data/Lecture 3.pdf', 'page': 8, 'total_pages': 92, 'format': 'PDF 1.7', 'title': 'Lecture 3.pptx', 'author': '', 'subject': '', 'keywords': '', 'creator': '', 'producer': 'Microsoft: Print To PDF', 'creationDate': \"D:20240229170808+07'00'\", 'modDate': \"D:20240229170808+07'00'\", 'trapped': ''}),\n",
       " Document(page_content='ID\\nName\\nDoB\\nSalary\\nSex\\n1\\n2\\n3\\n4\\n6\\n7\\n8\\n9\\n10\\n12\\n13\\n15\\n10\\nPrimary \\nkey value\\nBlock \\npointer\\n1\\n4\\n8\\n12\\nPrimary key field\\nIndex file\\n(<K(i), P(i)> entries)\\nJan - 2015\\n', metadata={'source': 'data/web_data/Lecture 3.pdf', 'file_path': 'data/web_data/Lecture 3.pdf', 'page': 9, 'total_pages': 92, 'format': 'PDF 1.7', 'title': 'Lecture 3.pptx', 'author': '', 'subject': '', 'keywords': '', 'creator': '', 'producer': 'Microsoft: Print To PDF', 'creationDate': \"D:20240229170808+07'00'\", 'modDate': \"D:20240229170808+07'00'\", 'trapped': ''})]"
      ]
     },
     "execution_count": 73,
     "metadata": {},
     "output_type": "execute_result"
    }
   ],
   "source": [
    "ori_text[:5]"
   ]
  },
  {
   "cell_type": "code",
   "execution_count": 61,
   "metadata": {},
   "outputs": [
    {
     "name": "stdout",
     "output_type": "stream",
     "text": [
      "False\n"
     ]
    }
   ],
   "source": [
    "def is_latex_format(doc):\n",
    "    # Check if doc.metadata exists and is a dictionary\n",
    "    if not hasattr(doc, 'metadata') or not isinstance(doc.metadata, dict):\n",
    "        return False\n",
    "    \n",
    "    # Check for \"tex\" in any metadata value (case-insensitive)\n",
    "    return any(\"tex\" in str(value).lower() for value in doc.metadata.values())\n",
    "\n",
    "\n",
    "print(is_latex_format(ori_text[10]))           "
   ]
  },
  {
   "cell_type": "code",
   "execution_count": 62,
   "metadata": {},
   "outputs": [],
   "source": [
    "text_list = [txt.page_content for txt in ori_text]"
   ]
  },
  {
   "cell_type": "code",
   "execution_count": 63,
   "metadata": {},
   "outputs": [
    {
     "name": "stdout",
     "output_type": "stream",
     "text": [
      "Selected device: cuda\n"
     ]
    }
   ],
   "source": [
    "# Use a pipeline as a high-level helper\n",
    "\n",
    "pipe = pipeline(\"text-classification\", model=\"CrissWang/bert-math\", torch_dtype=torch.float16, device = take_device())"
   ]
  },
  {
   "cell_type": "code",
   "execution_count": 64,
   "metadata": {},
   "outputs": [
    {
     "name": "stdout",
     "output_type": "stream",
     "text": [
      "[{'label': 'Not Math', 'score': 1.0}, {'label': 'Not Math', 'score': 1.0}, {'label': 'Not Math', 'score': 1.0}, {'label': 'Not Math', 'score': 1.0}, {'label': 'Not Math', 'score': 1.0}]\n"
     ]
    }
   ],
   "source": [
    "outputs = pipe(text_list, batch_size=8, truncation=\"only_first\",)\n",
    "print(outputs[:5])"
   ]
  },
  {
   "cell_type": "code",
   "execution_count": 65,
   "metadata": {},
   "outputs": [],
   "source": [
    "# for input, output in zip(text_list, outputs):\n",
    "#     print(f\"output: {output['label']} - Input: {input}\")\n",
    "#     print(\"---------------\")"
   ]
  },
  {
   "cell_type": "code",
   "execution_count": 66,
   "metadata": {},
   "outputs": [
    {
     "name": "stdout",
     "output_type": "stream",
     "text": [
      "[5, 6, 10, 12, 14]\n"
     ]
    }
   ],
   "source": [
    "math_indices = [index for index, output in enumerate(outputs) if output['label'].lower() == \"math\"]\n",
    "\n",
    "# Print the list of indices where the label is \"math\"\n",
    "print(math_indices[:5])"
   ]
  },
  {
   "cell_type": "code",
   "execution_count": 67,
   "metadata": {},
   "outputs": [
    {
     "name": "stdout",
     "output_type": "stream",
     "text": [
      "74 26\n"
     ]
    }
   ],
   "source": [
    "print(len(text_list), len(math_indices))\n"
   ]
  },
  {
   "cell_type": "code",
   "execution_count": 68,
   "metadata": {},
   "outputs": [],
   "source": [
    "doc = pymupdf.open(pdf_path)  # open document\n",
    "tmp_path = \"data/tmp/\"\n",
    "for page in doc:  # iterate through the pages\n",
    "    if not (page.number in math_indices):\n",
    "        continue\n",
    "    pix = page.get_pixmap()  # render page to an image\n",
    "    pix.save(f\"{tmp_path}/%i.png\" % page.number)  # store image as a PNG"
   ]
  },
  {
   "cell_type": "code",
   "execution_count": 69,
   "metadata": {},
   "outputs": [
    {
     "name": "stdout",
     "output_type": "stream",
     "text": [
      "Selected device: cuda\n"
     ]
    }
   ],
   "source": [
    "nougat_processor = pipeline(\"image-to-text\", model=\"facebook/nougat-small\",  device = take_device(), max_new_tokens=1024 )"
   ]
  },
  {
   "cell_type": "code",
   "execution_count": 70,
   "metadata": {},
   "outputs": [
    {
     "name": "stdout",
     "output_type": "stream",
     "text": [
      "['data/tmp/5.png', 'data/tmp/6.png', 'data/tmp/10.png', 'data/tmp/12.png', 'data/tmp/14.png', 'data/tmp/17.png', 'data/tmp/21.png', 'data/tmp/22.png', 'data/tmp/23.png', 'data/tmp/24.png', 'data/tmp/29.png', 'data/tmp/30.png', 'data/tmp/32.png', 'data/tmp/33.png', 'data/tmp/34.png', 'data/tmp/41.png', 'data/tmp/42.png', 'data/tmp/52.png', 'data/tmp/64.png', 'data/tmp/65.png', 'data/tmp/66.png', 'data/tmp/67.png', 'data/tmp/69.png', 'data/tmp/70.png', 'data/tmp/71.png', 'data/tmp/72.png']\n"
     ]
    }
   ],
   "source": [
    "def get_all_dir(root_dir, sort=True):\n",
    "    # Get the list of items in the directory\n",
    "    items = os.listdir(root_dir)\n",
    "    # Sort the items list in natural order\n",
    "    if sort:\n",
    "        items = natsorted(items)\n",
    "    # Create full paths\n",
    "    image_list = [os.path.join(root_dir, item) for item in items]\n",
    "    return image_list\n",
    "\n",
    "image_list = get_all_dir(tmp_path)\n",
    "print(image_list)"
   ]
  },
  {
   "cell_type": "code",
   "execution_count": 71,
   "metadata": {},
   "outputs": [],
   "source": [
    "outputs = nougat_processor(image_list, batch_size=8, max_new_tokens=512,)"
   ]
  },
  {
   "cell_type": "code",
   "execution_count": 72,
   "metadata": {},
   "outputs": [
    {
     "data": {
      "text/plain": [
       "[[{'generated_text': 'Blocking\\n\\n(a) Block \\\\(i\\\\)Record 1Record 2Record 3Record 4Block \\\\(i+1\\\\)Record 4Record 5Record 6Record 6Block \\\\(i\\\\)Record 1Record 2Record 3Record 4Block \\\\(i+1\\\\)Record 4Record 5Record 6Record 7P\\n\\nJan - 2015'}],\n",
       " [{'generated_text': '.'}],\n",
       " [{'generated_text': 'EXAMPLE 1 (1/2)\\n\\n* An ordered file with \\\\(r\\\\) = 300,000 records\\n* A disk with block size \\\\(B\\\\) = 4,096 bytes\\n* File records are of fixed size and are unspanned, with record length \\\\(R\\\\) = 100 bytes\\n* _bfr_ = \\\\(\\\\square\\\\) (\\\\(B\\\\)/\\\\(R\\\\)) = \\\\(\\\\square\\\\) (4,096/100) = 40 records per block\\n* _b_ = \\\\(\\\\square\\\\) (\\\\(r\\\\)/\\\\(b\\\\)fr) = \\\\(\\\\square\\\\) (300,000/40) = 7,500 blocks\\n* A b i n a r y se a r c h o n t h e d a t a file would need approximately \\\\(\\\\square\\\\) log2 \\\\(b\\\\) = (log27,500) = 13-block-accesses'}],\n",
       " [{'generated_text': 'Clustering Index\\n* Defined on an ordered data file.\\n* The data file is ordered on a _non-key field._\\n* One index entry _each distinct value_ of the field.\\n* The index entry points to the _first data block_ that contains records with that field value'}],\n",
       " [{'generated_text': ''}]]"
      ]
     },
     "execution_count": 72,
     "metadata": {},
     "output_type": "execute_result"
    }
   ],
   "source": [
    "outputs[:5]"
   ]
  },
  {
   "cell_type": "code",
   "execution_count": 50,
   "metadata": {},
   "outputs": [
    {
     "name": "stdout",
     "output_type": "stream",
     "text": [
      "Removed the folder: data/tmp/\n",
      "Recreated the folder: data/tmp/\n"
     ]
    }
   ],
   "source": [
    "import shutil\n",
    "def remove_and_recreate_folder(folder_path):\n",
    "    # Check if the folder exists\n",
    "    if os.path.exists(folder_path):\n",
    "        # Remove the folder and all its contents\n",
    "        shutil.rmtree(folder_path)\n",
    "        print(f\"Removed the folder: {folder_path}\")\n",
    "    \n",
    "    # Recreate the folder\n",
    "    os.makedirs(folder_path)\n",
    "    print(f\"Recreated the folder: {folder_path}\")\n",
    "\n",
    "remove_and_recreate_folder(tmp_path)"
   ]
  },
  {
   "cell_type": "code",
   "execution_count": 51,
   "metadata": {},
   "outputs": [],
   "source": [
    "for i, idx in enumerate(math_indices):\n",
    "    ori_text[idx].page_content = outputs[i][0][\"generated_text\"]"
   ]
  },
  {
   "cell_type": "code",
   "execution_count": 52,
   "metadata": {},
   "outputs": [
    {
     "data": {
      "text/plain": [
       "[Document(page_content='1\\nDATA ENGINEERING\\nLECTURE 3\\n QUERY PROCESSING \\nOVERVIEW\\nn Query to DBMS\\nq Pre-processing\\nq Optimization --> execution plan\\nq Data access\\nn Indexing\\nn Merge sort\\n2\\n', metadata={'source': 'data/web_data/Lecture 3.pdf', 'file_path': 'data/web_data/Lecture 3.pdf', 'page': 1, 'total_pages': 92, 'format': 'PDF 1.7', 'title': 'Lecture 3.pptx', 'author': '', 'subject': '', 'keywords': '', 'creator': '', 'producer': 'Microsoft: Print To PDF', 'creationDate': \"D:20240229170808+07'00'\", 'modDate': \"D:20240229170808+07'00'\", 'trapped': ''}),\n",
       " Document(page_content='DATA STORAGE REVIEW\\n3\\n Disk storage devices (cont.)\\n4\\nJan - 2015\\n Records\\n5\\nJan - 2015\\n Blocking\\n6\\nJan - 2015\\n', metadata={'source': 'data/web_data/Lecture 3.pdf', 'file_path': 'data/web_data/Lecture 3.pdf', 'page': 5, 'total_pages': 92, 'format': 'PDF 1.7', 'title': 'Lecture 3.pptx', 'author': '', 'subject': '', 'keywords': '', 'creator': '', 'producer': 'Microsoft: Print To PDF', 'creationDate': \"D:20240229170808+07'00'\", 'modDate': \"D:20240229170808+07'00'\", 'trapped': ''}),\n",
       " Document(page_content='7\\nOrdered Files \\nJan - 2015\\n INDEXING IN OVERVIEW\\nn Primary Index\\nn Clustering Index\\nn Secondary Index\\nn Multi-level Index\\nn Bitmap Index\\nn Function Index\\nn Compound Index\\n8\\n', metadata={'source': 'data/web_data/Lecture 3.pdf', 'file_path': 'data/web_data/Lecture 3.pdf', 'page': 7, 'total_pages': 92, 'format': 'PDF 1.7', 'title': 'Lecture 3.pptx', 'author': '', 'subject': '', 'keywords': '', 'creator': '', 'producer': 'Microsoft: Print To PDF', 'creationDate': \"D:20240229170808+07'00'\", 'modDate': \"D:20240229170808+07'00'\", 'trapped': ''}),\n",
       " Document(page_content='9\\nn Defined on an ordered data file.\\nq The data file is ordered on a  key field.\\nn One index entry for each block in the data file \\nq First record in the block, which is called the block anchor\\nn A similar scheme can use the  last record in a block.\\nPrimary Index\\nJan - 2015\\n', metadata={'source': 'data/web_data/Lecture 3.pdf', 'file_path': 'data/web_data/Lecture 3.pdf', 'page': 8, 'total_pages': 92, 'format': 'PDF 1.7', 'title': 'Lecture 3.pptx', 'author': '', 'subject': '', 'keywords': '', 'creator': '', 'producer': 'Microsoft: Print To PDF', 'creationDate': \"D:20240229170808+07'00'\", 'modDate': \"D:20240229170808+07'00'\", 'trapped': ''}),\n",
       " Document(page_content='ID\\nName\\nDoB\\nSalary\\nSex\\n1\\n2\\n3\\n4\\n6\\n7\\n8\\n9\\n10\\n12\\n13\\n15\\n10\\nPrimary \\nkey value\\nBlock \\npointer\\n1\\n4\\n8\\n12\\nPrimary key field\\nIndex file\\n(<K(i), P(i)> entries)\\nJan - 2015\\n', metadata={'source': 'data/web_data/Lecture 3.pdf', 'file_path': 'data/web_data/Lecture 3.pdf', 'page': 9, 'total_pages': 92, 'format': 'PDF 1.7', 'title': 'Lecture 3.pptx', 'author': '', 'subject': '', 'keywords': '', 'creator': '', 'producer': 'Microsoft: Print To PDF', 'creationDate': \"D:20240229170808+07'00'\", 'modDate': \"D:20240229170808+07'00'\", 'trapped': ''})]"
      ]
     },
     "execution_count": 52,
     "metadata": {},
     "output_type": "execute_result"
    }
   ],
   "source": [
    "ori_text[:5]"
   ]
  },
  {
   "cell_type": "code",
   "execution_count": 38,
   "metadata": {},
   "outputs": [
    {
     "name": "stdout",
     "output_type": "stream",
     "text": [
      "Selected device: cuda\n",
      "There are 20 / 38 pages has math\n"
     ]
    }
   ],
   "source": [
    "post_processor = MathLatexRecovery()\n",
    "outputs = post_processor.recover_math(ori_text)"
   ]
  },
  {
   "cell_type": "code",
   "execution_count": 39,
   "metadata": {},
   "outputs": [
    {
     "data": {
      "text/plain": [
       "[Document(page_content='Discrete Random\\nVariable\\nNguyen Tien Thinh\\nDiscrete Random\\nVariable\\nMultivariate Random\\nVariable\\nExpectation and\\nVariance\\nProbability Distribution\\n(Draft).1\\nChapter (Draft)\\nDiscrete Random Variable\\nFundamental Mathematics for Computer Science\\nReferences:\\n1. Ross, S. M. (2014). A first course in probability. Pearson.\\n2. Kay, S. (2006). Intuitive probability and random processes using\\nMATLAB®. Springer Science & Business Media.\\nNguyen Tien Thinh\\nFaculty of Computer Science and Engineering\\nUniversity of Technology, VNU-HCM\\n', metadata={'source': 'data/web_data/Random variable.pdf', 'file_path': 'data/web_data/Random variable.pdf', 'page': 0, 'total_pages': 38, 'format': 'PDF 1.5', 'title': '', 'author': 'Nguyen Tien Thinh', 'subject': 'Lecturer Fundamental Mathematics for Computer Science', 'keywords': '', 'creator': 'LaTeX with Beamer class', 'producer': 'pdfTeX-1.40.25', 'creationDate': \"D:20231106094014+07'00'\", 'modDate': \"D:20231106094014+07'00'\", 'trapped': ''}),\n",
       " Document(page_content='Discrete Random\\nVariable\\nNguyen Tien Thinh\\nDiscrete Random\\nVariable\\nMultivariate Random\\nVariable\\nExpectation and\\nVariance\\nProbability Distribution\\n(Draft).2\\n1 Discrete Random Variable\\n2 Multivariate Random Variable\\n3 Expectation and Variance\\n4 Probability Distribution\\n', metadata={'source': 'data/web_data/Random variable.pdf', 'file_path': 'data/web_data/Random variable.pdf', 'page': 1, 'total_pages': 38, 'format': 'PDF 1.5', 'title': '', 'author': 'Nguyen Tien Thinh', 'subject': 'Lecturer Fundamental Mathematics for Computer Science', 'keywords': '', 'creator': 'LaTeX with Beamer class', 'producer': 'pdfTeX-1.40.25', 'creationDate': \"D:20231106094014+07'00'\", 'modDate': \"D:20231106094014+07'00'\", 'trapped': ''}),\n",
       " Document(page_content='**Discrete Random Variable**\\n\\n**Definition (Random Variable)**\\n\\nA real-valued function \\\\(X\\\\) that assigns a real number to each possible elementary outcome in \\\\(\\\\Omega\\\\).\\n\\nA **random variable \\\\(X:\\\\Omega\\\\to E\\\\subseteq\\\\mathbb{R}\\\\) so that \\\\(E\\\\) is a discrete set is a discrete random variable.\\n\\n**Example (Rolling a die)**\\n\\n\\\\(\\\\Omega=\\\\{\\\\square,\\\\square,\\\\square,\\\\square,\\\\square,\\\\square\\\\}\\\\).\\n\\n\\\\(X(\\\\square)=1,X(\\\\square)=2,X(\\\\square)=3,X(\\\\square)=4,X(\\\\boxtimes)=5,X( \\\\boxplus)=6\\\\).', metadata={'source': 'data/web_data/Random variable.pdf', 'file_path': 'data/web_data/Random variable.pdf', 'page': 2, 'total_pages': 38, 'format': 'PDF 1.5', 'title': '', 'author': 'Nguyen Tien Thinh', 'subject': 'Lecturer Fundamental Mathematics for Computer Science', 'keywords': '', 'creator': 'LaTeX with Beamer class', 'producer': 'pdfTeX-1.40.25', 'creationDate': \"D:20231106094014+07'00'\", 'modDate': \"D:20231106094014+07'00'\", 'trapped': ''}),\n",
       " Document(page_content='## Discrete Random Variable', metadata={'source': 'data/web_data/Random variable.pdf', 'file_path': 'data/web_data/Random variable.pdf', 'page': 3, 'total_pages': 38, 'format': 'PDF 1.5', 'title': '', 'author': 'Nguyen Tien Thinh', 'subject': 'Lecturer Fundamental Mathematics for Computer Science', 'keywords': '', 'creator': 'LaTeX with Beamer class', 'producer': 'pdfTeX-1.40.25', 'creationDate': \"D:20231106094014+07'00'\", 'modDate': \"D:20231106094014+07'00'\", 'trapped': ''}),\n",
       " Document(page_content='Discrete Random\\nVariable\\nNguyen Tien Thinh\\nDiscrete Random\\nVariable\\nMultivariate Random\\nVariable\\nExpectation and\\nVariance\\nProbability Distribution\\n(Draft).5\\nDiscrete Random Variable\\nExample (Fish Weight)\\nNo.\\nFish\\nWeight (kg)\\nNo.\\nFish\\nWeight (kg)\\n1\\n3.5\\n5\\n2.8\\n2\\n8.2\\n6\\n6.0\\n3\\n5.2\\n· · ·\\n· · ·\\n· · ·\\n4\\n5.2\\n100k\\n3.5\\nFigure: Weight of fishes as a random variable 1\\n1guidesly.com/fishing/fish-species\\n', metadata={'source': 'data/web_data/Random variable.pdf', 'file_path': 'data/web_data/Random variable.pdf', 'page': 4, 'total_pages': 38, 'format': 'PDF 1.5', 'title': '', 'author': 'Nguyen Tien Thinh', 'subject': 'Lecturer Fundamental Mathematics for Computer Science', 'keywords': '', 'creator': 'LaTeX with Beamer class', 'producer': 'pdfTeX-1.40.25', 'creationDate': \"D:20231106094014+07'00'\", 'modDate': \"D:20231106094014+07'00'\", 'trapped': ''})]"
      ]
     },
     "execution_count": 39,
     "metadata": {},
     "output_type": "execute_result"
    }
   ],
   "source": [
    "outputs[:5]"
   ]
  },
  {
   "cell_type": "code",
   "execution_count": null,
   "metadata": {},
   "outputs": [],
   "source": []
  }
 ],
 "metadata": {
  "kernelspec": {
   "display_name": "venv",
   "language": "python",
   "name": "python3"
  },
  "language_info": {
   "codemirror_mode": {
    "name": "ipython",
    "version": 3
   },
   "file_extension": ".py",
   "mimetype": "text/x-python",
   "name": "python",
   "nbconvert_exporter": "python",
   "pygments_lexer": "ipython3",
   "version": "3.10.12"
  }
 },
 "nbformat": 4,
 "nbformat_minor": 2
}
