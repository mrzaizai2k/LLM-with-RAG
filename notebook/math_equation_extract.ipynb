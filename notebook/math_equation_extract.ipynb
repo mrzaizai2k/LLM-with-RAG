{
 "cells": [
  {
   "cell_type": "code",
   "execution_count": 44,
   "metadata": {},
   "outputs": [
    {
     "name": "stdout",
     "output_type": "stream",
     "text": [
      "/home/mrzaizai2k/code_Bao/LLM-with-RAG/notebook\n"
     ]
    }
   ],
   "source": [
    "import os\n",
    "try:\n",
    "    print(file_path)\n",
    "except:\n",
    "    file_path = os.path.abspath('')\n",
    "    os.chdir(os.path.dirname(file_path))\n",
    "    print(file_path)"
   ]
  },
  {
   "cell_type": "code",
   "execution_count": 45,
   "metadata": {},
   "outputs": [],
   "source": [
    "from langchain_community.document_loaders import (\n",
    "                                                  PyMuPDFLoader,\n",
    "                                                  NewsURLLoader,\n",
    "                                                  YoutubeLoader,\n",
    "                                                  )\n",
    "from langchain_text_splitters import RecursiveCharacterTextSplitter, TokenTextSplitter, NLTKTextSplitter, SpacyTextSplitter\n",
    "import pymupdf\n",
    "\n",
    "import os\n",
    "import torch\n",
    "import re\n",
    "from PIL import Image\n",
    "from natsort import natsorted\n",
    "import shutil\n",
    "from transformers import pipeline\n",
    "from src.utils import *\n",
    "from src.data_processing import MathLatexRecovery"
   ]
  },
  {
   "cell_type": "code",
   "execution_count": 46,
   "metadata": {},
   "outputs": [
    {
     "name": "stdout",
     "output_type": "stream",
     "text": [
      "Selected device: cuda\n"
     ]
    }
   ],
   "source": [
    "device = take_device()"
   ]
  },
  {
   "cell_type": "code",
   "execution_count": 47,
   "metadata": {},
   "outputs": [],
   "source": [
    "data = config_parser(data_config_path = 'config/data_config.yaml')"
   ]
  },
  {
   "cell_type": "code",
   "execution_count": 48,
   "metadata": {},
   "outputs": [
    {
     "name": "stdout",
     "output_type": "stream",
     "text": [
      "90\n"
     ]
    }
   ],
   "source": [
    "pdf_path = \"data/web_data/Lecture 3.pdf\"\n",
    "loader = PyMuPDFLoader(pdf_path)\n",
    "ori_text = loader.load()\n",
    "ori_text, duplicate_count = remove_duplicate_documents(ori_text[:90])\n",
    "print(len(ori_text))"
   ]
  },
  {
   "cell_type": "code",
   "execution_count": 49,
   "metadata": {},
   "outputs": [
    {
     "data": {
      "text/plain": [
       "[Document(page_content=\"85\\nExample\\nn (op3): σDNO=5 (EMPLOYEE)\\nq CS1a = 2000\\nq CS6a = xDNO + sDNO = 2 + 80 = 82\\nn (op4): σDNO=5 AND SALARY>30000 AND SEX='F' (EMPLOYEE)\\nq CS6a-DNO = 82\\nq CS4-SALARY = xSALARY + (b/2) = 3 + 2000/2 = 1003\\nq CS6a-SEX = xSEX + sSEX = 1 + 5000 = 5001\\nq => chose DNO=5 first and check the other conditions\\n85\\n\", metadata={'source': 'data/web_data/Lecture 3.pdf', 'file_path': 'data/web_data/Lecture 3.pdf', 'page': 84, 'total_pages': 92, 'format': 'PDF 1.7', 'title': 'Lecture 3.pptx', 'author': '', 'subject': '', 'keywords': '', 'creator': '', 'producer': 'Microsoft: Print To PDF', 'creationDate': \"D:20240229170808+07'00'\", 'modDate': \"D:20240229170808+07'00'\", 'trapped': ''}),\n",
       " Document(page_content='86\\nUsing Selectivity and Cost Estimates in \\nQuery Optimization (7)\\nExamples of Cost Functions for JOIN\\nn Join selectivity (js)\\n     js = | (R \\uf077\\n\\uf076\\n \\n \\n \\n \\nC S) | / | R x  S | = | (R \\uf077\\n\\uf076\\n \\n \\n \\n \\nC S) | / (|R| * |S |)\\n \\n    If condition C does not exist, js = 1;\\n    If no tuples from the relations satisfy condition C, js = 0;\\n    Usually,  0 <= js <= 1 ;\\nSize of the result file after join operation\\n     | (R \\uf077\\n\\uf076\\n \\n \\n \\n \\nC S) |  = js * |R| * |S |\\n', metadata={'source': 'data/web_data/Lecture 3.pdf', 'file_path': 'data/web_data/Lecture 3.pdf', 'page': 85, 'total_pages': 92, 'format': 'PDF 1.7', 'title': 'Lecture 3.pptx', 'author': '', 'subject': '', 'keywords': '', 'creator': '', 'producer': 'Microsoft: Print To PDF', 'creationDate': \"D:20240229170808+07'00'\", 'modDate': \"D:20240229170808+07'00'\", 'trapped': ''})]"
      ]
     },
     "execution_count": 49,
     "metadata": {},
     "output_type": "execute_result"
    }
   ],
   "source": [
    "ori_text[84:86]"
   ]
  },
  {
   "cell_type": "code",
   "execution_count": 50,
   "metadata": {},
   "outputs": [],
   "source": [
    "ori_text = remove_common_prefix_from_documents(ori_text)"
   ]
  },
  {
   "cell_type": "code",
   "execution_count": 51,
   "metadata": {},
   "outputs": [
    {
     "data": {
      "text/plain": [
       "[Document(page_content='1\\nDATA ENGINEERING\\nLECTURE 3\\n', metadata={'source': 'data/web_data/Lecture 3.pdf', 'file_path': 'data/web_data/Lecture 3.pdf', 'page': 0, 'total_pages': 92, 'format': 'PDF 1.7', 'title': 'Lecture 3.pptx', 'author': '', 'subject': '', 'keywords': '', 'creator': '', 'producer': 'Microsoft: Print To PDF', 'creationDate': \"D:20240229170808+07'00'\", 'modDate': \"D:20240229170808+07'00'\", 'trapped': ''}),\n",
       " Document(page_content='QUERY PROCESSING \\nOVERVIEW\\nn Query to DBMS\\nq Pre-processing\\nq Optimization --> execution plan\\nq Data access\\nn Indexing\\nn Merge sort\\n2\\n', metadata={'source': 'data/web_data/Lecture 3.pdf', 'file_path': 'data/web_data/Lecture 3.pdf', 'page': 1, 'total_pages': 92, 'format': 'PDF 1.7', 'title': 'Lecture 3.pptx', 'author': '', 'subject': '', 'keywords': '', 'creator': '', 'producer': 'Microsoft: Print To PDF', 'creationDate': \"D:20240229170808+07'00'\", 'modDate': \"D:20240229170808+07'00'\", 'trapped': ''}),\n",
       " Document(page_content='DATA STORAGE REVIEW\\n3\\n', metadata={'source': 'data/web_data/Lecture 3.pdf', 'file_path': 'data/web_data/Lecture 3.pdf', 'page': 2, 'total_pages': 92, 'format': 'PDF 1.7', 'title': 'Lecture 3.pptx', 'author': '', 'subject': '', 'keywords': '', 'creator': '', 'producer': 'Microsoft: Print To PDF', 'creationDate': \"D:20240229170808+07'00'\", 'modDate': \"D:20240229170808+07'00'\", 'trapped': ''}),\n",
       " Document(page_content='Disk storage devices (cont.)\\n4\\nJan - 2015\\n', metadata={'source': 'data/web_data/Lecture 3.pdf', 'file_path': 'data/web_data/Lecture 3.pdf', 'page': 3, 'total_pages': 92, 'format': 'PDF 1.7', 'title': 'Lecture 3.pptx', 'author': '', 'subject': '', 'keywords': '', 'creator': '', 'producer': 'Microsoft: Print To PDF', 'creationDate': \"D:20240229170808+07'00'\", 'modDate': \"D:20240229170808+07'00'\", 'trapped': ''}),\n",
       " Document(page_content='Records\\n5\\nJan - 2015\\n', metadata={'source': 'data/web_data/Lecture 3.pdf', 'file_path': 'data/web_data/Lecture 3.pdf', 'page': 4, 'total_pages': 92, 'format': 'PDF 1.7', 'title': 'Lecture 3.pptx', 'author': '', 'subject': '', 'keywords': '', 'creator': '', 'producer': 'Microsoft: Print To PDF', 'creationDate': \"D:20240229170808+07'00'\", 'modDate': \"D:20240229170808+07'00'\", 'trapped': ''})]"
      ]
     },
     "execution_count": 51,
     "metadata": {},
     "output_type": "execute_result"
    }
   ],
   "source": [
    "ori_text[:5]"
   ]
  },
  {
   "cell_type": "code",
   "execution_count": 52,
   "metadata": {},
   "outputs": [],
   "source": [
    "text_list = [txt.page_content for txt in ori_text]"
   ]
  },
  {
   "cell_type": "code",
   "execution_count": 53,
   "metadata": {},
   "outputs": [
    {
     "name": "stdout",
     "output_type": "stream",
     "text": [
      "Selected device: cuda\n"
     ]
    }
   ],
   "source": [
    "# Use a pipeline as a high-level helper\n",
    "\n",
    "pipe = pipeline(\"text-classification\", model=\"CrissWang/bert-math\", torch_dtype=torch.float16, device = take_device())"
   ]
  },
  {
   "cell_type": "code",
   "execution_count": 54,
   "metadata": {},
   "outputs": [
    {
     "name": "stdout",
     "output_type": "stream",
     "text": [
      "[{'label': 'Not Math', 'score': 1.0}, {'label': 'Not Math', 'score': 1.0}, {'label': 'Not Math', 'score': 1.0}, {'label': 'Not Math', 'score': 1.0}, {'label': 'Not Math', 'score': 1.0}]\n"
     ]
    }
   ],
   "source": [
    "outputs = pipe(text_list, batch_size=8, truncation=\"only_first\",)\n",
    "print(outputs[:5])"
   ]
  },
  {
   "cell_type": "code",
   "execution_count": 55,
   "metadata": {},
   "outputs": [],
   "source": [
    "# for input, output in zip(text_list, outputs):\n",
    "#     print(f\"output: {output['label']} - Input: {input}\")\n",
    "#     print(\"---------------\")"
   ]
  },
  {
   "cell_type": "code",
   "execution_count": 56,
   "metadata": {},
   "outputs": [
    {
     "name": "stdout",
     "output_type": "stream",
     "text": [
      "[10, 11, 15, 17, 20]\n",
      "There are 22 / 90 pages has math\n"
     ]
    }
   ],
   "source": [
    "math_indices = [index for index, output in enumerate(outputs) if output['label'].lower() == \"math\"]\n",
    "\n",
    "# Print the list of indices where the label is \"math\"\n",
    "print(math_indices[:5])\n",
    "print(f\"There are {len(math_indices)} / {len(ori_text)} pages has math\")"
   ]
  },
  {
   "cell_type": "code",
   "execution_count": 57,
   "metadata": {},
   "outputs": [],
   "source": [
    "def save_math_doc_image( math_indices, pdf_path, tmp_path=\"data/tmp\"):\n",
    "    doc = pymupdf.open(pdf_path)  # open document\n",
    "    os.makedirs(tmp_path, exist_ok=True)\n",
    "    image_paths = []\n",
    "    for page in doc:  # iterate through the pages\n",
    "        if not (page.number in math_indices):\n",
    "            continue\n",
    "        pix = page.get_pixmap()  # render page to an image\n",
    "        save_path = f\"{tmp_path}/%i.png\" % page.number\n",
    "        pix.save(save_path)  # store image as a PNG\n",
    "        image_paths.append(save_path)\n",
    "    return image_paths\n",
    "\n",
    "tmp_path=\"data/tmp\"\n",
    "image_list = save_math_doc_image(math_indices, pdf_path,tmp_path)"
   ]
  },
  {
   "cell_type": "code",
   "execution_count": 58,
   "metadata": {},
   "outputs": [
    {
     "name": "stdout",
     "output_type": "stream",
     "text": [
      "Selected device: cuda\n"
     ]
    }
   ],
   "source": [
    "nougat_processor = pipeline(\"image-to-text\", model=\"facebook/nougat-base\",  device = take_device(), max_new_tokens=1024 )"
   ]
  },
  {
   "cell_type": "code",
   "execution_count": 59,
   "metadata": {},
   "outputs": [
    {
     "data": {
      "text/plain": [
       "['data/tmp/10.png',\n",
       " 'data/tmp/11.png',\n",
       " 'data/tmp/15.png',\n",
       " 'data/tmp/17.png',\n",
       " 'data/tmp/20.png']"
      ]
     },
     "execution_count": 59,
     "metadata": {},
     "output_type": "execute_result"
    }
   ],
   "source": [
    "image_list[:5]"
   ]
  },
  {
   "cell_type": "code",
   "execution_count": 60,
   "metadata": {},
   "outputs": [],
   "source": [
    "outputs = nougat_processor(image_list, batch_size=8,)"
   ]
  },
  {
   "cell_type": "code",
   "execution_count": 61,
   "metadata": {},
   "outputs": [],
   "source": [
    "for i, index in enumerate(math_indices):\n",
    "    for item in outputs[i]:\n",
    "        item['index'] = index"
   ]
  },
  {
   "cell_type": "code",
   "execution_count": 63,
   "metadata": {},
   "outputs": [
    {
     "data": {
      "text/plain": [
       "[]"
      ]
     },
     "execution_count": 63,
     "metadata": {},
     "output_type": "execute_result"
    }
   ],
   "source": [
    "outputs[80:90]"
   ]
  },
  {
   "cell_type": "code",
   "execution_count": 64,
   "metadata": {},
   "outputs": [],
   "source": [
    "for i, item in enumerate(outputs):\n",
    "    idx = int(item[0]['index'])\n",
    "    ori_text[idx].page_content = outputs[i][0][\"generated_text\"]"
   ]
  },
  {
   "cell_type": "code",
   "execution_count": null,
   "metadata": {},
   "outputs": [],
   "source": [
    "ori_text = combine_short_doc(ori_text, 100)"
   ]
  },
  {
   "cell_type": "code",
   "execution_count": 65,
   "metadata": {},
   "outputs": [
    {
     "data": {
      "text/plain": [
       "[Document(page_content='81\\nUsing Selectivity and Cost Estimates in Query \\nOptimization (5) \\nExamples of Cost Functions for SELECT (cont.)\\nn\\nS4. Using an ordering index to retrieve multiple records:\\n     For the comparison condition on a key field with an ordering index, \\nCS4= x + (b/2) \\nn\\nS5. Using a clustering index to retrieve multiple records for an \\nequality condition:\\n      CS5= x + ┌ (s/bfr) ┐ \\nn\\nS6. Using a secondary (B+-tree) index:\\n    For an equality comparison, CS6a= x + s (option 1 & 2); \\n                                             CS6a= x + s + 1 (option 3);\\n    For a comparison condition such as >, <, >=, or <=, \\n       CS6b= x + (bI1/2) + (r/2)\\n', metadata={'source': 'data/web_data/Lecture 3.pdf', 'file_path': 'data/web_data/Lecture 3.pdf', 'page': 80, 'total_pages': 92, 'format': 'PDF 1.7', 'title': 'Lecture 3.pptx', 'author': '', 'subject': '', 'keywords': '', 'creator': '', 'producer': 'Microsoft: Print To PDF', 'creationDate': \"D:20240229170808+07'00'\", 'modDate': \"D:20240229170808+07'00'\", 'trapped': ''}),\n",
       " Document(page_content='82\\nUsing Selectivity and Cost Estimates in \\nQuery Optimization (6)\\nExamples of Cost Functions for SELECT (cont.)\\nn S7. Conjunctive selection:\\n    Use either S1 or one of the methods S2 to S6 to solve. \\n    For the latter case, use one condition to retrieve the records and \\nthen check in the memory buffer whether each retrieved record \\nsatisfies the remaining conditions in the conjunction.\\nn S8. Conjunctive selection using a composite index:\\n     Same as S3a, S5 or S6a, depending on the type of index.\\n', metadata={'source': 'data/web_data/Lecture 3.pdf', 'file_path': 'data/web_data/Lecture 3.pdf', 'page': 81, 'total_pages': 92, 'format': 'PDF 1.7', 'title': 'Lecture 3.pptx', 'author': '', 'subject': '', 'keywords': '', 'creator': '', 'producer': 'Microsoft: Print To PDF', 'creationDate': \"D:20240229170808+07'00'\", 'modDate': \"D:20240229170808+07'00'\", 'trapped': ''}),\n",
       " Document(page_content='Example\\n\\n* \\\\(r_{\\\\rm E}=10,000\\\\) , \\\\(b_{\\\\rm E}=2000\\\\) , \\\\(bf_{\\\\rm E}=5\\\\)\\n* Access paths: * 1. A clustering index on SALARY, with levels \\\\(x_{\\\\rm SALARY}=3\\\\) and average selection cardinality \\\\(S_{\\\\rm SALARY}=20\\\\). * 2. A secondary index on the key attribute SSN, with \\\\(x_{\\\\rm SSN}=4\\\\) (\\\\(S_{\\\\rm SSN}=1\\\\)). * 3. A secondary index on the nonkey attribute DNO, with \\\\(x_{\\\\rm DNO}\\\\)= 2 and first-level index blocks \\\\(b_{\\\\rm 11DNO}\\\\)= 4. There are \\\\(d_{\\\\rm DNO}=125\\\\) distinct values for DNO, so the selection cardinality of DNO is \\\\(S_{\\\\rm DNO}=(r/d_{\\\\rm DNO})=80\\\\). * 4. A secondary index on SEX, with \\\\(x_{\\\\rm SEX}=1\\\\). There are \\\\(d_{\\\\rm SEX}=2\\\\) values for the sex attribute, so the average selection cardinality is \\\\(S_{\\\\rm SEX}=(r/d_{\\\\rm SEX})=5000\\\\).', metadata={'source': 'data/web_data/Lecture 3.pdf', 'file_path': 'data/web_data/Lecture 3.pdf', 'page': 82, 'total_pages': 92, 'format': 'PDF 1.7', 'title': 'Lecture 3.pptx', 'author': '', 'subject': '', 'keywords': '', 'creator': '', 'producer': 'Microsoft: Print To PDF', 'creationDate': \"D:20240229170808+07'00'\", 'modDate': \"D:20240229170808+07'00'\", 'trapped': ''}),\n",
       " Document(page_content=\"Example\\n\\n= (op1): \\\\(\\\\sigma_{\\\\text{SSN}}\\\\)='123456789' (EMPLOYEE)\\n\\n\\\\(C_{\\\\text{S}1b}=1000\\\\)\\n\\n\\\\(C_{\\\\text{S}6a}=x_{\\\\text{SSN}}\\\\)+ 1 = 4+1 = 5\\n\\n= (op2): \\\\(\\\\sigma_{\\\\text{DNO}>5}\\\\) (EMPLOYEE)\\n\\n\\\\(C_{\\\\text{S}1a}=2000\\\\)\\n\\n\\\\(C_{\\\\text{S}6b}=x_{\\\\text{DNO}}+(b_{\\\\text{I}1\\\\text{DNO}}/2)+(r/2)=2+4/2+10000/2=5004\\\\)\", metadata={'source': 'data/web_data/Lecture 3.pdf', 'file_path': 'data/web_data/Lecture 3.pdf', 'page': 83, 'total_pages': 92, 'format': 'PDF 1.7', 'title': 'Lecture 3.pptx', 'author': '', 'subject': '', 'keywords': '', 'creator': '', 'producer': 'Microsoft: Print To PDF', 'creationDate': \"D:20240229170808+07'00'\", 'modDate': \"D:20240229170808+07'00'\", 'trapped': ''}),\n",
       " Document(page_content=\"Example\\n\\n= (op3): \\\\(\\\\sigma_{\\\\text{DNO}=5}\\\\) (EMPLOYEE)\\n\\n\\\\(C_{\\\\text{S1a}}=2000\\\\)\\n\\n\\\\(C_{\\\\text{S6a}}=x_{\\\\text{DNO}}+s_{\\\\text{DNO}}=2+80=82\\\\)\\n\\n= (op4): \\\\(\\\\sigma_{\\\\text{DNO}=5}\\\\)AND SALARY>30000 AND SEX=F' (EMPLOYEE)\\n\\n\\\\(C_{\\\\text{S6a-DNO}}=82\\\\)\\n\\n\\\\(C_{\\\\text{S4-SALARY}}=x_{\\\\text{SALARY}}+(\\\\text{b/2})=3+2000/2=1003\\\\)\\n\\n\\\\(C_{\\\\text{S6a-SEX}}=x_{\\\\text{SEX}}+s_{\\\\text{SEX}}=1+5000=5001\\\\)\\n\\n\\\\(=>\\\\) chose DNO=5 first and check the other conditions\", metadata={'source': 'data/web_data/Lecture 3.pdf', 'file_path': 'data/web_data/Lecture 3.pdf', 'page': 84, 'total_pages': 92, 'format': 'PDF 1.7', 'title': 'Lecture 3.pptx', 'author': '', 'subject': '', 'keywords': '', 'creator': '', 'producer': 'Microsoft: Print To PDF', 'creationDate': \"D:20240229170808+07'00'\", 'modDate': \"D:20240229170808+07'00'\", 'trapped': ''}),\n",
       " Document(page_content='Using Selectivity and Cost Estimates in Query Optimization (7)\\n\\nExamples of Cost Functions for JOIN\\n\\n* **Join selectivity (js)** \\\\(\\\\rm{js}=\\\\mid(R\\\\rhd\\\\!\\\\!\\\\!\\\\!\\\\!\\\\!\\\\!\\\\!\\\\!\\\\!\\\\!\\\\!\\\\!\\\\!\\\\!\\\\!\\\\!\\\\!\\\\!\\\\!\\\\!\\\\!\\\\!\\\\!\\\\!\\\\!\\\\!\\\\!\\\\!\\\\! \\\\!\\\\!\\\\!\\\\!\\\\!\\\\!\\\\!\\\\!\\\\!\\\\!\\\\!\\\\!\\\\!\\\\!\\\\!\\\\!\\\\!\\\\!\\\\!\\\\!\\\\!\\\\!\\\\!\\\\!\\\\!\\\\!\\\\!\\\\!\\\\!\\\\!\\\\!\\\\!\\\\!\\\\!\\\\!\\\\!\\\\!\\\\!\\\\! \\\\!\\\\!\\\\!\\\\!\\\\!\\\\!\\\\!\\\\!\\\\!\\\\!\\\\!\\\\!\\\\!\\\\!\\\\!\\\\!\\\\!\\\\!\\\\!\\\\!\\\\!\\\\!\\\\!\\\\!\\\\!\\\\!\\\\!\\\\!\\\\!\\\\!\\\\!\\\\!\\\\!\\\\!\\\\!\\\\!\\\\!\\\\!\\\\! \\\\!\\\\!\\\\!\\\\!\\\\!\\\\!\\\\!\\\\!\\\\!\\\\!\\\\!\\\\!\\\\!\\\\!\\\\!\\\\!\\\\!\\\\!\\\\!\\\\!\\\\!\\\\!\\\\!\\\\!\\\\!\\\\!\\\\!\\\\!\\\\!\\\\!\\\\!\\\\!\\\\!\\\\!\\\\!\\\\!\\\\!\\\\!\\\\! \\\\!\\\\!\\\\!\\\\!\\\\!\\\\!\\\\!\\\\!\\\\!\\\\!\\\\!\\\\!\\\\!\\\\!\\\\!\\\\!\\\\!\\\\!\\\\!\\\\!\\\\!\\\\!\\\\!\\\\!\\\\!\\\\!\\\\!\\\\!\\\\!\\\\!\\\\!\\\\!\\\\!\\\\!\\\\!\\\\!\\\\!\\\\!\\\\!\\\\! \\\\!\\\\!\\\\!\\\\!\\\\!\\\\!\\\\!\\\\!\\\\!\\\\!\\\\!\\\\!\\\\!\\\\!\\\\!\\\\!\\\\!\\\\!\\\\!\\\\!\\\\!\\\\!\\\\!\\\\!\\\\!\\\\!\\\\!\\\\!\\\\!\\\\!\\\\!\\\\!\\\\!\\\\!\\\\!\\\\!\\\\!\\\\!\\\\! \\\\!\\\\!\\\\!\\\\!\\\\!\\\\!\\\\!\\\\!\\\\!\\\\!\\\\!\\\\!\\\\!\\\\!\\\\!\\\\!\\\\!\\\\!\\\\!\\\\!\\\\!\\\\!\\\\!\\\\!\\\\!\\\\!\\\\!\\\\!\\\\!\\\\!\\\\!\\\\!\\\\!\\\\!\\\\!\\\\!\\\\!\\\\!\\\\! \\\\!\\\\!\\\\!\\\\!\\\\!\\\\!\\\\!\\\\!\\\\!\\\\!\\\\!\\\\!\\\\!\\\\!\\\\!\\\\!\\\\!\\\\!\\\\!\\\\!\\\\!\\\\!\\\\!\\\\!\\\\!\\\\!\\\\!\\\\!\\\\!\\\\!\\\\!\\\\!\\\\!\\\\!\\\\!\\\\!\\\\!\\\\!\\\\! \\\\!\\\\!\\\\!\\\\!\\\\!\\\\!\\\\!\\\\!\\\\!\\\\!\\\\!\\\\!\\\\!\\\\!\\\\!\\\\!\\\\!\\\\!\\\\!\\\\!\\\\!\\\\!\\\\!\\\\!\\\\!\\\\!\\\\!\\\\!\\\\!\\\\!\\\\!\\\\!\\\\!\\\\!\\\\!\\\\!\\\\!\\\\!\\\\! \\\\!\\\\!\\\\!\\\\!\\\\!\\\\!\\\\!\\\\!\\\\!\\\\!\\\\!\\\\!\\\\!\\\\!\\\\!\\\\!\\\\!\\\\!\\\\!\\\\!\\\\!\\\\!\\\\!\\\\!\\\\!\\\\!\\\\!\\\\!\\\\!\\\\!\\\\!\\\\!\\\\!\\\\!\\\\!\\\\!\\\\!\\\\!\\\\! \\\\!\\\\!\\\\!\\\\!\\\\!\\\\!\\\\!\\\\!\\\\!\\\\!\\\\!\\\\!\\\\!\\\\!\\\\!\\\\!\\\\!\\\\!\\\\!\\\\!\\\\!\\\\!\\\\!\\\\!\\\\!\\\\!\\\\!\\\\!\\\\!\\\\!\\\\!\\\\!\\\\!\\\\!\\\\!\\\\!\\\\!\\\\!\\\\! \\\\!\\\\!\\\\!\\\\!\\\\!\\\\!\\\\!\\\\!\\\\!\\\\!\\\\!\\\\!\\\\!\\\\!\\\\!\\\\!\\\\!\\\\!\\\\!\\\\!\\\\!\\\\!\\\\!\\\\!\\\\!\\\\!\\\\!\\\\!\\\\!\\\\!\\\\!\\\\!\\\\!\\\\!\\\\!\\\\!\\\\!\\\\!\\\\! \\\\!\\\\!\\\\!\\\\!\\\\!\\\\!\\\\!\\\\!\\\\!\\\\!\\\\!\\\\!\\\\!\\\\!\\\\!\\\\!\\\\!\\\\!\\\\!\\\\!\\\\', metadata={'source': 'data/web_data/Lecture 3.pdf', 'file_path': 'data/web_data/Lecture 3.pdf', 'page': 85, 'total_pages': 92, 'format': 'PDF 1.7', 'title': 'Lecture 3.pptx', 'author': '', 'subject': '', 'keywords': '', 'creator': '', 'producer': 'Microsoft: Print To PDF', 'creationDate': \"D:20240229170808+07'00'\", 'modDate': \"D:20240229170808+07'00'\", 'trapped': ''}),\n",
       " Document(page_content='87\\nUsing Selectivity and Cost Estimates in \\nQuery Optimization (8)\\nExamples of Cost Functions for JOIN (cont.)\\nn J1. Nested-loop join:\\n    CJ1 = bR+ (bR*bS) + ((js* |R|* |S|)/bfrRS)\\n     (Use R for outer loop)\\nn J2. Single-loop join(using an access structure to retrieve the \\nmatching record(s))\\n     If  an index exists for the join attribute B of S with index levels \\n     xB, we can retrieve each record s in R and then use the index to \\nretrieve all the matching records t from S that satisfy t[B] = s[A].\\n    The cost depends on the type of index. \\n', metadata={'source': 'data/web_data/Lecture 3.pdf', 'file_path': 'data/web_data/Lecture 3.pdf', 'page': 86, 'total_pages': 92, 'format': 'PDF 1.7', 'title': 'Lecture 3.pptx', 'author': '', 'subject': '', 'keywords': '', 'creator': '', 'producer': 'Microsoft: Print To PDF', 'creationDate': \"D:20240229170808+07'00'\", 'modDate': \"D:20240229170808+07'00'\", 'trapped': ''}),\n",
       " Document(page_content='Using Selectivity and Cost Estimates in Query Optimization (9)\\n\\nExamples of Cost Functions for JOIN (cont.)\\n* **J2. Single-loop join (cont.)** For a secondary index, \\\\(C_{J2a}=b_{R}+(|R|^{*}(x_{B}+s_{B}))+((js^{*}|R|^{*}|S|)/bfr_{RS})\\\\); For a clustering index, \\\\(C_{J2b}=b_{R}+(|R|^{*}(x_{B}+(s_{B}/bfr_{B})))+((js^{*}|R|^{*}|S|)/bfr_{RS})\\\\); For a primary index, \\\\(C_{J2c}=b_{R}+(|R|^{*}(x_{B}+1))+((js^{*}|R|^{*}|S|)/bfr_{RS})\\\\); If a hash key exists for one of the two join attributes -- B of S \\\\(C_{J2d}=b_{R}+(|R|^{*}h)+((js^{*}|R|^{*}|S|)/bfr_{RS})\\\\); h: the average number of block accesses to retrieve a record, given its hash key value, h>=1 * **J3. Sort-merge join:** \\\\(C_{J3a}=C_{S}+b_{R}+b_{S}+((js^{*}|R|^{*}|S|)/bfr_{RS})\\\\); (C_S: Cost for sorting files)', metadata={'source': 'data/web_data/Lecture 3.pdf', 'file_path': 'data/web_data/Lecture 3.pdf', 'page': 87, 'total_pages': 92, 'format': 'PDF 1.7', 'title': 'Lecture 3.pptx', 'author': '', 'subject': '', 'keywords': '', 'creator': '', 'producer': 'Microsoft: Print To PDF', 'creationDate': \"D:20240229170808+07'00'\", 'modDate': \"D:20240229170808+07'00'\", 'trapped': ''}),\n",
       " Document(page_content='## Example\\n\\n* Suppose that we have the EMPLOYEE file described in the previous example\\n* Assume that the DEPARTMENT file of \\\\(\\\\text{r}_{\\\\text{D}}\\\\) = 125 and \\\\(\\\\text{b}_{\\\\text{D}}\\\\) = 13 , \\\\(\\\\text{x}_{\\\\text{DNUMBER}}\\\\) = 1, secondary index on MGRSSN of DEPARTMENT, \\\\(\\\\text{s}_{\\\\text{MGRSSN}}\\\\) = 1, \\\\(\\\\text{x}_{\\\\text{MGRSSN}}\\\\) = 2, \\\\(\\\\text{j}_{\\\\text{SOP6}}\\\\) = (1/1DEPARTMENTI ) = 1/125 , \\\\(\\\\text{b}\\\\text{f}_{\\\\text{ED}}\\\\) = 4\\n* EMPLOYEE \\\\(\\\\left\\\\|\\\\text{x}_{\\\\text{DNUMBER}}\\\\right\\\\|_{\\\\text{DNUMBER}}\\\\) DEPARTMENT\\n* DEPARTMENT \\\\(\\\\left\\\\|\\\\text{x}_{\\\\text{MGRSSN}}\\\\right\\\\|_{\\\\text{SSN}}\\\\)EMPLOYEE', metadata={'source': 'data/web_data/Lecture 3.pdf', 'file_path': 'data/web_data/Lecture 3.pdf', 'page': 88, 'total_pages': 92, 'format': 'PDF 1.7', 'title': 'Lecture 3.pptx', 'author': '', 'subject': '', 'keywords': '', 'creator': '', 'producer': 'Microsoft: Print To PDF', 'creationDate': \"D:20240229170808+07'00'\", 'modDate': \"D:20240229170808+07'00'\", 'trapped': ''}),\n",
       " Document(page_content='DEPARTMENT: \\\\(r_{D}\\\\) = 125 and \\\\(b_{D}\\\\) = 13 , \\\\(x_{DNUMBER}\\\\) = 1, primary index on DNUMBER of DEPARTMENT, \\\\(x_{DNUMBER}\\\\) = 1, \\\\(j_{SOP6}\\\\) = (1/lDEPARTMENTI ) = 1/\\\\(r_{D}\\\\) = 1/125 , \\\\(bf_{ED}\\\\) = 4 EMPLOYEE : \\\\(r_{E}\\\\) = 10000, \\\\(b_{E}\\\\) = 2000, secondary index on the nonkey attribute DNO, \\\\(x_{DNO}\\\\) = 2, \\\\(S_{DNO}\\\\) = 80).\\n\\n* (op6): EMPLOYEE \\\\(\\\\left\\\\|\\\\times\\\\right\\\\|_{DNO}\\\\)=DNUMBER DEPARTMENT\\n* Method J1 with Employee as outer: * \\\\(C_{J1}\\\\) = \\\\(b_{E}\\\\) + (\\\\(b_{E}\\\\) * \\\\(b_{D}\\\\)) + ((\\\\(j_{SOP6}\\\\) * \\\\(r_{E}\\\\) * \\\\(r_{D}\\\\))/bf\\\\({}_{ED}\\\\)) = 2000 + (2000 * 13) + (((1/125) * 10,000 * 125)/4) =30,500\\n* Method J1 with Department as outer: * \\\\(C_{J1}\\\\) = \\\\(b_{D}\\\\) + (\\\\(b_{E}\\\\) * \\\\(b_{D}\\\\)) + ((\\\\((j_{SOP6}\\\\) * \\\\(r_{E}\\\\) * \\\\(r_{D}\\\\))/bf\\\\({}_{ED}\\\\)) = 13 + (13 * 2000) + (((1/125) * 10,000 * 125/4) = 28,513\\n* Method J2 with EMPLOYEE as outer loop: * \\\\(C_{J2C}\\\\) = \\\\(b_{E}\\\\) + (\\\\(r_{E}\\\\) * (\\\\(x_{DNUMBER}\\\\) + 1)) + ((\\\\(j_{SOP6}\\\\) * \\\\(r_{E}\\\\) * \\\\(r_{D}\\\\))/bf\\\\({}_{ED}\\\\) = 2000 + (10,000 * 2) + (((1/125) * 10,000 * 125/4) = 24,500\\n* Method J2 with DEPARTMENT as outer loop: * \\\\(C_{J2a}\\\\) = \\\\(b_{D}\\\\) + (\\\\(r_{D}\\\\) * (\\\\(x_{DNO}\\\\)+ \\\\(S_{DNO}\\\\))) + ((\\\\(j_{SOP6}\\\\) * \\\\(r_{E}\\\\) * \\\\(r_{D}\\\\))/bf\\\\({}_{ED}\\\\)) = 13 + (125 * (2 + 80)) + (((1/125) * 10,000 * 125/4) = 12,763', metadata={'source': 'data/web_data/Lecture 3.pdf', 'file_path': 'data/web_data/Lecture 3.pdf', 'page': 89, 'total_pages': 92, 'format': 'PDF 1.7', 'title': 'Lecture 3.pptx', 'author': '', 'subject': '', 'keywords': '', 'creator': '', 'producer': 'Microsoft: Print To PDF', 'creationDate': \"D:20240229170808+07'00'\", 'modDate': \"D:20240229170808+07'00'\", 'trapped': ''})]"
      ]
     },
     "execution_count": 65,
     "metadata": {},
     "output_type": "execute_result"
    }
   ],
   "source": [
    "ori_text[80:90]"
   ]
  },
  {
   "cell_type": "code",
   "execution_count": null,
   "metadata": {},
   "outputs": [],
   "source": [
    "remove_and_recreate_folder(tmp_path)\n"
   ]
  },
  {
   "cell_type": "code",
   "execution_count": null,
   "metadata": {},
   "outputs": [
    {
     "name": "stdout",
     "output_type": "stream",
     "text": [
      "Selected device: cuda\n",
      "There are 1 / 6 pages has math\n"
     ]
    }
   ],
   "source": [
    "post_processor = MathLatexRecovery()\n",
    "outputs = post_processor.recover_math(ori_text)"
   ]
  },
  {
   "cell_type": "code",
   "execution_count": null,
   "metadata": {},
   "outputs": [
    {
     "data": {
      "text/plain": [
       "[]"
      ]
     },
     "execution_count": 30,
     "metadata": {},
     "output_type": "execute_result"
    }
   ],
   "source": [
    "outputs[30:39]"
   ]
  }
 ],
 "metadata": {
  "kernelspec": {
   "display_name": "venv",
   "language": "python",
   "name": "python3"
  },
  "language_info": {
   "codemirror_mode": {
    "name": "ipython",
    "version": 3
   },
   "file_extension": ".py",
   "mimetype": "text/x-python",
   "name": "python",
   "nbconvert_exporter": "python",
   "pygments_lexer": "ipython3",
   "version": "3.10.12"
  }
 },
 "nbformat": 4,
 "nbformat_minor": 2
}
