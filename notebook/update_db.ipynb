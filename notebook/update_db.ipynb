{
 "cells": [
  {
   "cell_type": "code",
   "execution_count": 19,
   "metadata": {},
   "outputs": [
    {
     "name": "stdout",
     "output_type": "stream",
     "text": [
      "/home/mrzaizai2k/code_Bao/LLM-with-RAG/notebook\n"
     ]
    }
   ],
   "source": [
    "import os\n",
    "try:\n",
    "    print(file_path)\n",
    "except:\n",
    "    file_path = os.path.abspath('')\n",
    "    os.chdir(os.path.dirname(file_path))\n",
    "    print(file_path)"
   ]
  },
  {
   "cell_type": "code",
   "execution_count": 20,
   "metadata": {},
   "outputs": [],
   "source": [
    "from src.Utils.utils import *\n",
    "from src.ragqa import *"
   ]
  },
  {
   "cell_type": "code",
   "execution_count": 21,
   "metadata": {},
   "outputs": [
    {
     "name": "stdout",
     "output_type": "stream",
     "text": [
      "Selected device: cuda\n"
     ]
    }
   ],
   "source": [
    "device = take_device()"
   ]
  },
  {
   "cell_type": "code",
   "execution_count": 22,
   "metadata": {},
   "outputs": [],
   "source": [
    "def remove_repetitive_patterns(text:str):\n",
    "    # Define regex patterns to match repetitive sequences\n",
    "    patterns = [\n",
    "        r'(.\\n\\n)+',  # Matches repetitive sequences of \".\\n\"\n",
    "        r'(\\\\\\(T\\\\.\\\\\\)\\\\\\(\\\\.\\\\\\))+',   # Matches repetitive sequences of \"\\(T.\\)\\(.\\)\"\n",
    "        r'(\\w+)\\1+',                      # Matches repetitive sequences of a word\n",
    "        r'(\\\\!)+',\n",
    "        r'(\\*\\*Algorithm \\d+\\*\\*\\s*)+',  # Matches \"Algorithm\" patterns with numbers\n",
    "    ]\n",
    "    \n",
    "    # Process each pattern and replace it with a single instance\n",
    "    for pattern in patterns:\n",
    "        text = re.sub(pattern, r'\\1', text)\n",
    "    \n",
    "    return text"
   ]
  },
  {
   "cell_type": "code",
   "execution_count": 23,
   "metadata": {},
   "outputs": [
    {
     "name": "stdout",
     "output_type": "stream",
     "text": [
      "**Algorithm 15** **Algorithm 16*\n"
     ]
    }
   ],
   "source": [
    "text = \"\"\"**Algorithm 1** **Algorithm 2** **Algorithm 3** **Algorithm 4** **Algorithm 5** **Algorithm 6** **Algorithm 7** **Algorithm 8** **Algorithm 9** **Algorithm 10** **Algorithm 1** **Algorithm 12** **Algorithm 13** **Algorithm 14** **Algorithm 15** **Algorithm 16*\"\"\"\n",
    "print(remove_repetitive_patterns(text))"
   ]
  },
  {
   "cell_type": "code",
   "execution_count": 24,
   "metadata": {},
   "outputs": [],
   "source": [
    "model_config = config_parser(data_config_path = 'config/model_config.yaml')"
   ]
  },
  {
   "cell_type": "markdown",
   "metadata": {},
   "source": [
    "## Load the vector database"
   ]
  },
  {
   "cell_type": "code",
   "execution_count": 31,
   "metadata": {},
   "outputs": [],
   "source": [
    "embedding_model = HuggingFaceEmbeddings(\n",
    "    model_name=model_config[\"embedding_model\"], \n",
    "    # model_name=\"model/distilroberta-triplets_2\", #\n",
    "    # multi_process=True,\n",
    "    model_kwargs={\"device\": device},\n",
    "    # encode_kwargs={\"normalize_embeddings\": True},  # Set `True` for cosine similarity\n",
    ")\n",
    "\n",
    "db_faiss_path = \"data/vectorstores/db_faiss_4\"\n",
    "knowledge_vector_db = FAISS.load_local(db_faiss_path, \n",
    "                                        embedding_model, \n",
    "                                        allow_dangerous_deserialization='True',\n",
    "                                        )\n"
   ]
  },
  {
   "cell_type": "code",
   "execution_count": 32,
   "metadata": {},
   "outputs": [
    {
     "data": {
      "text/plain": [
       "46770"
      ]
     },
     "execution_count": 32,
     "metadata": {},
     "output_type": "execute_result"
    }
   ],
   "source": [
    "docs_processed=get_documents_from_vectordb(knowledge_vector_db)\n",
    "len(docs_processed)"
   ]
  },
  {
   "cell_type": "code",
   "execution_count": 27,
   "metadata": {},
   "outputs": [
    {
     "data": {
      "text/plain": [
       "[Document(page_content='Al dependencies cros the boundary\\nlines pointing inward, folowing the Dependency Rule.\\n\\nCONCLUSION\\nConforming to these simple rules is not dificult, and it wil save you a lot of\\nheadaches going forward.\\n\\nBy separating the software into layers and conforming\\nto the Dependency Rule, you wil create a system that is intrinsicaly testable,\\nwith al the benefits that implies.', metadata={'source': 'data/web_data/[1]. Clean Architecture A Craftsman Guide to Software Structure and Design.pdf', 'file_path': 'data/web_data/[1]. Clean Architecture A Craftsman Guide to Software Structure and Design.pdf', 'page': 208, 'total_pages': 444, 'format': 'PDF 1.4', 'title': \"Clean Architecture: A Craftsman's Guide to Software Structure and Design (Robert C. Martin Series)\", 'author': 'Robert C. Martin', 'subject': '', 'keywords': '', 'creator': 'calibre 3.7.0 [https://calibre-ebook.com]', 'producer': 'calibre 3.7.0 [https://calibre-ebook.com]', 'creationDate': \"D:20170920140342+00'00'\", 'modDate': '', 'trapped': ''}),\n",
       " Document(page_content='When any of the external parts of the system\\nbecome obsolete, such as the database, or the web framework, you can replace\\nthose obsolete elements with a minimum of fus.', metadata={'source': 'data/web_data/[1]. Clean Architecture A Craftsman Guide to Software Structure and Design.pdf', 'file_path': 'data/web_data/[1]. Clean Architecture A Craftsman Guide to Software Structure and Design.pdf', 'page': 208, 'total_pages': 444, 'format': 'PDF 1.4', 'title': \"Clean Architecture: A Craftsman's Guide to Software Structure and Design (Robert C. Martin Series)\", 'author': 'Robert C. Martin', 'subject': '', 'keywords': '', 'creator': 'calibre 3.7.0 [https://calibre-ebook.com]', 'producer': 'calibre 3.7.0 [https://calibre-ebook.com]', 'creationDate': \"D:20170920140342+00'00'\", 'modDate': '', 'trapped': ''}),\n",
       " Document(page_content='23\\nPRESENTERS AND HUMBLE OBJECTS\\nIn Chapter 2, we introduced the notion of presenters.\\n\\nPresenters are a form of\\nthe Humble Object patern, which helps us identify and protect architectural\\nboundaries.\\n\\nActualy, the Clean Architecture in the last chapter was ful of\\nHumble Object implementations.', metadata={'source': 'data/web_data/[1]. Clean Architecture A Craftsman Guide to Software Structure and Design.pdf', 'file_path': 'data/web_data/[1]. Clean Architecture A Craftsman Guide to Software Structure and Design.pdf', 'page': 209, 'total_pages': 444, 'format': 'PDF 1.4', 'title': \"Clean Architecture: A Craftsman's Guide to Software Structure and Design (Robert C. Martin Series)\", 'author': 'Robert C. Martin', 'subject': '', 'keywords': '', 'creator': 'calibre 3.7.0 [https://calibre-ebook.com]', 'producer': 'calibre 3.7.0 [https://calibre-ebook.com]', 'creationDate': \"D:20170920140342+00'00'\", 'modDate': '', 'trapped': ''}),\n",
       " Document(page_content='Actualy, the Clean Architecture in the last chapter was ful of\\nHumble Object implementations.\\n\\nTHE HUMBLE OBJECT PATERN\\nThe Humble Object patern1 is a design patern that was originaly identified as a\\nway to help unit testers to separate behaviors that are hard to test from behaviors\\nthat are easy to test.\\n\\nThe idea is very simple: Split the behaviors into two', metadata={'source': 'data/web_data/[1]. Clean Architecture A Craftsman Guide to Software Structure and Design.pdf', 'file_path': 'data/web_data/[1]. Clean Architecture A Craftsman Guide to Software Structure and Design.pdf', 'page': 209, 'total_pages': 444, 'format': 'PDF 1.4', 'title': \"Clean Architecture: A Craftsman's Guide to Software Structure and Design (Robert C. Martin Series)\", 'author': 'Robert C. Martin', 'subject': '', 'keywords': '', 'creator': 'calibre 3.7.0 [https://calibre-ebook.com]', 'producer': 'calibre 3.7.0 [https://calibre-ebook.com]', 'creationDate': \"D:20170920140342+00'00'\", 'modDate': '', 'trapped': ''}),\n",
       " Document(page_content='modules or clases.\\n\\nOne of those modules is humble; it contains al the hard-to-\\ntest behaviors striped down to their barest esence.\\n\\nThe other module contains\\nal the testable behaviors that were striped out of the humble object.\\n\\nFor example, GUIs are hard to unit test because it is very dificult to write tests\\nthat can se the scren and check that the apropriate elements are displayed\\nthere.\\n\\nHowever, most of the behavior of a GUI is, in fact, easy to test.', metadata={'source': 'data/web_data/[1]. Clean Architecture A Craftsman Guide to Software Structure and Design.pdf', 'file_path': 'data/web_data/[1]. Clean Architecture A Craftsman Guide to Software Structure and Design.pdf', 'page': 210, 'total_pages': 444, 'format': 'PDF 1.4', 'title': \"Clean Architecture: A Craftsman's Guide to Software Structure and Design (Robert C. Martin Series)\", 'author': 'Robert C. Martin', 'subject': '', 'keywords': '', 'creator': 'calibre 3.7.0 [https://calibre-ebook.com]', 'producer': 'calibre 3.7.0 [https://calibre-ebook.com]', 'creationDate': \"D:20170920140342+00'00'\", 'modDate': '', 'trapped': ''})]"
      ]
     },
     "execution_count": 27,
     "metadata": {},
     "output_type": "execute_result"
    }
   ],
   "source": [
    "docs_processed[800:805]"
   ]
  },
  {
   "cell_type": "markdown",
   "metadata": {},
   "source": [
    "## Edit the documents"
   ]
  },
  {
   "cell_type": "code",
   "execution_count": 28,
   "metadata": {},
   "outputs": [],
   "source": [
    "for doc in docs_processed:\n",
    "    doc.page_content = remove_repetitive_patterns(text = doc.page_content)"
   ]
  },
  {
   "cell_type": "code",
   "execution_count": 29,
   "metadata": {},
   "outputs": [],
   "source": [
    "#remove all documents\n",
    "remove(knowledge_vector_db, docstore_ids=None)\n",
    "knowledge_vector_db.save_local(db_faiss_path)"
   ]
  },
  {
   "cell_type": "markdown",
   "metadata": {},
   "source": [
    "## Save new docs to database"
   ]
  },
  {
   "cell_type": "code",
   "execution_count": 30,
   "metadata": {},
   "outputs": [],
   "source": [
    "knowledge_vector_db = FAISS.from_documents(docs_processed, embedding_model)\n",
    "# Save the new database, overwriting the old one\n",
    "knowledge_vector_db.save_local(db_faiss_path)"
   ]
  }
 ],
 "metadata": {
  "kernelspec": {
   "display_name": "venv",
   "language": "python",
   "name": "python3"
  },
  "language_info": {
   "codemirror_mode": {
    "name": "ipython",
    "version": 3
   },
   "file_extension": ".py",
   "mimetype": "text/x-python",
   "name": "python",
   "nbconvert_exporter": "python",
   "pygments_lexer": "ipython3",
   "version": "3.10.12"
  }
 },
 "nbformat": 4,
 "nbformat_minor": 2
}
