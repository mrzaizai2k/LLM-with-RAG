{
 "cells": [
  {
   "cell_type": "code",
   "execution_count": 53,
   "metadata": {},
   "outputs": [
    {
     "name": "stdout",
     "output_type": "stream",
     "text": [
      "/home/mrzaizai2k/code_Bao/LLM-with-RAG/notebook\n"
     ]
    }
   ],
   "source": [
    "import os\n",
    "try:\n",
    "    print(file_path)\n",
    "except:\n",
    "    file_path = os.path.abspath('')\n",
    "    os.chdir(os.path.dirname(file_path))\n",
    "    print(file_path)"
   ]
  },
  {
   "cell_type": "code",
   "execution_count": 54,
   "metadata": {},
   "outputs": [],
   "source": [
    "from langchain_community.document_loaders import (\n",
    "                                                  PyMuPDFLoader,\n",
    "                                                  NewsURLLoader,\n",
    "                                                  YoutubeLoader,\n",
    "                                                  )\n",
    "from langchain.vectorstores import FAISS\n",
    "from langchain_community.embeddings import HuggingFaceEmbeddings\n",
    "from langchain_community.vectorstores.utils import DistanceStrategy\n",
    "\n",
    "import pacmap\n",
    "import numpy as np\n",
    "import plotly.express as px\n",
    "\n",
    "\n",
    "from src.utils import *\n",
    "from src.ragqa import *\n",
    "\n",
    "import pandas as pd\n",
    "import random\n",
    "pd.set_option('display.max_colwidth', None)"
   ]
  },
  {
   "cell_type": "code",
   "execution_count": 55,
   "metadata": {},
   "outputs": [
    {
     "name": "stdout",
     "output_type": "stream",
     "text": [
      "Selected device: cuda\n"
     ]
    }
   ],
   "source": [
    "device = take_device()"
   ]
  },
  {
   "cell_type": "code",
   "execution_count": 56,
   "metadata": {},
   "outputs": [],
   "source": [
    "def remove_repetitive_patterns(text:str):\n",
    "    # Define regex patterns to match repetitive sequences\n",
    "    patterns = [\n",
    "        r'(.\\n\\n)+',                      # Matches repetitive sequences of \".\\n\"\n",
    "        r'(\\\\\\(T\\\\.\\\\\\)\\\\\\(\\\\.\\\\\\))+',   # Matches repetitive sequences of \"\\(T.\\)\\(.\\)\"\n",
    "        r'(\\w+)\\1+',                      # Matches repetitive sequences of a word\n",
    "        r'(\\\\!)+',\n",
    "    ]\n",
    "    \n",
    "    # Process each pattern and replace it with a single instance\n",
    "    for pattern in patterns:\n",
    "        text = re.sub(pattern, r'\\1', text)\n",
    "    \n",
    "    return text"
   ]
  },
  {
   "cell_type": "code",
   "execution_count": 57,
   "metadata": {},
   "outputs": [
    {
     "name": "stdout",
     "output_type": "stream",
     "text": [
      "\\!\n"
     ]
    },
    {
     "name": "stderr",
     "output_type": "stream",
     "text": [
      "<>:1: DeprecationWarning: invalid escape sequence '\\!'\n",
      "<>:1: DeprecationWarning: invalid escape sequence '\\!'\n",
      "/tmp/ipykernel_622551/3198881728.py:1: DeprecationWarning: invalid escape sequence '\\!'\n",
      "  text = \"\\!\\!\\!\\!\\!\\!\\!\\!\\!\\!\"\n"
     ]
    }
   ],
   "source": [
    "text = \"\\!\\!\\!\\!\\!\\!\\!\\!\\!\\!\"\n",
    "print(remove_repetitive_patterns(text))"
   ]
  },
  {
   "cell_type": "code",
   "execution_count": 58,
   "metadata": {},
   "outputs": [],
   "source": [
    "model_config = config_parser(data_config_path = 'config/model_config.yaml')"
   ]
  },
  {
   "cell_type": "code",
   "execution_count": 59,
   "metadata": {},
   "outputs": [],
   "source": [
    "embedding_model = HuggingFaceEmbeddings(\n",
    "    model_name=model_config[\"embedding_model\"],\n",
    "    # multi_process=True,\n",
    "    model_kwargs={\"device\": device},\n",
    "    # encode_kwargs={\"normalize_embeddings\": True},  # Set `True` for cosine similarity\n",
    ")\n",
    "\n",
    "# KNOWLEDGE_VECTOR_DATABASE = FAISS.from_documents(\n",
    "#     docs_processed, embedding_model, distance_strategy=DistanceStrategy.COSINE\n",
    "# )\n",
    "knowledge_vector_db = FAISS.load_local(\"data/vectorstores/db_faiss_4\", \n",
    "                                        embedding_model, \n",
    "                                        allow_dangerous_deserialization='True',\n",
    "                                        )"
   ]
  },
  {
   "cell_type": "code",
   "execution_count": 60,
   "metadata": {},
   "outputs": [],
   "source": [
    "# Embed a user query in the same space\n",
    "user_query = \"what is ER model\"\n",
    "query_vector = embedding_model.embed_query(user_query)"
   ]
  },
  {
   "cell_type": "code",
   "execution_count": 61,
   "metadata": {},
   "outputs": [],
   "source": [
    "docs_processed=[]\n",
    "for key, val in knowledge_vector_db.index_to_docstore_id.items():\n",
    "    docs_processed.append(knowledge_vector_db.docstore.search(val))"
   ]
  },
  {
   "cell_type": "code",
   "execution_count": 62,
   "metadata": {},
   "outputs": [
    {
     "data": {
      "text/plain": [
       "[Document(page_content='Chapter 3:\\nEnhanced Entity-\\nRelationship (ER) Model\\nJan - 2015\\n Contents\\n2\\n1\\nIntroduction to Enhanced-ER Model\\n2\\nSubclases, Superclases, and Inheritance\\n3\\nSpecialization and Generalization\\n4\\nConstraints and Characteristics of Specialization \\nand Generalization Hierarchies\\n5\\nCategories\\n6\\nDesign Choices, and Formal Definitions\\nJan - 2015', metadata={'source': 'data/web_data/Chapter_3 - EERD.pdf', 'file_path': 'data/web_data/Chapter_3 - EERD.pdf', 'page': 1, 'total_pages': 67, 'format': 'PDF 1.7', 'title': 'Course:        Database Management Systems Credits: 3', 'author': 'PHONG VU COMPUTER', 'subject': '', 'keywords': '', 'creator': 'Microsoft® PowerPoint® for Office 365', 'producer': 'Microsoft® PowerPoint® for Office 365', 'creationDate': \"D:20190620145018+07'00'\", 'modDate': \"D:20190620145018+07'00'\", 'trapped': ''}),\n",
       " Document(page_content='Contents\\n3\\n1\\nIntroduction to Enhanced-ER Model\\n2\\nSubclases, Superclases, and Inheritance\\n3\\nSpecialization and Generalization\\n4\\nConstraints and Characteristics of Specialization \\nand Generalization Hierarchies\\n5\\nCategories\\n6\\nDesign Choices, and Formal Definitions\\nJan - 2015', metadata={'source': 'data/web_data/Chapter_3 - EERD.pdf', 'file_path': 'data/web_data/Chapter_3 - EERD.pdf', 'page': 2, 'total_pages': 67, 'format': 'PDF 1.7', 'title': 'Course:        Database Management Systems Credits: 3', 'author': 'PHONG VU COMPUTER', 'subject': '', 'keywords': '', 'creator': 'Microsoft® PowerPoint® for Office 365', 'producer': 'Microsoft® PowerPoint® for Office 365', 'creationDate': \"D:20190620145018+07'00'\", 'modDate': \"D:20190620145018+07'00'\", 'trapped': ''}),\n",
       " Document(page_content='Introduction to Enhanced-ER Model \\n(1)\\n\\uf06eEnhanced ER or Extended ER (ER) \\nmodel\\n\\uf071Created to design more acurate database \\nschemas \\n\\uf06eReflect the data properties and constraints more \\nprecisely\\n\\uf071More complex requirements than traditional \\naplications\\n4\\nJan - 2015', metadata={'source': 'data/web_data/Chapter_3 - EERD.pdf', 'file_path': 'data/web_data/Chapter_3 - EERD.pdf', 'page': 3, 'total_pages': 67, 'format': 'PDF 1.7', 'title': 'Course:        Database Management Systems Credits: 3', 'author': 'PHONG VU COMPUTER', 'subject': '', 'keywords': '', 'creator': 'Microsoft® PowerPoint® for Office 365', 'producer': 'Microsoft® PowerPoint® for Office 365', 'creationDate': \"D:20190620145018+07'00'\", 'modDate': \"D:20190620145018+07'00'\", 'trapped': ''}),\n",
       " Document(page_content='Introduction to Enhanced-ER Model \\n(2)\\n\\uf06eER model includes al modeling concepts of \\nthe ER model\\n\\uf06eIn adition, ER includes:\\n\\uf071Subclases and superclases\\n\\uf071Specialization and generalization\\n\\uf071Category or union type\\n\\uf071Atribute and relationship inheritance\\n\\uf06eER diagrams\\n\\uf071Diagramatic technique for displaying these concepts \\nin an ER schema\\n5\\nJan - 2015', metadata={'source': 'data/web_data/Chapter_3 - EERD.pdf', 'file_path': 'data/web_data/Chapter_3 - EERD.pdf', 'page': 4, 'total_pages': 67, 'format': 'PDF 1.7', 'title': 'Course:        Database Management Systems Credits: 3', 'author': 'PHONG VU COMPUTER', 'subject': '', 'keywords': '', 'creator': 'Microsoft® PowerPoint® for Office 365', 'producer': 'Microsoft® PowerPoint® for Office 365', 'creationDate': \"D:20190620145018+07'00'\", 'modDate': \"D:20190620145018+07'00'\", 'trapped': ''}),\n",
       " Document(page_content='Contents\\n6\\n1\\nIntroduction to Enhanced-ER Model\\n2\\nSubclases, Superclases, and Inheritance\\n3\\nSpecialization and Generalization\\n4\\nConstraints and Characteristics of Specialization \\nand Generalization Hierarchies\\n5\\nCategories\\n6\\nDesign Choices, and Formal Definitions\\nJan - 2015', metadata={'source': 'data/web_data/Chapter_3 - EERD.pdf', 'file_path': 'data/web_data/Chapter_3 - EERD.pdf', 'page': 5, 'total_pages': 67, 'format': 'PDF 1.7', 'title': 'Course:        Database Management Systems Credits: 3', 'author': 'PHONG VU COMPUTER', 'subject': '', 'keywords': '', 'creator': 'Microsoft® PowerPoint® for Office 365', 'producer': 'Microsoft® PowerPoint® for Office 365', 'creationDate': \"D:20190620145018+07'00'\", 'modDate': \"D:20190620145018+07'00'\", 'trapped': ''})]"
      ]
     },
     "execution_count": 62,
     "metadata": {},
     "output_type": "execute_result"
    }
   ],
   "source": [
    "docs_processed[:5]"
   ]
  },
  {
   "cell_type": "code",
   "execution_count": 63,
   "metadata": {},
   "outputs": [],
   "source": [
    "strings = [doc.page_content for doc in docs_processed]"
   ]
  },
  {
   "cell_type": "code",
   "execution_count": 64,
   "metadata": {},
   "outputs": [
    {
     "data": {
      "text/plain": [
       "['Chapter 3:\\nEnhanced Entity-\\nRelationship (ER) Model\\nJan - 2015\\n Contents\\n2\\n1\\nIntroduction to Enhanced-ER Model\\n2\\nSubclases, Superclases, and Inheritance\\n3\\nSpecialization and Generalization\\n4\\nConstraints and Characteristics of Specialization \\nand Generalization Hierarchies\\n5\\nCategories\\n6\\nDesign Choices, and Formal Definitions\\nJan - 2015',\n",
       " 'Contents\\n3\\n1\\nIntroduction to Enhanced-ER Model\\n2\\nSubclases, Superclases, and Inheritance\\n3\\nSpecialization and Generalization\\n4\\nConstraints and Characteristics of Specialization \\nand Generalization Hierarchies\\n5\\nCategories\\n6\\nDesign Choices, and Formal Definitions\\nJan - 2015',\n",
       " 'Introduction to Enhanced-ER Model \\n(1)\\n\\uf06eEnhanced ER or Extended ER (ER) \\nmodel\\n\\uf071Created to design more acurate database \\nschemas \\n\\uf06eReflect the data properties and constraints more \\nprecisely\\n\\uf071More complex requirements than traditional \\naplications\\n4\\nJan - 2015',\n",
       " 'Introduction to Enhanced-ER Model \\n(2)\\n\\uf06eER model includes al modeling concepts of \\nthe ER model\\n\\uf06eIn adition, ER includes:\\n\\uf071Subclases and superclases\\n\\uf071Specialization and generalization\\n\\uf071Category or union type\\n\\uf071Atribute and relationship inheritance\\n\\uf06eER diagrams\\n\\uf071Diagramatic technique for displaying these concepts \\nin an ER schema\\n5\\nJan - 2015',\n",
       " 'Contents\\n6\\n1\\nIntroduction to Enhanced-ER Model\\n2\\nSubclases, Superclases, and Inheritance\\n3\\nSpecialization and Generalization\\n4\\nConstraints and Characteristics of Specialization \\nand Generalization Hierarchies\\n5\\nCategories\\n6\\nDesign Choices, and Formal Definitions\\nJan - 2015',\n",
       " '\\uf06eSubtype or subclas of an entity type\\n\\uf071Subgroupings of enties that are meaningful\\n\\uf071Represented explicitly because of their significance to the \\ndatabase aplication\\n\\uf06eTerms for relationship betwen a superclas and any \\none of its subclases\\n\\uf071Superclas/subclas\\n\\uf071Supertype/subtype\\n\\uf071Clas/subclas\\n\\uf06eA clas/subclas relationship is often caled an IS-A (IS-\\nAN) relationship.\\n\\n7\\nSubclases, Superclases & Inheritance \\n(1)\\nJan - 2015',\n",
       " '\\uf06eEx: EMPLOYE may be further grouped into \\nSECRETARY, ENGINER, MANAGER, \\nTECHNICIAN, SALARIED_EMPLOYE, \\nHOURLY_EMPLOYE, and so on.\\n\\n\\uf071Set of enties in each subgroups is a subset of the \\nEMPLOYE entity set.\\n\\n\\uf071Each is caled a subclas of EMPLOYE \\n\\uf071EMPLOYE is the superclas for each of these \\nsubclases \\n8\\nSubclases, Superclases & Inheritance \\n(2)\\nJan - 2015',\n",
       " '9\\nER diagram notation to represent subclases & \\nspecialization\\nJan - 2015\\n 10\\nSubclases, Superclases & Inheritance \\n(3)\\n\\uf06eA subclas member is the same as the entity in the \\nsuperclas, but in a distinct specific role \\n\\uf06eAn entity canot exist in the database merely by \\nbeing a member of a subclas; it must also be a \\nmember of the superclas \\n\\uf06eA member of a superclas can be optionaly \\nincluded as a member of some of its subclases\\n\\uf06eIt is not necesary that every entity in a superclas \\nbe a member of some subclas\\n\\uf06eSuperclas/subclas relationship is one-to-one (1:1)\\nJan - 2015',\n",
       " '\\uf06eSubclas entity inherits al atributes and \\nrelationships of superclas\\n\\uf06eNotice that a subclas, with its own specific \\n(or local) atributes and relationships together \\nwith al the atributes and relationships it \\ninherits from the superclas, can be \\nconsidered an entity type in its own right.\\n\\n1\\nSubclases, Superclases & Inheritance \\n(4)\\nJan - 2015',\n",
       " 'Contents\\n12\\n1\\nIntroduction to Enhanced-ER Model\\n2\\nSubclases, Superclases, and Inheritance\\n3\\nSpecialization and Generalization\\n4\\nConstraints and Characteristics of Specialization \\nand Generalization Hierarchies\\n5\\nCategories\\n6\\nDesign Choices, and Formal Definitions\\nJan - 2015']"
      ]
     },
     "execution_count": 64,
     "metadata": {},
     "output_type": "execute_result"
    }
   ],
   "source": [
    "strings[:10]"
   ]
  },
  {
   "cell_type": "code",
   "execution_count": 48,
   "metadata": {},
   "outputs": [
    {
     "name": "stdout",
     "output_type": "stream",
     "text": [
      "CSV file created successfully.\n"
     ]
    }
   ],
   "source": [
    "\n",
    "sentences = strings.copy()\n",
    "\n",
    "# Function to get anchor and positive (anchor is random, positive is the next element)\n",
    "def get_anchor_positive(sentences):\n",
    "    anchor_index = random.randint(0, len(sentences) - 2)  # Ensure there is a next element\n",
    "    anchor = sentences[anchor_index]\n",
    "    positive = sentences[anchor_index + 1]\n",
    "    return anchor, positive\n",
    "\n",
    "# Function to get a negative sentence\n",
    "def get_negative(sentences, anchor, positive):\n",
    "    negative = random.choice(sentences)\n",
    "    while negative == anchor or negative == positive:\n",
    "        negative = random.choice(sentences)\n",
    "    return negative\n",
    "\n",
    "# Create a DataFrame with the specified columns\n",
    "data = {'anchor': [], 'positive': [], 'negative': []}\n",
    "\n",
    "# Populate the DataFrame with 300 rows of data\n",
    "n =1000\n",
    "for _ in range(n):\n",
    "    anchor, positive = get_anchor_positive(sentences)\n",
    "    negative = get_negative(sentences, anchor, positive)\n",
    "    data['anchor'].append(anchor)\n",
    "    data['positive'].append(positive)\n",
    "    data['negative'].append(negative)\n",
    "\n",
    "df = pd.DataFrame(data)\n",
    "\n",
    "# Save the DataFrame to a CSV file\n",
    "df.to_csv('data/triplet_dataset.csv', index=False, escapechar=\"\\\\\")\n",
    "\n",
    "print(\"CSV file created successfully.\")\n",
    "\n"
   ]
  },
  {
   "cell_type": "code",
   "execution_count": 49,
   "metadata": {},
   "outputs": [
    {
     "data": {
      "text/html": [
       "<div>\n",
       "<style scoped>\n",
       "    .dataframe tbody tr th:only-of-type {\n",
       "        vertical-align: middle;\n",
       "    }\n",
       "\n",
       "    .dataframe tbody tr th {\n",
       "        vertical-align: top;\n",
       "    }\n",
       "\n",
       "    .dataframe thead th {\n",
       "        text-align: right;\n",
       "    }\n",
       "</style>\n",
       "<table border=\"1\" class=\"dataframe\">\n",
       "  <thead>\n",
       "    <tr style=\"text-align: right;\">\n",
       "      <th></th>\n",
       "      <th>anchor</th>\n",
       "      <th>positive</th>\n",
       "      <th>negative</th>\n",
       "    </tr>\n",
       "  </thead>\n",
       "  <tbody>\n",
       "    <tr>\n",
       "      <th>0</th>\n",
       "      <td>.\\n\\n.\\n\\n, xk),\\nwhere each Qi, i = 1, 2, .\\n\\n.\\n\\n.\\n\\n, k, is either the existential quan-\\ntiﬁer or the universal quantiﬁer, and P (x1, .\\n\\n.\\n\\n.\\n\\n, xk) is a pred-\\nicate involving no quantiﬁers.\\n\\nFor example, ∃x∀y(P (x, y) ∧\\nQ(y)) is in prenex normal form, whereas ∃xP (x) ∨∀xQ(x)\\nis not (because the quantiﬁers do not al ocur ﬁrst).\\n\\nEvery statement formed from propositional variables,\\npredicates, T, and F using logical conectives and quan-\\ntiﬁers is equivalent to a statement in prenex normal form.</td>\n",
       "      <td>Exercise 51 asks for a prof of this fact.\\n\\n∗50.\\n\\nPut these statements in prenex normal form.\\n\\n[Hint: Use\\nlogical equivalence from Tables 6 and 7 in Section 1.3,\\nTable 2 in Section 1.4, Example 19 in Section 1.4,\\nExercises 45 and 46 in Section 1.4, and Exercises 48 and\\n49.]\\n\\na) ∃xP (x) ∨∃xQ(x) ∨A, where A is a proposition not\\ninvolving any quantiﬁers.\\n\\nb) ¬(∀xP (x) ∨∀xQ(x))\\nc) ∃xP (x) →∃xQ(x)\\n∗∗51.</td>\n",
       "      <td>∃x∃yP (x, y)\\nThere is a pair x, y for which\\nP(x, y) is false for every\\n∃y∃xP (x, y)\\nP(x, y) is true.\\n\\npair x, y.\\nis true.\\n\\nThe order of the quantiﬁcation here is important, because the quantiﬁcation\\n∃z∀x∀yQ(x, y, z),\\nwhich is the statement\\n“There is a real number z such that for al real numbers x and for al real numbers y it is\\ntrue that x + y = z,”\\nis false, because there is no value of z that satisﬁes the equation x + y = z for al values of x\\nand y.</td>\n",
       "    </tr>\n",
       "    <tr>\n",
       "      <th>1</th>\n",
       "      <td>Often, it is not easy to ﬁnd where the eror in reasoning ocurs in such mis-\\ntaken profs.</td>\n",
       "      <td>328\\n5 / Induction and Recursion\\nTo uncover erors in profs by mathematical induction, rember that in every such prof,\\nboth the basis step and the inductive step must be done corectly.\\n\\nNot completing the basis step\\nin a suposed prof by mathematical induction can lead to mistaken profs of clearly ridiculous\\nstatements such as “n = n + 1 whenever n is a positive integer.” (We leave it to the reader to\\nshow that it is easy to construct a corect inductive step in an atempted prof of this statement.)</td>\n",
       "      <td>For example, an architect might make a decision to use React.js for \\nfrontend development.\\n\\nIn this case, the architect is making a technical decision rather than an \\narchitectural decision or design principle that wil help the development team make choices.</td>\n",
       "    </tr>\n",
       "    <tr>\n",
       "      <th>2</th>\n",
       "      <td>15.\\n\\nLet the Chomp board have n\\nrows and n columns.\\n\\nWe claim that the ﬁrst player can win the\\ngame by making the ﬁrst move to leave just the top row and\\nleftmost column.\\n\\nLet P (n) be the statement that if a player\\nhas presented his oponent with a Chomp conﬁguration con-\\nsisting of just n cokies in the top row and n cokies in the\\nleftmost column, then he can win the game.\\n\\nWe wil prove\\n∀nP (n) by strong induction.</td>\n",
       "      <td>We wil prove\\n∀nP (n) by strong induction.\\n\\nWe know that P (1) is true, be-\\ncause the oponent is forced to take the poisoned cokie at\\nhis ﬁrst turn.\\n\\nFix k ≥1 and asume that P (j) is true for al\\nj ≤k.\\n\\nWe claim that P (k + 1) is true.\\n\\nIt is the oponent’s\\nturn to move.\\n\\nIf she picks the poisoned cokie, then the game\\nis over and she loses.\\n\\nOtherwise, asume she picks the cokie\\nin the top row in column j, or the cokie in the left column in\\nrow j, for some j with 2 ≤j ≤k + 1.</td>\n",
       "      <td>0\\n1\\n1/2\\n1/4\\n0\\n–1 per insertion\\n+1 per deletion\\n+2 per insertion\\n–2 per deletion\\n˛\\nˆ\\nˆ per operation\\nT:num\\nT:size\\nT:size=2\\nT:size=4\\nT:size=2\\nT:size=4\\nT:size\\nT:size=4\\nAs the load factor moves away from 1=2, the potential builds up to pay for copying\\nal the items ) the potential neds to increase to num by the time the load factor\\nreaches either 1 or 1=4.</td>\n",
       "    </tr>\n",
       "    <tr>\n",
       "      <th>3</th>\n",
       "      <td>This algorithm\\ncan be used when the list has terms ocuring in order of increasing size (for instance: if the\\nterms are numbers, they are listed from smalest to largest; if they are words, they are listed\\nin lexicographic, or alphabetic, order).\\n\\nThis second searching algorithm is caled the binary\\nsearch algorithm.\\n\\nIt proceds by comparing the element to be located to the midle term of\\nthe list.</td>\n",
       "      <td>It proceds by comparing the element to be located to the midle term of\\nthe list.\\n\\nThe list is then split into two smaler sublists of the same size, or where one of these\\nsmaler lists has one fewer term than the other.\\n\\nThe search continues by restricting the search\\nto the apropriate sublist based on the comparison of the element to be located and the midle\\nterm.\\n\\nIn Section 3.3, it wil be shown that the binary search algorithm is much more efﬁcient\\nthan the linear search algorithm.</td>\n",
       "      <td>The above prof asumed that A is an n  n matrix, where n is an exact power \\nof 2.\\n\\nIf n is not an exact power of 2, then let k &lt; n be such that n C k is an exact \\npower of 2, and deûne the .n C k/  .n C k/ matrix A \\n0 as \\nA \\n0 D \\nÏ A\\n0 \\n0\\nI \\nk \\nÐ \\n: \\nThen the inverse of A \\n0 is \\nÏ A\\n0 \\n0\\nI \\nk \\nÐ \\n1 \\nD \\nÏ A \\n1 \\n0 \\n0\\nI \\nk \\nÐ \\n; \\nAply the method of the prof to A \\n0 to compute the inverse of A \\n0 , and take the ûrst \\nn rows and n columns of the result as the desired answer A \\n1 .</td>\n",
       "    </tr>\n",
       "    <tr>\n",
       "      <th>4</th>\n",
       "      <td>.\\n\\n.\\n\\n, xn.\\n\\nThe notation identiﬁes a path only as far as which the vertices it pases through.\\n\\nThere may be more than one path that pases through this sequence of vertices, which wil\\nhapen if and only if there are multiple edges betwen two sucesive vertices in the list.\\n\\nPaths represent useful information in many graph models, as Examples 2–4 demonstrate.</td>\n",
       "      <td>Paths represent useful information in many graph models, as Examples 2–4 demonstrate.\\n\\nEXAMPLE 2\\nPaths in Acquaintanceship Graphs\\nIn an acquaintanceship graph there is a path betwen\\ntwo people if there is a chain of people linking these people, where two people adjacent in\\nthe chain know one another.\\n\\nFor example, in Figure 6 in Section 10.1, there is a chain of six\\npeople linking Kamini and Ching.</td>\n",
       "      <td>**b)** If \\(n=2\\), apply the Euclidean algorithm.\\n\\nOtherwise, apply the Euclidean algorithm to \\(a_{n-1}\\) and \\(a_{n}\\), obtaining \\(d=\\gcd(a_{n-1},a_{n})\\), and then apply the algorithm recursively to \\(a_{1}\\), \\(a_{2}\\), \\(\\ldots\\), \\(a_{n-2}\\), \\(d\\).\\n\\n**55.**\\(f(n)=n^{2}\\).\\n\\nLet \\(P(n)\\) be \"\\(f(n)=n^{2}\\).\"\\n\\n_Basis step:_\\(P(1)\\) is true because \\(f(1)=1=1^{2}\\), which follows from the definition of \\(f\\).</td>\n",
       "    </tr>\n",
       "  </tbody>\n",
       "</table>\n",
       "</div>"
      ],
      "text/plain": [
       "                                                                                                                                                                                                                                                                                                                                                                                                                                                                                                                                     anchor  \\\n",
       "0  .\\n\\n.\\n\\n, xk),\\nwhere each Qi, i = 1, 2, .\\n\\n.\\n\\n.\\n\\n, k, is either the existential quan-\\ntiﬁer or the universal quantiﬁer, and P (x1, .\\n\\n.\\n\\n.\\n\\n, xk) is a pred-\\nicate involving no quantiﬁers.\\n\\nFor example, ∃x∀y(P (x, y) ∧\\nQ(y)) is in prenex normal form, whereas ∃xP (x) ∨∀xQ(x)\\nis not (because the quantiﬁers do not al ocur ﬁrst).\\n\\nEvery statement formed from propositional variables,\\npredicates, T, and F using logical conectives and quan-\\ntiﬁers is equivalent to a statement in prenex normal form.   \n",
       "1                                                                                                                                                                                                                                                                                                                                                                                                                                                 Often, it is not easy to ﬁnd where the eror in reasoning ocurs in such mis-\\ntaken profs.   \n",
       "2                                                                                         15.\\n\\nLet the Chomp board have n\\nrows and n columns.\\n\\nWe claim that the ﬁrst player can win the\\ngame by making the ﬁrst move to leave just the top row and\\nleftmost column.\\n\\nLet P (n) be the statement that if a player\\nhas presented his oponent with a Chomp conﬁguration con-\\nsisting of just n cokies in the top row and n cokies in the\\nleftmost column, then he can win the game.\\n\\nWe wil prove\\n∀nP (n) by strong induction.   \n",
       "3                                                                                                                    This algorithm\\ncan be used when the list has terms ocuring in order of increasing size (for instance: if the\\nterms are numbers, they are listed from smalest to largest; if they are words, they are listed\\nin lexicographic, or alphabetic, order).\\n\\nThis second searching algorithm is caled the binary\\nsearch algorithm.\\n\\nIt proceds by comparing the element to be located to the midle term of\\nthe list.   \n",
       "4                                                                                                                                                         .\\n\\n.\\n\\n, xn.\\n\\nThe notation identiﬁes a path only as far as which the vertices it pases through.\\n\\nThere may be more than one path that pases through this sequence of vertices, which wil\\nhapen if and only if there are multiple edges betwen two sucesive vertices in the list.\\n\\nPaths represent useful information in many graph models, as Examples 2–4 demonstrate.   \n",
       "\n",
       "                                                                                                                                                                                                                                                                                                                                                                                                                                                                                                                      positive  \\\n",
       "0                                                                                            Exercise 51 asks for a prof of this fact.\\n\\n∗50.\\n\\nPut these statements in prenex normal form.\\n\\n[Hint: Use\\nlogical equivalence from Tables 6 and 7 in Section 1.3,\\nTable 2 in Section 1.4, Example 19 in Section 1.4,\\nExercises 45 and 46 in Section 1.4, and Exercises 48 and\\n49.]\\n\\na) ∃xP (x) ∨∃xQ(x) ∨A, where A is a proposition not\\ninvolving any quantiﬁers.\\n\\nb) ¬(∀xP (x) ∨∀xQ(x))\\nc) ∃xP (x) →∃xQ(x)\\n∗∗51.   \n",
       "1  328\\n5 / Induction and Recursion\\nTo uncover erors in profs by mathematical induction, rember that in every such prof,\\nboth the basis step and the inductive step must be done corectly.\\n\\nNot completing the basis step\\nin a suposed prof by mathematical induction can lead to mistaken profs of clearly ridiculous\\nstatements such as “n = n + 1 whenever n is a positive integer.” (We leave it to the reader to\\nshow that it is easy to construct a corect inductive step in an atempted prof of this statement.)   \n",
       "2             We wil prove\\n∀nP (n) by strong induction.\\n\\nWe know that P (1) is true, be-\\ncause the oponent is forced to take the poisoned cokie at\\nhis ﬁrst turn.\\n\\nFix k ≥1 and asume that P (j) is true for al\\nj ≤k.\\n\\nWe claim that P (k + 1) is true.\\n\\nIt is the oponent’s\\nturn to move.\\n\\nIf she picks the poisoned cokie, then the game\\nis over and she loses.\\n\\nOtherwise, asume she picks the cokie\\nin the top row in column j, or the cokie in the left column in\\nrow j, for some j with 2 ≤j ≤k + 1.   \n",
       "3            It proceds by comparing the element to be located to the midle term of\\nthe list.\\n\\nThe list is then split into two smaler sublists of the same size, or where one of these\\nsmaler lists has one fewer term than the other.\\n\\nThe search continues by restricting the search\\nto the apropriate sublist based on the comparison of the element to be located and the midle\\nterm.\\n\\nIn Section 3.3, it wil be shown that the binary search algorithm is much more efﬁcient\\nthan the linear search algorithm.   \n",
       "4                                                                                                   Paths represent useful information in many graph models, as Examples 2–4 demonstrate.\\n\\nEXAMPLE 2\\nPaths in Acquaintanceship Graphs\\nIn an acquaintanceship graph there is a path betwen\\ntwo people if there is a chain of people linking these people, where two people adjacent in\\nthe chain know one another.\\n\\nFor example, in Figure 6 in Section 10.1, there is a chain of six\\npeople linking Kamini and Ching.   \n",
       "\n",
       "                                                                                                                                                                                                                                                                                                                                                                                                                                                                                                                                    negative  \n",
       "0                                                     ∃x∃yP (x, y)\\nThere is a pair x, y for which\\nP(x, y) is false for every\\n∃y∃xP (x, y)\\nP(x, y) is true.\\n\\npair x, y.\\nis true.\\n\\nThe order of the quantiﬁcation here is important, because the quantiﬁcation\\n∃z∀x∀yQ(x, y, z),\\nwhich is the statement\\n“There is a real number z such that for al real numbers x and for al real numbers y it is\\ntrue that x + y = z,”\\nis false, because there is no value of z that satisﬁes the equation x + y = z for al values of x\\nand y.  \n",
       "1                                                                                                                                                                                                                                                                     For example, an architect might make a decision to use React.js for \\nfrontend development.\\n\\nIn this case, the architect is making a technical decision rather than an \\narchitectural decision or design principle that wil help the development team make choices.  \n",
       "2                                                                                                                                                   0\\n1\\n1/2\\n1/4\\n0\\n–1 per insertion\\n+1 per deletion\\n+2 per insertion\\n–2 per deletion\\n˛\\nˆ\\nˆ per operation\\nT:num\\nT:size\\nT:size=2\\nT:size=4\\nT:size=2\\nT:size=4\\nT:size\\nT:size=4\\nAs the load factor moves away from 1=2, the potential builds up to pay for copying\\nal the items ) the potential neds to increase to num by the time the load factor\\nreaches either 1 or 1=4.  \n",
       "3  The above prof asumed that A is an n  n matrix, where n is an exact power \\nof 2.\\n\\nIf n is not an exact power of 2, then let k < n be such that n C k is an exact \\npower of 2, and deûne the .n C k/  .n C k/ matrix A \\n0 as \\nA \\n0 D \\nÏ A\\n0 \\n0\\nI \\nk \\nÐ \\n: \\nThen the inverse of A \\n0 is \\nÏ A\\n0 \\n0\\nI \\nk \\nÐ \\n1 \\nD \\nÏ A \\n1 \\n0 \\n0\\nI \\nk \\nÐ \\n; \\nAply the method of the prof to A \\n0 to compute the inverse of A \\n0 , and take the ûrst \\nn rows and n columns of the result as the desired answer A \\n1 .  \n",
       "4                                                                                                   **b)** If \\(n=2\\), apply the Euclidean algorithm.\\n\\nOtherwise, apply the Euclidean algorithm to \\(a_{n-1}\\) and \\(a_{n}\\), obtaining \\(d=\\gcd(a_{n-1},a_{n})\\), and then apply the algorithm recursively to \\(a_{1}\\), \\(a_{2}\\), \\(\\ldots\\), \\(a_{n-2}\\), \\(d\\).\\n\\n**55.**\\(f(n)=n^{2}\\).\\n\\nLet \\(P(n)\\) be \"\\(f(n)=n^{2}\\).\"\\n\\n_Basis step:_\\(P(1)\\) is true because \\(f(1)=1=1^{2}\\), which follows from the definition of \\(f\\).  "
      ]
     },
     "execution_count": 49,
     "metadata": {},
     "output_type": "execute_result"
    }
   ],
   "source": [
    "df.head()"
   ]
  },
  {
   "cell_type": "code",
   "execution_count": 50,
   "metadata": {},
   "outputs": [
    {
     "data": {
      "text/plain": [
       "1000"
      ]
     },
     "execution_count": 50,
     "metadata": {},
     "output_type": "execute_result"
    }
   ],
   "source": [
    "len(df)"
   ]
  }
 ],
 "metadata": {
  "kernelspec": {
   "display_name": "venv",
   "language": "python",
   "name": "python3"
  },
  "language_info": {
   "codemirror_mode": {
    "name": "ipython",
    "version": 3
   },
   "file_extension": ".py",
   "mimetype": "text/x-python",
   "name": "python",
   "nbconvert_exporter": "python",
   "pygments_lexer": "ipython3",
   "version": "3.10.12"
  }
 },
 "nbformat": 4,
 "nbformat_minor": 2
}
