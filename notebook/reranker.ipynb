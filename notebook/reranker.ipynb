{
 "cells": [
  {
   "cell_type": "code",
   "execution_count": 1,
   "metadata": {},
   "outputs": [
    {
     "name": "stdout",
     "output_type": "stream",
     "text": [
      "/home/mrzaizai2k/code_Bao/LLM-with-RAG/notebook\n"
     ]
    }
   ],
   "source": [
    "import os\n",
    "try:\n",
    "    print(file_path)\n",
    "except:\n",
    "    file_path = os.path.abspath('')\n",
    "    os.chdir(os.path.dirname(file_path))\n",
    "    print(file_path)"
   ]
  },
  {
   "cell_type": "code",
   "execution_count": 2,
   "metadata": {},
   "outputs": [
    {
     "name": "stderr",
     "output_type": "stream",
     "text": [
      "[nltk_data] Downloading package punkt to /home/mrzaizai2k/nltk_data...\n",
      "[nltk_data]   Package punkt is already up-to-date!\n"
     ]
    }
   ],
   "source": [
    "from langchain_community.document_loaders import (\n",
    "                                                  PyMuPDFLoader,\n",
    "                                                  NewsURLLoader,\n",
    "                                                  YoutubeLoader,\n",
    "                                                  )\n",
    "from langchain_text_splitters import RecursiveCharacterTextSplitter, TokenTextSplitter, NLTKTextSplitter, SpacyTextSplitter\n",
    "from src.utils import *\n",
    "from src.ragqa import *"
   ]
  },
  {
   "cell_type": "code",
   "execution_count": 3,
   "metadata": {},
   "outputs": [
    {
     "name": "stdout",
     "output_type": "stream",
     "text": [
      "Selected device: cuda\n"
     ]
    }
   ],
   "source": [
    "device = take_device()"
   ]
  },
  {
   "cell_type": "code",
   "execution_count": 4,
   "metadata": {},
   "outputs": [],
   "source": [
    "data = config_parser(data_config_path = 'config/data_config.yaml')"
   ]
  },
  {
   "cell_type": "code",
   "execution_count": 5,
   "metadata": {},
   "outputs": [
    {
     "name": "stdout",
     "output_type": "stream",
     "text": [
      "Selected device: cuda\n"
     ]
    },
    {
     "name": "stderr",
     "output_type": "stream",
     "text": [
      "/home/mrzaizai2k/code_Bao/LLM-with-RAG/venv/lib/python3.10/site-packages/faiss/loader.py:6: DeprecationWarning: The distutils package is deprecated and slated for removal in Python 3.12. Use setuptools or check PEP 632 for potential alternatives\n",
      "  from distutils.version import LooseVersion\n"
     ]
    }
   ],
   "source": [
    "rag_system = RagSystem(data_config_path='config/model_config.yaml')"
   ]
  },
  {
   "cell_type": "code",
   "execution_count": 6,
   "metadata": {},
   "outputs": [
    {
     "name": "stdout",
     "output_type": "stream",
     "text": [
      "result: \n",
      "1. Testing shows the presence of defects, not their absence\n",
      "2. Exhaustive testing is impossible\n",
      "3. Testing activities should start as early as possible\n",
      "4. Defect clustering\n",
      "5. The pesticide paradox\n",
      "6. Testing is context dependent\n",
      "7. No failures means the system is useful is a fallacy.\n",
      "--page_content 0: Basic principles of software testing [2]\n",
      "´ Principle 1: Testing shows the presence of defects, not their absence.\n",
      "\n",
      "´ Principle 2: Exhaustive testing is impossible.\n",
      "\n",
      "´ Principle 3: Testing activities should start as early as possible.\n",
      "\n",
      "´ Principle 4: Defect clustering.\n",
      "\n",
      "´ Principle 5: The pesticide paradox.\n",
      "\n",
      "´ Principle 6: Testing is context dependent.\n",
      "\n",
      "´ Principle 7: No failures means the system is useful is a fallacy.\n",
      "\n",
      "Aug 2022\n",
      "Software Testing - Introduction\n",
      "8\n",
      "--metadata 0: {'source': 'data/web_data/1_Introduction to Software Testing.pdf', 'file_path': 'data/web_data/1_Introduction to Software Testing.pdf', 'page': 7, 'total_pages': 15, 'format': 'PDF 1.4', 'title': '', 'author': '', 'subject': '', 'keywords': '', 'creator': '', 'producer': 'macOS Version 13.4.1 (c) (Build 22F770820d) Quartz PDFContext', 'creationDate': \"D:20240106045500Z00'00'\", 'modDate': \"D:20240106045500Z00'00'\", 'trapped': ''}\n",
      "--page_content 1: CH1.\n",
      "\n",
      "INTRODUCTION\n",
      "SOFTWARE \n",
      "TESTING\n",
      "CO3015 / CO5252\n",
      " ´ The role and the importance of software testing\n",
      "´ Testing levels\n",
      "´ Testcases\n",
      "´ Basic principles of software testing\n",
      "´ Testing process and plan\n",
      "´ Test automation\n",
      "Content\n",
      "Aug 2022\n",
      "Software Testing - Introduction\n",
      "2\n",
      "--metadata 1: {'source': 'data/web_data/1_Introduction to Software Testing.pdf', 'file_path': 'data/web_data/1_Introduction to Software Testing.pdf', 'page': 1, 'total_pages': 15, 'format': 'PDF 1.4', 'title': '', 'author': '', 'subject': '', 'keywords': '', 'creator': '', 'producer': 'macOS Version 13.4.1 (c) (Build 22F770820d) Quartz PDFContext', 'creationDate': \"D:20240106045500Z00'00'\", 'modDate': \"D:20240106045500Z00'00'\", 'trapped': ''}\n",
      "--page_content 2: SYSTEM TESTING\n",
      "Jan 2024\n",
      "Software Testing - Higher-order testing\n",
      "14\n",
      " System Testing\n",
      "■A level of testing that validates the complete and fully integrated \n",
      "software product.\n",
      "\n",
      "■Purpose is to evaluate the end-to-end system specifications.\n",
      "\n",
      "– Usually, the software is only one element of a larger computer-\n",
      "based system.\n",
      "\n",
      "– Ultimately, the software is interfaced with other \n",
      "software/hardware systems.\n",
      "\n",
      "■Is a series of different tests whose sole purpose is to exercise the \n",
      "full computer-based system.\n",
      "--metadata 2: {'source': 'data/web_data/6_Higher-order testing.pdf', 'file_path': 'data/web_data/6_Higher-order testing.pdf', 'page': 14, 'total_pages': 47, 'format': 'PDF 1.4', 'title': '', 'author': '', 'subject': '', 'keywords': '', 'creator': '', 'producer': 'macOS Version 13.4.1 (c) (Build 22F770820d) Quartz PDFContext', 'creationDate': \"D:20240107043502Z00'00'\", 'modDate': \"D:20240107043502Z00'00'\", 'trapped': ''}\n",
      "--page_content 3: 2011.\n",
      "\n",
      "The Art of Software Testing (3rd.\n",
      "\n",
      "ed.).\n",
      "\n",
      "Wiley Publishing.\n",
      "--metadata 3: {'source': 'data/web_data/6_Higher-order testing.pdf', 'file_path': 'data/web_data/6_Higher-order testing.pdf', 'page': 16, 'total_pages': 47, 'format': 'PDF 1.4', 'title': '', 'author': '', 'subject': '', 'keywords': '', 'creator': '', 'producer': 'macOS Version 13.4.1 (c) (Build 22F770820d) Quartz PDFContext', 'creationDate': \"D:20240107043502Z00'00'\", 'modDate': \"D:20240107043502Z00'00'\", 'trapped': ''}\n",
      "--page_content 4: Testing process – The general V-model [2]\n",
      "Aug 2022\n",
      "Software Testing - Introduction\n",
      "9\n",
      " Aug 2022\n",
      "Software Testing - Introduction\n",
      "10\n",
      "A MODEL OF THE SOFTWARE TESTING PROCESS\n",
      "Sep 2019\n",
      "CHAPTER 8.\n",
      "\n",
      "SOFTWARE TESTING\n",
      "8\n",
      "Design test\n",
      "cases\n",
      "Prepare test\n",
      "data\n",
      "Run program\n",
      "with test data\n",
      "Compare results\n",
      "to test cases\n",
      "T\n",
      "est\n",
      "cases\n",
      "T\n",
      "est\n",
      "data\n",
      "T\n",
      "est\n",
      "results\n",
      "T\n",
      "est\n",
      "reports\n",
      "--metadata 4: {'source': 'data/web_data/1_Introduction to Software Testing.pdf', 'file_path': 'data/web_data/1_Introduction to Software Testing.pdf', 'page': 9, 'total_pages': 15, 'format': 'PDF 1.4', 'title': '', 'author': '', 'subject': '', 'keywords': '', 'creator': '', 'producer': 'macOS Version 13.4.1 (c) (Build 22F770820d) Quartz PDFContext', 'creationDate': \"D:20240106045500Z00'00'\", 'modDate': \"D:20240106045500Z00'00'\", 'trapped': ''}\n",
      "None\n"
     ]
    }
   ],
   "source": [
    "# rag_system.update_vector_db()\n",
    "query=\"Tell me in detail The principles of software testing\"\n",
    "result = rag_system.final_result(query)\n",
    "# print('result\\n', result)\n",
    "print(format_result(result=result))"
   ]
  },
  {
   "cell_type": "code",
   "execution_count": 7,
   "metadata": {},
   "outputs": [
    {
     "data": {
      "text/plain": [
       "{'query': 'The principles of software testing',\n",
       " 'source_documents': [Document(page_content='Basic principles of software testing [2]\\n´ Principle 1: Testing shows the presence of defects, not their absence.\\n\\n´ Principle 2: Exhaustive testing is impossible.\\n\\n´ Principle 3: Testing activities should start as early as possible.\\n\\n´ Principle 4: Defect clustering.\\n\\n´ Principle 5: The pesticide paradox.\\n\\n´ Principle 6: Testing is context dependent.\\n\\n´ Principle 7: No failures means the system is useful is a fallacy.\\n\\nAug 2022\\nSoftware Testing - Introduction\\n8', metadata={'source': 'data/web_data/1_Introduction to Software Testing.pdf', 'file_path': 'data/web_data/1_Introduction to Software Testing.pdf', 'page': 7, 'total_pages': 15, 'format': 'PDF 1.4', 'title': '', 'author': '', 'subject': '', 'keywords': '', 'creator': '', 'producer': 'macOS Version 13.4.1 (c) (Build 22F770820d) Quartz PDFContext', 'creationDate': \"D:20240106045500Z00'00'\", 'modDate': \"D:20240106045500Z00'00'\", 'trapped': ''}),\n",
       "  Document(page_content='CH1.\\n\\nINTRODUCTION\\nSOFTWARE \\nTESTING\\nCO3015 / CO5252\\n ´ The role and the importance of software testing\\n´ Testing levels\\n´ Testcases\\n´ Basic principles of software testing\\n´ Testing process and plan\\n´ Test automation\\nContent\\nAug 2022\\nSoftware Testing - Introduction\\n2', metadata={'source': 'data/web_data/1_Introduction to Software Testing.pdf', 'file_path': 'data/web_data/1_Introduction to Software Testing.pdf', 'page': 1, 'total_pages': 15, 'format': 'PDF 1.4', 'title': '', 'author': '', 'subject': '', 'keywords': '', 'creator': '', 'producer': 'macOS Version 13.4.1 (c) (Build 22F770820d) Quartz PDFContext', 'creationDate': \"D:20240106045500Z00'00'\", 'modDate': \"D:20240106045500Z00'00'\", 'trapped': ''}),\n",
       "  Document(page_content='SYSTEM TESTING\\nJan 2024\\nSoftware Testing - Higher-order testing\\n14\\n System Testing\\n■A level of testing that validates the complete and fully integrated \\nsoftware product.\\n\\n■Purpose is to evaluate the end-to-end system specifications.\\n\\n– Usually, the software is only one element of a larger computer-\\nbased system.\\n\\n– Ultimately, the software is interfaced with other \\nsoftware/hardware systems.\\n\\n■Is a series of different tests whose sole purpose is to exercise the \\nfull computer-based system.', metadata={'source': 'data/web_data/6_Higher-order testing.pdf', 'file_path': 'data/web_data/6_Higher-order testing.pdf', 'page': 14, 'total_pages': 47, 'format': 'PDF 1.4', 'title': '', 'author': '', 'subject': '', 'keywords': '', 'creator': '', 'producer': 'macOS Version 13.4.1 (c) (Build 22F770820d) Quartz PDFContext', 'creationDate': \"D:20240107043502Z00'00'\", 'modDate': \"D:20240107043502Z00'00'\", 'trapped': ''}),\n",
       "  Document(page_content='2011.\\n\\nThe Art of Software Testing (3rd.\\n\\ned.).\\n\\nWiley Publishing.', metadata={'source': 'data/web_data/6_Higher-order testing.pdf', 'file_path': 'data/web_data/6_Higher-order testing.pdf', 'page': 16, 'total_pages': 47, 'format': 'PDF 1.4', 'title': '', 'author': '', 'subject': '', 'keywords': '', 'creator': '', 'producer': 'macOS Version 13.4.1 (c) (Build 22F770820d) Quartz PDFContext', 'creationDate': \"D:20240107043502Z00'00'\", 'modDate': \"D:20240107043502Z00'00'\", 'trapped': ''}),\n",
       "  Document(page_content='Testing process – The general V-model [2]\\nAug 2022\\nSoftware Testing - Introduction\\n9\\n Aug 2022\\nSoftware Testing - Introduction\\n10\\nA MODEL OF THE SOFTWARE TESTING PROCESS\\nSep 2019\\nCHAPTER 8.\\n\\nSOFTWARE TESTING\\n8\\nDesign test\\ncases\\nPrepare test\\ndata\\nRun program\\nwith test data\\nCompare results\\nto test cases\\nT\\nest\\ncases\\nT\\nest\\ndata\\nT\\nest\\nresults\\nT\\nest\\nreports', metadata={'source': 'data/web_data/1_Introduction to Software Testing.pdf', 'file_path': 'data/web_data/1_Introduction to Software Testing.pdf', 'page': 9, 'total_pages': 15, 'format': 'PDF 1.4', 'title': '', 'author': '', 'subject': '', 'keywords': '', 'creator': '', 'producer': 'macOS Version 13.4.1 (c) (Build 22F770820d) Quartz PDFContext', 'creationDate': \"D:20240106045500Z00'00'\", 'modDate': \"D:20240106045500Z00'00'\", 'trapped': ''})],\n",
       " 'result': '\\n1. Testing shows the presence of defects, not their absence\\n2. Exhaustive testing is impossible\\n3. Testing activities should start as early as possible\\n4. Defect clustering\\n5. The pesticide paradox\\n6. Testing is context dependent\\n7. No failures means the system is useful is a fallacy.',\n",
       " 'model_type': 'gpt-3.5-turbo-instruct'}"
      ]
     },
     "execution_count": 7,
     "metadata": {},
     "output_type": "execute_result"
    }
   ],
   "source": [
    "result"
   ]
  },
  {
   "cell_type": "code",
   "execution_count": 8,
   "metadata": {},
   "outputs": [],
   "source": [
    "from sentence_transformers import SentenceTransformer, util\n",
    "\n",
    "model = SentenceTransformer(\"BAAI/bge-m3\")"
   ]
  },
  {
   "cell_type": "code",
   "execution_count": 11,
   "metadata": {},
   "outputs": [],
   "source": [
    "def rerank_document_similarity(model, query, result, n_docs:int = None):\n",
    "    be4_rank_docs  = [txt.page_content for txt in result['source_documents']]\n",
    "    query_embedding = model.encode(query)\n",
    "    passage_embedding = model.encode(be4_rank_docs)\n",
    "    similarity_scores = util.dot_score(query_embedding, passage_embedding)\n",
    "    sorted_scores, sorted_indices = torch.sort(similarity_scores, descending=True)\n",
    "    print(sorted_scores, sorted_indices)\n",
    "    # Sort the original list of texts based on the sorted indices\n",
    "    result['source_documents'] = [result['source_documents'][idx] for idx in sorted_indices.tolist()[0]]\n",
    "    if n_docs:\n",
    "        result['source_documents'] = result['source_documents'][:n_docs]\n",
    "\n",
    "    return result"
   ]
  },
  {
   "cell_type": "code",
   "execution_count": 14,
   "metadata": {},
   "outputs": [
    {
     "name": "stdout",
     "output_type": "stream",
     "text": [
      "tensor([[0.7841, 0.6325, 0.6091]]) tensor([[0, 1, 2]])\n"
     ]
    }
   ],
   "source": [
    "result_2 = rerank_document_similarity(model, query, result)"
   ]
  },
  {
   "cell_type": "code",
   "execution_count": 13,
   "metadata": {},
   "outputs": [
    {
     "data": {
      "text/plain": [
       "{'query': 'The principles of software testing',\n",
       " 'source_documents': [Document(page_content='Basic principles of software testing [2]\\n´ Principle 1: Testing shows the presence of defects, not their absence.\\n\\n´ Principle 2: Exhaustive testing is impossible.\\n\\n´ Principle 3: Testing activities should start as early as possible.\\n\\n´ Principle 4: Defect clustering.\\n\\n´ Principle 5: The pesticide paradox.\\n\\n´ Principle 6: Testing is context dependent.\\n\\n´ Principle 7: No failures means the system is useful is a fallacy.\\n\\nAug 2022\\nSoftware Testing - Introduction\\n8', metadata={'source': 'data/web_data/1_Introduction to Software Testing.pdf', 'file_path': 'data/web_data/1_Introduction to Software Testing.pdf', 'page': 7, 'total_pages': 15, 'format': 'PDF 1.4', 'title': '', 'author': '', 'subject': '', 'keywords': '', 'creator': '', 'producer': 'macOS Version 13.4.1 (c) (Build 22F770820d) Quartz PDFContext', 'creationDate': \"D:20240106045500Z00'00'\", 'modDate': \"D:20240106045500Z00'00'\", 'trapped': ''}),\n",
       "  Document(page_content='SYSTEM TESTING\\nJan 2024\\nSoftware Testing - Higher-order testing\\n14\\n System Testing\\n■A level of testing that validates the complete and fully integrated \\nsoftware product.\\n\\n■Purpose is to evaluate the end-to-end system specifications.\\n\\n– Usually, the software is only one element of a larger computer-\\nbased system.\\n\\n– Ultimately, the software is interfaced with other \\nsoftware/hardware systems.\\n\\n■Is a series of different tests whose sole purpose is to exercise the \\nfull computer-based system.', metadata={'source': 'data/web_data/6_Higher-order testing.pdf', 'file_path': 'data/web_data/6_Higher-order testing.pdf', 'page': 14, 'total_pages': 47, 'format': 'PDF 1.4', 'title': '', 'author': '', 'subject': '', 'keywords': '', 'creator': '', 'producer': 'macOS Version 13.4.1 (c) (Build 22F770820d) Quartz PDFContext', 'creationDate': \"D:20240107043502Z00'00'\", 'modDate': \"D:20240107043502Z00'00'\", 'trapped': ''}),\n",
       "  Document(page_content='Testing process – The general V-model [2]\\nAug 2022\\nSoftware Testing - Introduction\\n9\\n Aug 2022\\nSoftware Testing - Introduction\\n10\\nA MODEL OF THE SOFTWARE TESTING PROCESS\\nSep 2019\\nCHAPTER 8.\\n\\nSOFTWARE TESTING\\n8\\nDesign test\\ncases\\nPrepare test\\ndata\\nRun program\\nwith test data\\nCompare results\\nto test cases\\nT\\nest\\ncases\\nT\\nest\\ndata\\nT\\nest\\nresults\\nT\\nest\\nreports', metadata={'source': 'data/web_data/1_Introduction to Software Testing.pdf', 'file_path': 'data/web_data/1_Introduction to Software Testing.pdf', 'page': 9, 'total_pages': 15, 'format': 'PDF 1.4', 'title': '', 'author': '', 'subject': '', 'keywords': '', 'creator': '', 'producer': 'macOS Version 13.4.1 (c) (Build 22F770820d) Quartz PDFContext', 'creationDate': \"D:20240106045500Z00'00'\", 'modDate': \"D:20240106045500Z00'00'\", 'trapped': ''})],\n",
       " 'result': '\\n1. Testing shows the presence of defects, not their absence\\n2. Exhaustive testing is impossible\\n3. Testing activities should start as early as possible\\n4. Defect clustering\\n5. The pesticide paradox\\n6. Testing is context dependent\\n7. No failures means the system is useful is a fallacy.',\n",
       " 'model_type': 'gpt-3.5-turbo-instruct'}"
      ]
     },
     "execution_count": 13,
     "metadata": {},
     "output_type": "execute_result"
    }
   ],
   "source": [
    "result_2"
   ]
  }
 ],
 "metadata": {
  "kernelspec": {
   "display_name": "venv",
   "language": "python",
   "name": "python3"
  },
  "language_info": {
   "codemirror_mode": {
    "name": "ipython",
    "version": 3
   },
   "file_extension": ".py",
   "mimetype": "text/x-python",
   "name": "python",
   "nbconvert_exporter": "python",
   "pygments_lexer": "ipython3",
   "version": "3.10.12"
  }
 },
 "nbformat": 4,
 "nbformat_minor": 2
}
